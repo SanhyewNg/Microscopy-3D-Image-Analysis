{
 "cells": [
  {
   "cell_type": "markdown",
   "metadata": {},
   "source": [
    "# Processing image and volume crops\n",
    "Here we will create simple tools for analysis of existing crops:\n",
    "- given full input volume and a crop find its position in it and save to file\n",
    "- given position of the crops, crop the original (handle multi channel volume)\n",
    "- validate created crops\n",
    "\n",
    "\n",
    "### Contents:\n",
    "1. Loading and setting up data paths\n",
    "2. Show cropping in 2d and 3d\n",
    "3. Run info extractor on all existing annotations\n",
    "4. Validate cropping information"
   ]
  },
  {
   "cell_type": "code",
   "execution_count": null,
   "metadata": {},
   "outputs": [],
   "source": [
    "from notebook_utils import *\n",
    "\n",
    "import imageio\n",
    "import skimage.segmentation\n",
    "import skimage.filters\n",
    "\n",
    "import scipy.stats\n",
    "\n",
    "import random\n",
    "\n",
    "import os\n",
    "import shutil\n",
    "\n",
    "from tqdm import tqdm as tqdm\n",
    "\n",
    "%matplotlib inline"
   ]
  },
  {
   "cell_type": "markdown",
   "metadata": {},
   "source": [
    "## Setup paths and common methods"
   ]
  },
  {
   "cell_type": "code",
   "execution_count": null,
   "metadata": {},
   "outputs": [],
   "source": [
    "import clb.utils"
   ]
  },
  {
   "cell_type": "code",
   "execution_count": null,
   "metadata": {},
   "outputs": [],
   "source": [
    "data_root = r'D:\\Fafa\\MIT\\CellDx'"
   ]
  },
  {
   "cell_type": "markdown",
   "metadata": {},
   "source": [
    "# Cropping in 2d and 3d"
   ]
  },
  {
   "cell_type": "markdown",
   "metadata": {},
   "source": [
    "## Load input data"
   ]
  },
  {
   "cell_type": "code",
   "execution_count": null,
   "metadata": {},
   "outputs": [],
   "source": [
    "dir_root = r'D:\\Fafa\\MIT\\CellDx\\_finding_crops'\n",
    "path_3d = os.path.join(dir_root, 'full_volume.tif')\n",
    "full = clb.utils.normalize_channels_volume(imageio.volread(path_3d))"
   ]
  },
  {
   "cell_type": "code",
   "execution_count": null,
   "metadata": {},
   "outputs": [],
   "source": [
    "path_3d = os.path.join(dir_root, 'substack.tif')\n",
    "cp_segm_mult_channel = imageio.volread(path_3d) \n",
    "cp_segm_3 = imageio.volread(path_3d)[::,::,::,2].copy()\n",
    "show_all(1,2,cp_segm_3[0], cp_segm_3[-5], scale=5)"
   ]
  },
  {
   "cell_type": "code",
   "execution_count": null,
   "metadata": {},
   "outputs": [],
   "source": [
    "path_crop = os.path.join(dir_root, '#8T 2048_1024 crop_2 slim_dapi.tif')\n",
    "crop_volume = clb.utils.normalize_channels_volume(imageio.volread(path_crop))\n",
    "\n",
    "path_crop = os.path.join(dir_root, 'mini_crop_20.tif')\n",
    "crop = imageio.volread(path_crop)[::,::,2]\n",
    "show_all(1,2,crop_volume[0], crop, scale=5)"
   ]
  },
  {
   "cell_type": "markdown",
   "metadata": {},
   "source": [
    "### Sample cropping"
   ]
  },
  {
   "cell_type": "code",
   "execution_count": null,
   "metadata": {},
   "outputs": [],
   "source": [
    "single = cp_segm_3[0]\n",
    "crop_in_single = single[30:230,50:250]\n",
    "single_marked = single.copy()\n",
    "single_marked[30:230,50:250] = 255*255\n",
    "\n",
    "import clb.image_processing\n",
    "#correlation2 = correlate2d(single_small, crop_in_single_small - crop_in_single_small.mean(), boundary='symm', mode='same')\n",
    "correlation2 = clb.image_processing.correlate2d_with_fft(single, crop_in_single - crop_in_single.mean())\n",
    "show_all(1,2,single_marked, correlation2, scale=10)"
   ]
  },
  {
   "cell_type": "markdown",
   "metadata": {},
   "source": [
    "### Find cropped volume in 3D"
   ]
  },
  {
   "cell_type": "code",
   "execution_count": null,
   "metadata": {},
   "outputs": [],
   "source": [
    "import clb.cropping\n",
    "importlib.reload(clb.cropping)\n",
    "\n",
    "results = clb.cropping.find_positions_3d(full, crop_volume)"
   ]
  },
  {
   "cell_type": "code",
   "execution_count": null,
   "metadata": {},
   "outputs": [],
   "source": [
    "crop_middle = crop_volume[2]\n",
    "crop_info_middle = results[1][2]\n",
    "recroped = crop_info_middle.crop(full)\n",
    "show_all(1,2, crop_middle, recroped, scale=5)"
   ]
  },
  {
   "cell_type": "markdown",
   "metadata": {},
   "source": [
    "# Run info extractor on all existing annotations"
   ]
  },
  {
   "cell_type": "code",
   "execution_count": null,
   "metadata": {},
   "outputs": [],
   "source": [
    "import clb.evaluator\n",
    "importlib.reload(clb.evaluator)\n",
    "importlib.reload(clb.cropping)\n",
    "run_all = False"
   ]
  },
  {
   "cell_type": "code",
   "execution_count": null,
   "metadata": {},
   "outputs": [],
   "source": [
    "if run_all:\n",
    "    path_3d = os.path.join(dir_root, 'T8 S2 C1 -#8T 2048 1024 0.5um more images.tif')\n",
    "    full = clb.utils.normalize_channels_volume(imageio.volread(path_3d))\n",
    "datasets = get_standard_datasets(r\"G:\\Dyski zespołu\\CLDX\\Pilot\\Private\\_annotations\", r'T8_S2')"
   ]
  },
  {
   "cell_type": "code",
   "execution_count": null,
   "metadata": {},
   "outputs": [],
   "source": [
    "for d in tqdm(datasets):\n",
    "    if run_all:\n",
    "        crop_volume = imageio.volread(d.input)\n",
    "        one_channel_crop_volume = clb.utils.normalize_channels_volume(crop_volume)\n",
    "        qual, pos = clb.cropping.find_positions_3d(full, one_channel_crop_volume)\n",
    "        yaml_path = d.input[:-4] + \".yaml\"\n",
    "        print (d.input, \"=\", qual)\n",
    "        clb.cropping.CropInfo.save(pos, yaml_path)"
   ]
  },
  {
   "cell_type": "markdown",
   "metadata": {},
   "source": [
    "# Validate cropping information"
   ]
  },
  {
   "cell_type": "code",
   "execution_count": null,
   "metadata": {},
   "outputs": [],
   "source": [
    "run_validate_cropping = False"
   ]
  },
  {
   "cell_type": "code",
   "execution_count": null,
   "metadata": {},
   "outputs": [],
   "source": [
    "if run_validate_cropping:\n",
    "    # 'T8 S2 C1 -#8T 2048 1024 0.5um more images.tif'\n",
    "    path_3d = os.path.join(data_root, 'C1-#8T S3 2048 1024 0.5um more images.lif - #8T 2048 step 0.5um-1.tif')\n",
    "    full = clb.utils.normalize_channels_volume(imageio.volread(path_3d))\n",
    "    datasets = get_standard_datasets(r\"G:\\Dyski zespołu\\CLDX\\Pilot\\Private\\_annotations\", r'T8_S2')"
   ]
  },
  {
   "cell_type": "code",
   "execution_count": null,
   "metadata": {},
   "outputs": [],
   "source": [
    "import imageio\n",
    "if run_validate_cropping:\n",
    "    validation_dir = os.path.join(dir_root, r'verify_s2')\n",
    "    for d in tqdm(datasets):\n",
    "        crop_volume = imageio.volread(d.input)\n",
    "        one_channel_crop_volume = clb.utils.normalize_channels_volume(crop_volume)\n",
    "        path_yaml = d.input[:-3] + \"yaml\"\n",
    "        info = clb.cropping.CropInfo.load(path_yaml)\n",
    "\n",
    "        filename = os.path.basename(d.input)\n",
    "        print(filename)\n",
    "        if len(crop_volume) != len(info):\n",
    "            raise Exception(\"Invalid length\")\n",
    "\n",
    "        imageio.imsave(os.path.join(validation_dir, filename), crop_volume[0])\n",
    "        imageio.imsave(os.path.join(validation_dir, filename + \"_re.tif\"), info[0].crop(full))"
   ]
  }
 ],
 "metadata": {
  "kernelspec": {
   "display_name": "Python 3",
   "language": "python",
   "name": "python3"
  },
  "language_info": {
   "codemirror_mode": {
    "name": "ipython",
    "version": 3
   },
   "file_extension": ".py",
   "mimetype": "text/x-python",
   "name": "python",
   "nbconvert_exporter": "python",
   "pygments_lexer": "ipython3",
   "version": "3.5.4"
  }
 },
 "nbformat": 4,
 "nbformat_minor": 1
}
