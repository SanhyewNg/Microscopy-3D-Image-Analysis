{
 "cells": [
  {
   "cell_type": "code",
   "execution_count": null,
   "metadata": {},
   "outputs": [],
   "source": [
    "from notebook_utils import *\n",
    "\n",
    "import imageio\n",
    "\n",
    "import random\n",
    "import os\n",
    "import time\n",
    "\n",
    "%matplotlib inline\n",
    "\n",
    "import warnings\n",
    "warnings.filterwarnings('ignore')"
   ]
  },
  {
   "cell_type": "markdown",
   "metadata": {},
   "source": [
    "# Segmentation / classification report"
   ]
  },
  {
   "cell_type": "code",
   "execution_count": null,
   "metadata": {},
   "outputs": [],
   "source": [
    "import clb\n",
    "from clb.dataprep.utils import VolumeIter\n",
    "from clb.stats import cells\n",
    "import pandas"
   ]
  },
  {
   "cell_type": "code",
   "execution_count": null,
   "metadata": {
    "tags": [
     "parameters"
    ]
   },
   "outputs": [],
   "source": [
    "# parameters\n",
    "input_file = None\n",
    "    #r\"D:\\Fafa\\MIT\\CellDx\\general_dump\\ce_class_final_tylko_8\\results\\classify_test\\classes_test_input.tif\"\n",
    "input_series = None\n",
    "segmentation_file = None\n",
    "    #r\"D:\\Fafa\\MIT\\CellDx\\general_dump\\ce_class_final_tylko_8\\results\\classify_test\\classes_test_segment.tif\"\n",
    "classification_ki67_file = None \n",
    "    #r\"D:\\Fafa\\MIT\\CellDx\\general_dump\\ce_class_final_tylko_8\\results\\classify_test\\classes_test_ki67_output.tif\"\n",
    "classification_epith_file = None\n",
    "    #r\"D:\\Fafa\\MIT\\CellDx\\general_dump\\ce_class_final_tylko_8\\results\\classify_test\\classes_test_epith_output.tif\""
   ]
  },
  {
   "cell_type": "code",
   "execution_count": null,
   "metadata": {},
   "outputs": [],
   "source": [
    "# information about report\n",
    "input_path_series = os.path.basename(input_file) \n",
    "if input_series is not None:\n",
    "    input_path_series += \" series: \" + str(input_series)\n",
    "else:\n",
    "    input_series = 0\n",
    "printmd(\"## File: {0} ({1}): \\n&emsp;{2}\"\n",
    "        .format(input_path_series, time.ctime(os.path.getmtime(input_file)), input_file))\n",
    "\n",
    "printmd(\"### Segmentation ({1}): \\n&emsp;{0}\"\n",
    "        .format(segmentation_file, time.ctime(os.path.getmtime(segmentation_file))))\n",
    "if classification_ki67_file is not None:\n",
    "    printmd(\"### Classification Ki67 ({1}): \\n&emsp;{0}\"\n",
    "            .format(classification_ki67_file, time.ctime(os.path.getmtime(classification_ki67_file))))\n",
    "if classification_epith_file is not None:\n",
    "    printmd(\"### Classification Epithelium ({1}): \\n&emsp;{0}\"\n",
    "            .format(classification_epith_file, time.ctime(os.path.getmtime(classification_epith_file))))"
   ]
  },
  {
   "cell_type": "markdown",
   "metadata": {},
   "source": [
    "# Data results samples"
   ]
  },
  {
   "cell_type": "code",
   "execution_count": null,
   "metadata": {},
   "outputs": [],
   "source": [
    "# load data and check if classification\n",
    "from clb.dataprep.utils import rescale_to_float\n",
    "from clb.utils import overlay_sample_boundaries\n",
    "\n",
    "input_data = VolumeIter(input_file, series=input_series)\n",
    "slices_num = len(input_data)\n",
    "white_on_input = 255 if input_data[0].ndim == 2 else (255,255,255)\n",
    "\n",
    "printmd(\"&emsp;**Data resolution:** X={0}, Y={1}\".format(input_data[0].shape[1], input_data[0].shape[0]))\n",
    "printmd(\"&emsp;**Data depth:** \", slices_num)\n",
    "\n",
    "segment_data = VolumeIter(segmentation_file)\n",
    "# TODO use actuall results instead of trying to reinterpret visualisation \n",
    "if classification_ki67_file is not None:\n",
    "    class_ki67_data =  VolumeIter(classification_ki67_file)\n",
    "    rescaled_ki67 = rescale_to_float(np.array(class_ki67_data), float_type='float16')\n",
    "    thresholded_ki67 = rescaled_ki67 > 0.5\n",
    "if classification_epith_file is not None:\n",
    "    class_epith_data =  VolumeIter(classification_epith_file)\n",
    "    rescaled_epith = rescale_to_float(np.array(class_epith_data), float_type='float16')\n",
    "    thresholded_epith = rescaled_epith > 0.5\n",
    "    \n",
    "slices_titles = [\"Slice at 0 depth\", \"Slice at 1/3 depth\", \"Slice at 2/3 depth\"]"
   ]
  },
  {
   "cell_type": "code",
   "execution_count": null,
   "metadata": {},
   "outputs": [],
   "source": [
    "printmd(\"### Input imagery\")\n",
    "show_all(1,3, input_data[0], input_data[1 * slices_num//3], input_data[2 * slices_num//3], scale=30, titles=slices_titles)"
   ]
  },
  {
   "cell_type": "code",
   "execution_count": null,
   "metadata": {},
   "outputs": [],
   "source": [
    "printmd(\"### Segmentation\")\n",
    "show_all(1,3, segment_data[0], segment_data[1 * slices_num//3], segment_data[2 * slices_num//3], scale=30, cmap='rand', titles=slices_titles)"
   ]
  },
  {
   "cell_type": "code",
   "execution_count": null,
   "metadata": {},
   "outputs": [],
   "source": [
    "fig = None\n",
    "if classification_ki67_file is not None:\n",
    "    printmd(\"### Classification Ki67\")\n",
    "    fig = show_all(1,3, \n",
    "                   overlay_sample_boundaries(input_data, thresholded_ki67, 0, colour=white_on_input),\n",
    "                   overlay_sample_boundaries(input_data, thresholded_ki67, 1 * slices_num//3, colour=white_on_input),\n",
    "                   overlay_sample_boundaries(input_data, thresholded_ki67, 2 * slices_num//3, colour=white_on_input),\n",
    "                   scale=30, titles=slices_titles)\n",
    "fig"
   ]
  },
  {
   "cell_type": "code",
   "execution_count": null,
   "metadata": {},
   "outputs": [],
   "source": [
    "fig = None\n",
    "if classification_epith_file is not None:\n",
    "    printmd(\"### Classification Epithelium\")\n",
    "    fig = show_all(1,3, \n",
    "                   overlay_sample_boundaries(input_data, thresholded_epith, 0, colour=white_on_input),\n",
    "                   overlay_sample_boundaries(input_data, thresholded_epith, 1 * slices_num//3, colour=white_on_input),\n",
    "                   overlay_sample_boundaries(input_data, thresholded_epith, 2 * slices_num//3, colour=white_on_input),\n",
    "                   scale=30, titles=slices_titles)\n",
    "fig"
   ]
  },
  {
   "cell_type": "markdown",
   "metadata": {},
   "source": [
    "# Statistics"
   ]
  },
  {
   "cell_type": "code",
   "execution_count": null,
   "metadata": {},
   "outputs": [],
   "source": [
    "loaded_segment = np.array(segment_data)\n",
    "stats = cells.cell_stats(loaded_segment)\n",
    "\n",
    "if classification_ki67_file is not None:\n",
    "    stats_ki67 = cells.cell_stats(loaded_segment, rescaled_ki67)\n",
    "    \n",
    "if classification_epith_file is not None:\n",
    "    stats_epith = cells.cell_stats(loaded_segment, rescaled_epith)"
   ]
  },
  {
   "cell_type": "code",
   "execution_count": null,
   "metadata": {},
   "outputs": [],
   "source": [
    "printmd(\"**Cell count:** \", stats['cell_number'])\n",
    "if classification_ki67_file is not None:\n",
    "    printmd(\"**Ki67 cell count:** \", stats_ki67['class_cell_number'])\n",
    "if classification_epith_file is not None:\n",
    "    printmd(\"**Epithelium cell count:** \", stats_epith['class_cell_number'])"
   ]
  },
  {
   "cell_type": "code",
   "execution_count": null,
   "metadata": {},
   "outputs": [],
   "source": [
    "slice_data = pandas.DataFrame(list(stats['slices']))\n",
    "if classification_ki67_file:\n",
    "    slice_data = slice_data.join(pandas.DataFrame(list(stats_ki67['slices'])).add_suffix('_ki67'))\n",
    "if classification_epith_file:\n",
    "    slice_data = slice_data.join(pandas.DataFrame(list(stats_epith['slices'])).add_suffix('_epith'))"
   ]
  },
  {
   "cell_type": "code",
   "execution_count": null,
   "metadata": {},
   "outputs": [],
   "source": [
    "ax = slice_data.plot(title='Cell number change though stack', y='cell_number', figsize=(15, 6), grid=True)\n",
    "ax.set_ylim(ymin=0)"
   ]
  },
  {
   "cell_type": "code",
   "execution_count": null,
   "metadata": {},
   "outputs": [],
   "source": [
    "if classification_ki67_file or classification_epith_file:\n",
    "    ys = []\n",
    "    if classification_ki67_file:\n",
    "        ys += ['class_cell_number_ki67']\n",
    "    if classification_epith_file:\n",
    "        ys += ['class_cell_number_epith']\n",
    "    slice_data.plot(title='Class cell number change though stack', \n",
    "                y=ys, figsize=(15, 8), grid=True);\n",
    "    ax.set_ylim(ymin=0)"
   ]
  },
  {
   "cell_type": "code",
   "execution_count": null,
   "metadata": {},
   "outputs": [],
   "source": []
  }
 ],
 "metadata": {
  "kernelspec": {
   "display_name": "Python 3",
   "language": "python",
   "name": "python3"
  },
  "language_info": {
   "codemirror_mode": {
    "name": "ipython",
    "version": 3
   },
   "file_extension": ".py",
   "mimetype": "text/x-python",
   "name": "python",
   "nbconvert_exporter": "python",
   "pygments_lexer": "ipython3",
   "version": "3.5.4"
  },
  "toc": {
   "base_numbering": 1.0,
   "nav_menu": {},
   "number_sections": false,
   "sideBar": true,
   "skip_h1_title": true,
   "title_cell": "Table of Contents",
   "title_sidebar": "Contents",
   "toc_cell": false,
   "toc_position": {
    "height": "calc(100% - 180px)",
    "left": "10px",
    "top": "150px",
    "width": "190px"
   },
   "toc_section_display": true,
   "toc_window_display": true
  }
 },
 "nbformat": 4,
 "nbformat_minor": 1
}
