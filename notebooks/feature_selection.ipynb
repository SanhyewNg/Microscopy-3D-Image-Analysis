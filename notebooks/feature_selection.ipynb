{
 "cells": [
  {
   "cell_type": "markdown",
   "metadata": {
    "toc-hr-collapsed": false
   },
   "source": [
    "# Dataset cross-validation experiment"
   ]
  },
  {
   "cell_type": "code",
   "execution_count": null,
   "metadata": {},
   "outputs": [],
   "source": [
    "!pip install xgboost"
   ]
  },
  {
   "cell_type": "code",
   "execution_count": 1,
   "metadata": {},
   "outputs": [
    {
     "data": {
      "text/html": [
       "        <script type=\"text/javascript\">\n",
       "        window.PlotlyConfig = {MathJaxConfig: 'local'};\n",
       "        if (window.MathJax) {MathJax.Hub.Config({SVG: {font: \"STIX-Web\"}});}\n",
       "        if (typeof require !== 'undefined') {\n",
       "        require.undef(\"plotly\");\n",
       "        requirejs.config({\n",
       "            paths: {\n",
       "                'plotly': ['https://cdn.plot.ly/plotly-latest.min']\n",
       "            }\n",
       "        });\n",
       "        require(['plotly'], function(Plotly) {\n",
       "            window._Plotly = Plotly;\n",
       "        });\n",
       "        }\n",
       "        </script>\n",
       "        "
      ]
     },
     "metadata": {},
     "output_type": "display_data"
    }
   ],
   "source": [
    "import glob\n",
    "import imageio\n",
    "import os\n",
    "import pandas\n",
    "import pandas as pd\n",
    "import plotly as py\n",
    "import plotly.graph_objs as go\n",
    "import plotly.express as px\n",
    "import random\n",
    "import scipy.stats\n",
    "import shutil\n",
    "import skimage.filters\n",
    "import skimage.segmentation\n",
    "import sklearn\n",
    "import train_utils\n",
    "import xgboost as xgb\n",
    "import re\n",
    "\n",
    "from functools import partial\n",
    "from itertools import groupby\n",
    "from notebook_utils import *\n",
    "from pprint import pprint\n",
    "from sklearn.ensemble import RandomForestClassifier\n",
    "from sklearn.metrics import precision_score, recall_score, f1_score, accuracy_score\n",
    "from sklearn.model_selection import cross_val_score, cross_validate, cross_val_predict\n",
    "from sklearn.model_selection import GroupKFold, StratifiedKFold, GroupShuffleSplit, LeavePGroupsOut, KFold, StratifiedShuffleSplit, LeaveOneGroupOut\n",
    "from sklearn.model_selection import train_test_split\n",
    "from sklearn.utils import resample\n",
    "from xgboost import plot_importance\n",
    "\n",
    "from dataset import DatasetBase\n",
    "# from benchmark import BenchmarkModel\n",
    "\n",
    "importlib.reload(train_utils);\n",
    "py.offline.init_notebook_mode(connected=True)\n",
    "%matplotlib inline\n",
    "\n",
    "SEED = 42"
   ]
  },
  {
   "cell_type": "code",
   "execution_count": 2,
   "metadata": {},
   "outputs": [],
   "source": [
    "def drop_patient_3(dataset, label='TestNewClasses S3'):\n",
    "    \"\"\"Drop patient - values are uncertain/missleading due tu poor aqusition\"\"\"\n",
    "    drop_mask = [label in idx[0] for idx in dataset.index]\n",
    "    return dataset.drop(dataset.index[drop_mask])\n",
    "\n",
    "def drop_patient_1(dataset, label='TestNewClasses S1'):\n",
    "    drop_mask = [label in idx[0] for idx in dataset.index]\n",
    "    return dataset.drop(dataset.index[drop_mask])\n",
    "\n",
    "def drop_patient_2(dataset, label='TestNewClasses S2'):\n",
    "    drop_mask = [label in idx[0] for idx in dataset.index]\n",
    "    return dataset.drop(dataset.index[drop_mask])"
   ]
  },
  {
   "cell_type": "code",
   "execution_count": 3,
   "metadata": {},
   "outputs": [],
   "source": [
    "def add_patient_no_column(dataset):\n",
    "    \"\"\"Adds `patient_number` column\"\"\"\n",
    "    patient_label = [re.search(r\"S(\\d+)\", idx[0]).group(1) for idx in cd8_data.index]\n",
    "    dataset['patient_number'] = patient_label\n",
    "    return dataset"
   ]
  },
  {
   "cell_type": "code",
   "execution_count": 4,
   "metadata": {},
   "outputs": [],
   "source": [
    "def test_if_image_split_not_overlap(dataset, train_idxs, test_idnx):\n",
    "    \"\"\"Check if groups overlap in test/train set. \n",
    "    \n",
    "    Args:\n",
    "        dataset (DatasetBase): instance of DatasetBase\n",
    "        train_idxs: (np.array): array of train rows from given dataframe(DatasetBase)\n",
    "        test_idxs: (np.array): array of test rows from given dataframe(DatasetBase)\n",
    "    \"\"\"\n",
    "    train = ds.data.iloc[train_idxs, :]\n",
    "    train_images = set(train.groupby(level=[0]).groups.keys())\n",
    "    \n",
    "    test = ds.data.iloc[test_idxs, :]\n",
    "    test_images = set(test.groupby(level=[0]).groups.keys())\n",
    "    assert len(test_images.intersection(train_images)) == 0"
   ]
  },
  {
   "cell_type": "code",
   "execution_count": 5,
   "metadata": {},
   "outputs": [],
   "source": [
    "def group_by_image(dataset):\n",
    "    \"\"\"Return mapping of image. Required for crossvalidation\"\"\"\n",
    "    return [idx[0] for idx in dataset.index]\n",
    "\n",
    "def group_by_patient(dataset):\n",
    "    \"\"\"Return mapping of patient. Required for crossvalidation\"\"\"\n",
    "    return [re.search(r'S(\\d+)', idx[0]).group(1) for idx in dataset.index]    "
   ]
  },
  {
   "cell_type": "code",
   "execution_count": 6,
   "metadata": {},
   "outputs": [],
   "source": [
    "def print_scores(name, scores):\n",
    "    \"\"\"Print basic score info\n",
    "    \n",
    "    Args:\n",
    "        name (str): Name of score/CrossVal method\n",
    "        scores (dict): Score dict\n",
    "    \"\"\"\n",
    "    s = \"%s F-score: %0.2f (+/- %0.2f), Precision: %0.2f (+/- %0.2f), Recall: %0.2f (+/- %0.2f)\"\n",
    "    print(s % (name,\n",
    "               scores['test_f1'].mean(),\n",
    "               scores['test_f1'].std() * 2,\n",
    "               scores['test_precision'].mean(),\n",
    "               scores['test_precision'].std() * 2,\n",
    "               scores['test_recall'].mean(), \n",
    "               scores['test_recall'].std() * 2))"
   ]
  },
  {
   "cell_type": "markdown",
   "metadata": {},
   "source": [
    "### Dataset setup"
   ]
  },
  {
   "cell_type": "code",
   "execution_count": 7,
   "metadata": {},
   "outputs": [],
   "source": [
    "path_to_data = r\"Precomputed/model8/ov_0.5/resize\"\n",
    "\n",
    "cd8_path = os.path.join(path_to_data, \"all_features_resize_cd8.tsv\")\n",
    "pdl1_path = os.path.join(path_to_data, \"all_features_resize_pdl1.tsv\")\n",
    "cd8_data = pandas.read_csv(cd8_path, sep='\\t', index_col=[0,1])\n",
    "pdl1_data = pandas.read_csv(pdl1_path, sep='\\t', index_col=[0,1])"
   ]
  },
  {
   "cell_type": "code",
   "execution_count": 8,
   "metadata": {},
   "outputs": [],
   "source": [
    "ds = DatasetBase(cd8_data, filters=[drop_patient_3])"
   ]
  },
  {
   "cell_type": "code",
   "execution_count": 9,
   "metadata": {},
   "outputs": [],
   "source": [
    "SPLIT_NO = 5\n",
    "TEST_SIZE = 0.2\n",
    "SCORES_LIST = ['precision', 'recall', 'f1', 'average_precision']\n",
    "\n",
    "base_feature_list = train_utils.get_feature_columns(ds.dataset.columns, 'perc_per_10', ['0','0-clahe','0-edges','0-memb','2','2-clahe','2-edges','2-memb'])\n",
    "ds.set_features(base_feature_list)"
   ]
  },
  {
   "cell_type": "markdown",
   "metadata": {},
   "source": [
    "### Model zoo setup"
   ]
  },
  {
   "cell_type": "code",
   "execution_count": 10,
   "metadata": {},
   "outputs": [],
   "source": [
    "models = {}\n",
    "\n",
    "baseline_model_params = {'n_estimators' : 300, 'class_weight': 'balanced', 'min_samples_leaf': 4, 'random_state': SEED, 'n_jobs': -1}\n",
    "rf_tuned_params = {'criterion': 'entropy', 'n_estimators': 400, 'min_samples_leaf': 2, \"max_depth\": 7, 'n_jobs': -1, 'random_state': SEED}\n",
    "xgb_tuned_params = {'silent': False, 'scale_pos_weight': 1, \"learning_rate\": 0.01, \"colsample_bytree\": 0.4,\n",
    "                    'subsample': 0.5, 'objective': 'binary:logistic', 'n_estimators': 300, 'reg_alpha': 0.3,\n",
    "                    'max_depth': 4, 'gamma': 4, 'random_state': SEED}\n",
    "\n",
    "models['baseline'] = RandomForestClassifier(**baseline_model_params)\n",
    "models['rf_tuned'] = RandomForestClassifier(**rf_tuned_params)\n",
    "models['xgb'] = xgb.XGBClassifier(objective=\"binary:logistic\", random_state=SEED)\n",
    "models['xgb_tuned'] = xgb.XGBClassifier(**xgb_tuned_params)"
   ]
  },
  {
   "cell_type": "markdown",
   "metadata": {
    "toc-hr-collapsed": false
   },
   "source": [
    "## Evaluate split by image"
   ]
  },
  {
   "cell_type": "code",
   "execution_count": 11,
   "metadata": {},
   "outputs": [],
   "source": [
    "kf   = KFold(n_splits=SPLIT_NO, random_state=SEED)\n",
    "skf  = StratifiedKFold(n_splits=SPLIT_NO, random_state=SEED)\n",
    "gkf  = GroupKFold(n_splits=SPLIT_NO)\n",
    "lpgo = LeavePGroupsOut(n_groups=3)  # time consuming \n",
    "gss  = GroupShuffleSplit(n_splits=SPLIT_NO, test_size=TEST_SIZE, random_state=SEED)\n",
    "\n",
    "cross_val_per_image_full = {\n",
    "    'KFold': kf,\n",
    "    'StratifiedKFold': skf,\n",
    "    'GroupKFold': gkf,\n",
    "    'LeavePGroupsOut': lpgo,\n",
    "    'GroupShuffleSplit': gss,\n",
    "}\n",
    "\n",
    "cross_val_per_image = {\n",
    "    'KFold': kf,\n",
    "    'StratifiedKFold': skf,\n",
    "    'GroupKFold': gkf,\n",
    "    'GroupShuffleSplit': gss,\n",
    "}\n",
    "\n",
    "cross_val_not_grouped = {\n",
    "    'KFold': kf,\n",
    "    'StratifiedKFold': skf,\n",
    "}\n"
   ]
  },
  {
   "cell_type": "markdown",
   "metadata": {},
   "source": [
    "### Per Image results\n",
    "\n",
    "Per image results indicate that each image has different statistiscs. \n",
    "All models have significent decrease in scores when comparing cross-validation that take into account groups"
   ]
  },
  {
   "cell_type": "markdown",
   "metadata": {},
   "source": [
    "Baseline model"
   ]
  },
  {
   "cell_type": "code",
   "execution_count": 12,
   "metadata": {},
   "outputs": [
    {
     "name": "stderr",
     "output_type": "stream",
     "text": [
      "[Parallel(n_jobs=-1)]: Using backend LokyBackend with 8 concurrent workers.\n",
      "[Parallel(n_jobs=-1)]: Done   2 out of   5 | elapsed:   15.9s remaining:   23.8s\n",
      "[Parallel(n_jobs=-1)]: Done   5 out of   5 | elapsed:   16.0s finished\n",
      "[Parallel(n_jobs=-1)]: Using backend LokyBackend with 8 concurrent workers.\n",
      "[Parallel(n_jobs=-1)]: Done   2 out of   5 | elapsed:   13.7s remaining:   20.5s\n",
      "[Parallel(n_jobs=-1)]: Done   5 out of   5 | elapsed:   15.1s finished\n",
      "[Parallel(n_jobs=-1)]: Using backend LokyBackend with 8 concurrent workers.\n",
      "[Parallel(n_jobs=-1)]: Done   2 out of   5 | elapsed:   14.0s remaining:   21.1s\n",
      "[Parallel(n_jobs=-1)]: Done   5 out of   5 | elapsed:   14.4s finished\n",
      "[Parallel(n_jobs=-1)]: Using backend LokyBackend with 8 concurrent workers.\n",
      "[Parallel(n_jobs=-1)]: Done   2 out of   5 | elapsed:   13.5s remaining:   20.2s\n",
      "[Parallel(n_jobs=-1)]: Done   5 out of   5 | elapsed:   14.2s finished\n"
     ]
    }
   ],
   "source": [
    "cv_image_results = {}\n",
    "for cv in cross_val_per_image:\n",
    "    cv_image_results[cv] = cross_validate(models['baseline'], X=ds.data, y=ds.data_cls, cv=cross_val_per_image_full[cv], groups=group_by_image(ds.data), scoring=SCORES_LIST, verbose=1, n_jobs=-1)"
   ]
  },
  {
   "cell_type": "code",
   "execution_count": 13,
   "metadata": {},
   "outputs": [
    {
     "name": "stdout",
     "output_type": "stream",
     "text": [
      "KFold F-score: 0.57 (+/- 0.08), Precision: 0.61 (+/- 0.11), Recall: 0.55 (+/- 0.08)\n",
      "StratifiedKFold F-score: 0.58 (+/- 0.10), Precision: 0.63 (+/- 0.09), Recall: 0.55 (+/- 0.11)\n",
      "GroupKFold F-score: 0.44 (+/- 0.22), Precision: 0.45 (+/- 0.29), Recall: 0.51 (+/- 0.32)\n",
      "GroupShuffleSplit F-score: 0.45 (+/- 0.24), Precision: 0.53 (+/- 0.19), Recall: 0.39 (+/- 0.26)\n"
     ]
    }
   ],
   "source": [
    "for name, scores in cv_image_results.items():\n",
    "    print_scores(name, scores)"
   ]
  },
  {
   "cell_type": "markdown",
   "metadata": {},
   "source": [
    "RandomForest tuned"
   ]
  },
  {
   "cell_type": "code",
   "execution_count": 14,
   "metadata": {},
   "outputs": [
    {
     "name": "stderr",
     "output_type": "stream",
     "text": [
      "[Parallel(n_jobs=-1)]: Using backend LokyBackend with 8 concurrent workers.\n",
      "[Parallel(n_jobs=-1)]: Done   2 out of   5 | elapsed:   25.0s remaining:   37.5s\n",
      "[Parallel(n_jobs=-1)]: Done   5 out of   5 | elapsed:   25.1s finished\n",
      "[Parallel(n_jobs=-1)]: Using backend LokyBackend with 8 concurrent workers.\n",
      "[Parallel(n_jobs=-1)]: Done   2 out of   5 | elapsed:   24.9s remaining:   37.3s\n",
      "[Parallel(n_jobs=-1)]: Done   5 out of   5 | elapsed:   24.9s finished\n",
      "[Parallel(n_jobs=-1)]: Using backend LokyBackend with 8 concurrent workers.\n",
      "[Parallel(n_jobs=-1)]: Done   2 out of   5 | elapsed:   24.8s remaining:   37.2s\n",
      "[Parallel(n_jobs=-1)]: Done   5 out of   5 | elapsed:   25.3s finished\n",
      "[Parallel(n_jobs=-1)]: Using backend LokyBackend with 8 concurrent workers.\n",
      "[Parallel(n_jobs=-1)]: Done   2 out of   5 | elapsed:   23.6s remaining:   35.3s\n",
      "[Parallel(n_jobs=-1)]: Done   5 out of   5 | elapsed:   23.9s finished\n"
     ]
    }
   ],
   "source": [
    "cv_image_results_rf_tuned = {}\n",
    "for cv in cross_val_per_image:\n",
    "    cv_image_results_rf_tuned[cv] = cross_validate(models['rf_tuned'], X=ds.data, y=ds.data_cls, cv=cross_val_per_image[cv], groups=group_by_image(ds.data), scoring=SCORES_LIST, verbose=1, n_jobs=-1)"
   ]
  },
  {
   "cell_type": "code",
   "execution_count": 15,
   "metadata": {},
   "outputs": [
    {
     "name": "stdout",
     "output_type": "stream",
     "text": [
      "KFold F-score: 0.50 (+/- 0.08), Precision: 0.73 (+/- 0.09), Recall: 0.38 (+/- 0.10)\n",
      "StratifiedKFold F-score: 0.50 (+/- 0.08), Precision: 0.73 (+/- 0.08), Recall: 0.38 (+/- 0.09)\n",
      "GroupKFold F-score: 0.39 (+/- 0.23), Precision: 0.58 (+/- 0.43), Recall: 0.39 (+/- 0.39)\n",
      "GroupShuffleSplit F-score: 0.37 (+/- 0.30), Precision: 0.65 (+/- 0.24), Recall: 0.27 (+/- 0.27)\n"
     ]
    }
   ],
   "source": [
    "for name, scores in cv_image_results_rf_tuned.items():\n",
    "    print_scores(name, scores)"
   ]
  },
  {
   "cell_type": "markdown",
   "metadata": {},
   "source": [
    "XGBoost"
   ]
  },
  {
   "cell_type": "code",
   "execution_count": 16,
   "metadata": {},
   "outputs": [
    {
     "name": "stderr",
     "output_type": "stream",
     "text": [
      "[Parallel(n_jobs=-1)]: Using backend LokyBackend with 8 concurrent workers.\n",
      "[Parallel(n_jobs=-1)]: Done   2 out of   5 | elapsed:    8.4s remaining:   12.6s\n",
      "[Parallel(n_jobs=-1)]: Done   5 out of   5 | elapsed:   11.7s finished\n",
      "[Parallel(n_jobs=-1)]: Using backend LokyBackend with 8 concurrent workers.\n",
      "[Parallel(n_jobs=-1)]: Done   2 out of   5 | elapsed:    8.5s remaining:   12.7s\n",
      "[Parallel(n_jobs=-1)]: Done   5 out of   5 | elapsed:   12.1s finished\n",
      "[Parallel(n_jobs=-1)]: Using backend LokyBackend with 8 concurrent workers.\n",
      "[Parallel(n_jobs=-1)]: Done   2 out of   5 | elapsed:    8.2s remaining:   12.3s\n",
      "[Parallel(n_jobs=-1)]: Done   5 out of   5 | elapsed:   11.8s finished\n",
      "[Parallel(n_jobs=-1)]: Using backend LokyBackend with 8 concurrent workers.\n",
      "[Parallel(n_jobs=-1)]: Done   2 out of   5 | elapsed:    7.9s remaining:   11.9s\n"
     ]
    },
    {
     "ename": "KeyboardInterrupt",
     "evalue": "",
     "output_type": "error",
     "traceback": [
      "\u001b[0;31m---------------------------------------------------------------------------\u001b[0m",
      "\u001b[0;31mKeyboardInterrupt\u001b[0m                         Traceback (most recent call last)",
      "\u001b[0;32m<ipython-input-16-85be311a1208>\u001b[0m in \u001b[0;36m<module>\u001b[0;34m\u001b[0m\n\u001b[1;32m      1\u001b[0m \u001b[0mcv_image_results_xgb\u001b[0m \u001b[0;34m=\u001b[0m \u001b[0;34m{\u001b[0m\u001b[0;34m}\u001b[0m\u001b[0;34m\u001b[0m\u001b[0;34m\u001b[0m\u001b[0m\n\u001b[1;32m      2\u001b[0m \u001b[0;32mfor\u001b[0m \u001b[0mcv\u001b[0m \u001b[0;32min\u001b[0m \u001b[0mcross_val_per_image\u001b[0m\u001b[0;34m:\u001b[0m\u001b[0;34m\u001b[0m\u001b[0;34m\u001b[0m\u001b[0m\n\u001b[0;32m----> 3\u001b[0;31m     \u001b[0mcv_image_results_xgb\u001b[0m\u001b[0;34m[\u001b[0m\u001b[0mcv\u001b[0m\u001b[0;34m]\u001b[0m \u001b[0;34m=\u001b[0m \u001b[0mcross_validate\u001b[0m\u001b[0;34m(\u001b[0m\u001b[0mmodels\u001b[0m\u001b[0;34m[\u001b[0m\u001b[0;34m'xgb'\u001b[0m\u001b[0;34m]\u001b[0m\u001b[0;34m,\u001b[0m \u001b[0mX\u001b[0m\u001b[0;34m=\u001b[0m\u001b[0mds\u001b[0m\u001b[0;34m.\u001b[0m\u001b[0mdata\u001b[0m\u001b[0;34m,\u001b[0m \u001b[0my\u001b[0m\u001b[0;34m=\u001b[0m\u001b[0mds\u001b[0m\u001b[0;34m.\u001b[0m\u001b[0mdata_cls\u001b[0m\u001b[0;34m,\u001b[0m \u001b[0mcv\u001b[0m\u001b[0;34m=\u001b[0m\u001b[0mcross_val_per_image\u001b[0m\u001b[0;34m[\u001b[0m\u001b[0mcv\u001b[0m\u001b[0;34m]\u001b[0m\u001b[0;34m,\u001b[0m \u001b[0mgroups\u001b[0m\u001b[0;34m=\u001b[0m\u001b[0mgroup_by_image\u001b[0m\u001b[0;34m(\u001b[0m\u001b[0mds\u001b[0m\u001b[0;34m.\u001b[0m\u001b[0mdata\u001b[0m\u001b[0;34m)\u001b[0m\u001b[0;34m,\u001b[0m \u001b[0mscoring\u001b[0m\u001b[0;34m=\u001b[0m\u001b[0mSCORES_LIST\u001b[0m\u001b[0;34m,\u001b[0m \u001b[0mverbose\u001b[0m\u001b[0;34m=\u001b[0m\u001b[0;36m1\u001b[0m\u001b[0;34m,\u001b[0m \u001b[0mn_jobs\u001b[0m\u001b[0;34m=\u001b[0m\u001b[0;34m-\u001b[0m\u001b[0;36m1\u001b[0m\u001b[0;34m)\u001b[0m\u001b[0;34m\u001b[0m\u001b[0;34m\u001b[0m\u001b[0m\n\u001b[0m",
      "\u001b[0;32m~/.local/share/virtualenvs/clb_ai-Ns1CCoak/lib/python3.6/site-packages/sklearn/model_selection/_validation.py\u001b[0m in \u001b[0;36mcross_validate\u001b[0;34m(estimator, X, y, groups, scoring, cv, n_jobs, verbose, fit_params, pre_dispatch, return_train_score, return_estimator, error_score)\u001b[0m\n\u001b[1;32m    230\u001b[0m             \u001b[0mreturn_times\u001b[0m\u001b[0;34m=\u001b[0m\u001b[0;32mTrue\u001b[0m\u001b[0;34m,\u001b[0m \u001b[0mreturn_estimator\u001b[0m\u001b[0;34m=\u001b[0m\u001b[0mreturn_estimator\u001b[0m\u001b[0;34m,\u001b[0m\u001b[0;34m\u001b[0m\u001b[0;34m\u001b[0m\u001b[0m\n\u001b[1;32m    231\u001b[0m             error_score=error_score)\n\u001b[0;32m--> 232\u001b[0;31m         for train, test in cv.split(X, y, groups))\n\u001b[0m\u001b[1;32m    233\u001b[0m \u001b[0;34m\u001b[0m\u001b[0m\n\u001b[1;32m    234\u001b[0m     \u001b[0mzipped_scores\u001b[0m \u001b[0;34m=\u001b[0m \u001b[0mlist\u001b[0m\u001b[0;34m(\u001b[0m\u001b[0mzip\u001b[0m\u001b[0;34m(\u001b[0m\u001b[0;34m*\u001b[0m\u001b[0mscores\u001b[0m\u001b[0;34m)\u001b[0m\u001b[0;34m)\u001b[0m\u001b[0;34m\u001b[0m\u001b[0;34m\u001b[0m\u001b[0m\n",
      "\u001b[0;32m~/.local/share/virtualenvs/clb_ai-Ns1CCoak/lib/python3.6/site-packages/joblib/parallel.py\u001b[0m in \u001b[0;36m__call__\u001b[0;34m(self, iterable)\u001b[0m\n\u001b[1;32m    932\u001b[0m \u001b[0;34m\u001b[0m\u001b[0m\n\u001b[1;32m    933\u001b[0m             \u001b[0;32mwith\u001b[0m \u001b[0mself\u001b[0m\u001b[0;34m.\u001b[0m\u001b[0m_backend\u001b[0m\u001b[0;34m.\u001b[0m\u001b[0mretrieval_context\u001b[0m\u001b[0;34m(\u001b[0m\u001b[0;34m)\u001b[0m\u001b[0;34m:\u001b[0m\u001b[0;34m\u001b[0m\u001b[0;34m\u001b[0m\u001b[0m\n\u001b[0;32m--> 934\u001b[0;31m                 \u001b[0mself\u001b[0m\u001b[0;34m.\u001b[0m\u001b[0mretrieve\u001b[0m\u001b[0;34m(\u001b[0m\u001b[0;34m)\u001b[0m\u001b[0;34m\u001b[0m\u001b[0;34m\u001b[0m\u001b[0m\n\u001b[0m\u001b[1;32m    935\u001b[0m             \u001b[0;31m# Make sure that we get a last message telling us we are done\u001b[0m\u001b[0;34m\u001b[0m\u001b[0;34m\u001b[0m\u001b[0;34m\u001b[0m\u001b[0m\n\u001b[1;32m    936\u001b[0m             \u001b[0melapsed_time\u001b[0m \u001b[0;34m=\u001b[0m \u001b[0mtime\u001b[0m\u001b[0;34m.\u001b[0m\u001b[0mtime\u001b[0m\u001b[0;34m(\u001b[0m\u001b[0;34m)\u001b[0m \u001b[0;34m-\u001b[0m \u001b[0mself\u001b[0m\u001b[0;34m.\u001b[0m\u001b[0m_start_time\u001b[0m\u001b[0;34m\u001b[0m\u001b[0;34m\u001b[0m\u001b[0m\n",
      "\u001b[0;32m~/.local/share/virtualenvs/clb_ai-Ns1CCoak/lib/python3.6/site-packages/joblib/parallel.py\u001b[0m in \u001b[0;36mretrieve\u001b[0;34m(self)\u001b[0m\n\u001b[1;32m    831\u001b[0m             \u001b[0;32mtry\u001b[0m\u001b[0;34m:\u001b[0m\u001b[0;34m\u001b[0m\u001b[0;34m\u001b[0m\u001b[0m\n\u001b[1;32m    832\u001b[0m                 \u001b[0;32mif\u001b[0m \u001b[0mgetattr\u001b[0m\u001b[0;34m(\u001b[0m\u001b[0mself\u001b[0m\u001b[0;34m.\u001b[0m\u001b[0m_backend\u001b[0m\u001b[0;34m,\u001b[0m \u001b[0;34m'supports_timeout'\u001b[0m\u001b[0;34m,\u001b[0m \u001b[0;32mFalse\u001b[0m\u001b[0;34m)\u001b[0m\u001b[0;34m:\u001b[0m\u001b[0;34m\u001b[0m\u001b[0;34m\u001b[0m\u001b[0m\n\u001b[0;32m--> 833\u001b[0;31m                     \u001b[0mself\u001b[0m\u001b[0;34m.\u001b[0m\u001b[0m_output\u001b[0m\u001b[0;34m.\u001b[0m\u001b[0mextend\u001b[0m\u001b[0;34m(\u001b[0m\u001b[0mjob\u001b[0m\u001b[0;34m.\u001b[0m\u001b[0mget\u001b[0m\u001b[0;34m(\u001b[0m\u001b[0mtimeout\u001b[0m\u001b[0;34m=\u001b[0m\u001b[0mself\u001b[0m\u001b[0;34m.\u001b[0m\u001b[0mtimeout\u001b[0m\u001b[0;34m)\u001b[0m\u001b[0;34m)\u001b[0m\u001b[0;34m\u001b[0m\u001b[0;34m\u001b[0m\u001b[0m\n\u001b[0m\u001b[1;32m    834\u001b[0m                 \u001b[0;32melse\u001b[0m\u001b[0;34m:\u001b[0m\u001b[0;34m\u001b[0m\u001b[0;34m\u001b[0m\u001b[0m\n\u001b[1;32m    835\u001b[0m                     \u001b[0mself\u001b[0m\u001b[0;34m.\u001b[0m\u001b[0m_output\u001b[0m\u001b[0;34m.\u001b[0m\u001b[0mextend\u001b[0m\u001b[0;34m(\u001b[0m\u001b[0mjob\u001b[0m\u001b[0;34m.\u001b[0m\u001b[0mget\u001b[0m\u001b[0;34m(\u001b[0m\u001b[0;34m)\u001b[0m\u001b[0;34m)\u001b[0m\u001b[0;34m\u001b[0m\u001b[0;34m\u001b[0m\u001b[0m\n",
      "\u001b[0;32m~/.local/share/virtualenvs/clb_ai-Ns1CCoak/lib/python3.6/site-packages/joblib/_parallel_backends.py\u001b[0m in \u001b[0;36mwrap_future_result\u001b[0;34m(future, timeout)\u001b[0m\n\u001b[1;32m    519\u001b[0m         AsyncResults.get from multiprocessing.\"\"\"\n\u001b[1;32m    520\u001b[0m         \u001b[0;32mtry\u001b[0m\u001b[0;34m:\u001b[0m\u001b[0;34m\u001b[0m\u001b[0;34m\u001b[0m\u001b[0m\n\u001b[0;32m--> 521\u001b[0;31m             \u001b[0;32mreturn\u001b[0m \u001b[0mfuture\u001b[0m\u001b[0;34m.\u001b[0m\u001b[0mresult\u001b[0m\u001b[0;34m(\u001b[0m\u001b[0mtimeout\u001b[0m\u001b[0;34m=\u001b[0m\u001b[0mtimeout\u001b[0m\u001b[0;34m)\u001b[0m\u001b[0;34m\u001b[0m\u001b[0;34m\u001b[0m\u001b[0m\n\u001b[0m\u001b[1;32m    522\u001b[0m         \u001b[0;32mexcept\u001b[0m \u001b[0mLokyTimeoutError\u001b[0m\u001b[0;34m:\u001b[0m\u001b[0;34m\u001b[0m\u001b[0;34m\u001b[0m\u001b[0m\n\u001b[1;32m    523\u001b[0m             \u001b[0;32mraise\u001b[0m \u001b[0mTimeoutError\u001b[0m\u001b[0;34m(\u001b[0m\u001b[0;34m)\u001b[0m\u001b[0;34m\u001b[0m\u001b[0;34m\u001b[0m\u001b[0m\n",
      "\u001b[0;32m/usr/lib/python3.6/concurrent/futures/_base.py\u001b[0m in \u001b[0;36mresult\u001b[0;34m(self, timeout)\u001b[0m\n\u001b[1;32m    425\u001b[0m                 \u001b[0;32mreturn\u001b[0m \u001b[0mself\u001b[0m\u001b[0;34m.\u001b[0m\u001b[0m__get_result\u001b[0m\u001b[0;34m(\u001b[0m\u001b[0;34m)\u001b[0m\u001b[0;34m\u001b[0m\u001b[0;34m\u001b[0m\u001b[0m\n\u001b[1;32m    426\u001b[0m \u001b[0;34m\u001b[0m\u001b[0m\n\u001b[0;32m--> 427\u001b[0;31m             \u001b[0mself\u001b[0m\u001b[0;34m.\u001b[0m\u001b[0m_condition\u001b[0m\u001b[0;34m.\u001b[0m\u001b[0mwait\u001b[0m\u001b[0;34m(\u001b[0m\u001b[0mtimeout\u001b[0m\u001b[0;34m)\u001b[0m\u001b[0;34m\u001b[0m\u001b[0;34m\u001b[0m\u001b[0m\n\u001b[0m\u001b[1;32m    428\u001b[0m \u001b[0;34m\u001b[0m\u001b[0m\n\u001b[1;32m    429\u001b[0m             \u001b[0;32mif\u001b[0m \u001b[0mself\u001b[0m\u001b[0;34m.\u001b[0m\u001b[0m_state\u001b[0m \u001b[0;32min\u001b[0m \u001b[0;34m[\u001b[0m\u001b[0mCANCELLED\u001b[0m\u001b[0;34m,\u001b[0m \u001b[0mCANCELLED_AND_NOTIFIED\u001b[0m\u001b[0;34m]\u001b[0m\u001b[0;34m:\u001b[0m\u001b[0;34m\u001b[0m\u001b[0;34m\u001b[0m\u001b[0m\n",
      "\u001b[0;32m/usr/lib/python3.6/threading.py\u001b[0m in \u001b[0;36mwait\u001b[0;34m(self, timeout)\u001b[0m\n\u001b[1;32m    293\u001b[0m         \u001b[0;32mtry\u001b[0m\u001b[0;34m:\u001b[0m    \u001b[0;31m# restore state no matter what (e.g., KeyboardInterrupt)\u001b[0m\u001b[0;34m\u001b[0m\u001b[0;34m\u001b[0m\u001b[0m\n\u001b[1;32m    294\u001b[0m             \u001b[0;32mif\u001b[0m \u001b[0mtimeout\u001b[0m \u001b[0;32mis\u001b[0m \u001b[0;32mNone\u001b[0m\u001b[0;34m:\u001b[0m\u001b[0;34m\u001b[0m\u001b[0;34m\u001b[0m\u001b[0m\n\u001b[0;32m--> 295\u001b[0;31m                 \u001b[0mwaiter\u001b[0m\u001b[0;34m.\u001b[0m\u001b[0macquire\u001b[0m\u001b[0;34m(\u001b[0m\u001b[0;34m)\u001b[0m\u001b[0;34m\u001b[0m\u001b[0;34m\u001b[0m\u001b[0m\n\u001b[0m\u001b[1;32m    296\u001b[0m                 \u001b[0mgotit\u001b[0m \u001b[0;34m=\u001b[0m \u001b[0;32mTrue\u001b[0m\u001b[0;34m\u001b[0m\u001b[0;34m\u001b[0m\u001b[0m\n\u001b[1;32m    297\u001b[0m             \u001b[0;32melse\u001b[0m\u001b[0;34m:\u001b[0m\u001b[0;34m\u001b[0m\u001b[0;34m\u001b[0m\u001b[0m\n",
      "\u001b[0;31mKeyboardInterrupt\u001b[0m: "
     ]
    }
   ],
   "source": [
    "cv_image_results_xgb = {}\n",
    "for cv in cross_val_per_image:\n",
    "    cv_image_results_xgb[cv] = cross_validate(models['xgb'], X=ds.data, y=ds.data_cls, cv=cross_val_per_image[cv], groups=group_by_image(ds.data), scoring=SCORES_LIST, verbose=1, n_jobs=-1)"
   ]
  },
  {
   "cell_type": "code",
   "execution_count": null,
   "metadata": {},
   "outputs": [],
   "source": [
    "for name, scores in cv_image_results_xgb.items():\n",
    "    print_scores(name, scores)"
   ]
  },
  {
   "cell_type": "markdown",
   "metadata": {},
   "source": [
    "XGBoost Tuned"
   ]
  },
  {
   "cell_type": "code",
   "execution_count": null,
   "metadata": {},
   "outputs": [],
   "source": [
    "cv_image_results_xgb_tuned = {}\n",
    "for cv in cross_val_per_image:\n",
    "    cv_image_results_xgb_tuned[cv] = cross_validate(models['xgb_tuned'], X=ds.data, y=ds.data_cls, cv=cross_val_per_image[cv], groups=group_by_image(ds.data), scoring=SCORES_LIST, verbose=1, n_jobs=-1)"
   ]
  },
  {
   "cell_type": "code",
   "execution_count": null,
   "metadata": {},
   "outputs": [],
   "source": [
    "for name, scores in cv_image_results_xgb_tuned.items():\n",
    "    print_scores(name, scores)"
   ]
  },
  {
   "cell_type": "markdown",
   "metadata": {},
   "source": [
    "### Investigate group score decrease"
   ]
  },
  {
   "cell_type": "code",
   "execution_count": null,
   "metadata": {},
   "outputs": [],
   "source": [
    "logo = LeaveOneGroupOut()"
   ]
  },
  {
   "cell_type": "code",
   "execution_count": null,
   "metadata": {},
   "outputs": [],
   "source": [
    "# samples in form of list to track back to group \n",
    "grouped_samples = list(logo.split(X=ds.data, y=ds.data_cls, groups=group_by_image(ds.data)))"
   ]
  },
  {
   "cell_type": "code",
   "execution_count": null,
   "metadata": {},
   "outputs": [],
   "source": [
    "score = cross_validate(models['baseline'], X=ds.data, y=ds.data_cls, cv=grouped_samples, scoring=SCORES_LIST, verbose=1, n_jobs=-1)"
   ]
  },
  {
   "cell_type": "code",
   "execution_count": null,
   "metadata": {},
   "outputs": [],
   "source": [
    "print_scores('investiagion', score)"
   ]
  },
  {
   "cell_type": "code",
   "execution_count": null,
   "metadata": {},
   "outputs": [],
   "source": [
    "for i, _ in enumerate(score['test_f1']):\n",
    "    print('F1: %0.2f, Precision: %0.2f, Recall: %0.2f' % (score['test_f1'][i], score['test_precision'][i], score['test_recall'][i]))"
   ]
  },
  {
   "cell_type": "code",
   "execution_count": null,
   "metadata": {},
   "outputs": [],
   "source": [
    "# filter images with f1 <= 0.4\n",
    "low_f1 = score['test_f1'] <= 0.4 \n",
    "test_ds_idxs = low_f1.nonzero()[0].tolist() # indexes of test_datasets from grouped_samples"
   ]
  },
  {
   "cell_type": "code",
   "execution_count": null,
   "metadata": {},
   "outputs": [],
   "source": [
    "def map_grouped_test_set_to_images(groups_of_interest, grouped_train_test_ds, dataset):\n",
    "    \"\"\"Maps outcome of cross-validation on grouped test/train set\n",
    "    \n",
    "    Args:\n",
    "        groups_of_interest (list): list of indexes of test_sets in dataset to fetch group\n",
    "        grouped_train_test_ds (list): list of (train_set, test_set)\n",
    "        dataset (pd.DataFrame): Original dataset from which `grouped_train_test_ds` was created\n",
    "        \n",
    "    Return:\n",
    "        Dict of test_set_index: groups from which it was created\n",
    "    \"\"\"\n",
    "    mapping = {}\n",
    "    for idx in groups_of_interest:\n",
    "        test_df = dataset.iloc[grouped_train_test_ds[idx][1], :]\n",
    "        mapping[idx] = list(test_df.groupby(level=[0]).groups.keys())\n",
    "    return mapping"
   ]
  },
  {
   "cell_type": "markdown",
   "metadata": {},
   "source": [
    "### Problematic images\n",
    "\n",
    "list of images removed from dataset to improve scoring. Tests indicate that these images cause problems during training / testing"
   ]
  },
  {
   "cell_type": "code",
   "execution_count": 13,
   "metadata": {},
   "outputs": [
    {
     "ename": "NameError",
     "evalue": "name 'map_grouped_test_set_to_images' is not defined",
     "output_type": "error",
     "traceback": [
      "\u001b[0;31m---------------------------------------------------------------------------\u001b[0m",
      "\u001b[0;31mNameError\u001b[0m                                 Traceback (most recent call last)",
      "\u001b[0;32m<ipython-input-13-104b9fd53eef>\u001b[0m in \u001b[0;36m<module>\u001b[0;34m\u001b[0m\n\u001b[0;32m----> 1\u001b[0;31m \u001b[0mproblematic_images\u001b[0m \u001b[0;34m=\u001b[0m \u001b[0mmap_grouped_test_set_to_images\u001b[0m\u001b[0;34m(\u001b[0m\u001b[0mtest_ds_idxs\u001b[0m\u001b[0;34m,\u001b[0m \u001b[0mgrouped_samples\u001b[0m\u001b[0;34m,\u001b[0m \u001b[0mds\u001b[0m\u001b[0;34m.\u001b[0m\u001b[0mdata\u001b[0m\u001b[0;34m)\u001b[0m\u001b[0;34m\u001b[0m\u001b[0;34m\u001b[0m\u001b[0m\n\u001b[0m",
      "\u001b[0;31mNameError\u001b[0m: name 'map_grouped_test_set_to_images' is not defined"
     ]
    }
   ],
   "source": [
    "problematic_images = map_grouped_test_set_to_images(test_ds_idxs, grouped_samples, ds.data)"
   ]
  },
  {
   "cell_type": "code",
   "execution_count": null,
   "metadata": {},
   "outputs": [],
   "source": [
    "# Images with poor score\n",
    "problematic_images"
   ]
  },
  {
   "cell_type": "markdown",
   "metadata": {},
   "source": [
    "### Dataset split - investigate OK / NOK ds"
   ]
  },
  {
   "cell_type": "markdown",
   "metadata": {},
   "source": [
    "Create two additional datasets to verify how models will behave on them.\n",
    "Assumtion is that NOK dataset will score much lower then OK dataset.\n",
    "OK dataset is created by removing samples from images that have poor f1 score in LeaveOne test\n",
    "NOK is complementary to OK (consist problematic_images)"
   ]
  },
  {
   "cell_type": "code",
   "execution_count": null,
   "metadata": {},
   "outputs": [],
   "source": [
    "index_name_to_drop = [idx[0] for idx in problematic_images.values()]\n",
    "problematic_images_complement = set(ds.data.index.levels[0])\n",
    "index_name_to_drop_problematic = problematic_images_complement.difference(set(index_name_to_drop))\n",
    "\n",
    "ds_ok = DatasetBase(cd8_data.drop(index=index_name_to_drop), filters=[drop_patient_3])\n",
    "ds_ok.set_features(base_feature_list)\n",
    "ds_nok = DatasetBase(cd8_data.drop(index=index_name_to_drop_problematic), filters=[drop_patient_3])\n",
    "ds_nok.set_features(base_feature_list)"
   ]
  },
  {
   "cell_type": "code",
   "execution_count": null,
   "metadata": {},
   "outputs": [],
   "source": [
    "ds_ok_results = {}\n",
    "for cv in cross_val_per_image:\n",
    "    ds_ok_results[cv] = cross_validate(models['baseline'], X=ds_ok.data, y=ds_ok.data_cls, cv=cross_val_per_image[cv], groups=group_by_image(ds_ok.data), scoring=SCORES_LIST, verbose=1, n_jobs=-1)"
   ]
  },
  {
   "cell_type": "code",
   "execution_count": null,
   "metadata": {},
   "outputs": [],
   "source": [
    "# Results of OK dataset. Improvment is visible for both grouped and random splits\n",
    "for name, scores in ds_ok_results.items():\n",
    "    print_scores(name, scores)"
   ]
  },
  {
   "cell_type": "code",
   "execution_count": null,
   "metadata": {},
   "outputs": [],
   "source": [
    "score = cross_validate(models['baseline'], X=ds_ok.data, y=ds_ok.data_cls, cv=logo, groups=group_by_image(ds_ok.data),  scoring=SCORES_LIST, verbose=1, n_jobs=-1)"
   ]
  },
  {
   "cell_type": "code",
   "execution_count": null,
   "metadata": {},
   "outputs": [],
   "source": [
    "# Slight improvment in leave one out.\n",
    "print_scores('logo', score)"
   ]
  },
  {
   "cell_type": "code",
   "execution_count": null,
   "metadata": {},
   "outputs": [],
   "source": [
    "groups_no = len(index_name_to_drop)\n",
    "kf_prob   = KFold(n_splits=groups_no, random_state=SEED)\n",
    "skf_prob  = StratifiedKFold(n_splits=groups_no, random_state=SEED)\n",
    "gkf_prob  = GroupKFold(n_splits=groups_no)\n",
    "gss_prob  = GroupShuffleSplit(n_splits=groups_no, test_size=TEST_SIZE, random_state=SEED)\n",
    "\n",
    "cross_val_per_image_prob = {\n",
    "    'KFold': kf_prob,\n",
    "    'StratifiedKFold': skf_prob,\n",
    "    'GroupKFold': gkf_prob,\n",
    "    'GroupShuffleSplit': gss_prob,\n",
    "}"
   ]
  },
  {
   "cell_type": "code",
   "execution_count": null,
   "metadata": {},
   "outputs": [],
   "source": [
    "ds_nok_results = {}\n",
    "for cv in cross_val_per_image_prob:\n",
    "    ds_nok_results[cv] = cross_validate(models['baseline'], X=ds_nok.data, y=ds_nok.data_cls, cv=cross_val_per_image_prob[cv], groups=group_by_image(ds_nok.data), scoring=SCORES_LIST, verbose=1, n_jobs=-1)"
   ]
  },
  {
   "cell_type": "code",
   "execution_count": null,
   "metadata": {},
   "outputs": [],
   "source": [
    "# results of NOK Dataset. Decrease in score. Gropued CV indicate that there are still images that add a lot of noise to results\n",
    "for name, scores in ds_nok_results.items():\n",
    "    print_scores(name, scores)"
   ]
  },
  {
   "cell_type": "code",
   "execution_count": null,
   "metadata": {},
   "outputs": [],
   "source": [
    "score = cross_validate(models['baseline'], X=ds_nok.data, y=ds_nok.data_cls, cv=logo, groups=group_by_image(ds_nok.data),  scoring=SCORES_LIST, verbose=1, n_jobs=-1)"
   ]
  },
  {
   "cell_type": "code",
   "execution_count": null,
   "metadata": {},
   "outputs": [],
   "source": [
    "print_scores('logo', score)"
   ]
  },
  {
   "cell_type": "markdown",
   "metadata": {
    "toc-hr-collapsed": false
   },
   "source": [
    "## Evaluate split by patient"
   ]
  },
  {
   "cell_type": "code",
   "execution_count": null,
   "metadata": {},
   "outputs": [],
   "source": [
    "PATIENT_SPLIT_NO = 2"
   ]
  },
  {
   "cell_type": "code",
   "execution_count": null,
   "metadata": {},
   "outputs": [],
   "source": [
    "kf   = KFold(n_splits=PATIENT_SPLIT_NO, random_state=SEED)\n",
    "skf  = StratifiedKFold(n_splits=PATIENT_SPLIT_NO, random_state=SEED)\n",
    "gkf  = GroupKFold(n_splits=PATIENT_SPLIT_NO)\n",
    "gss  = GroupShuffleSplit(n_splits=PATIENT_SPLIT_NO, test_size=TEST_SIZE, random_state=SEED)\n",
    "\n",
    "cross_val_per_patient = {\n",
    "    'KFold': kf,\n",
    "    'StratifiedKFold': skf,\n",
    "    'GroupKFold': gkf,\n",
    "    'GroupShuffleSplit': gss,\n",
    "}"
   ]
  },
  {
   "cell_type": "code",
   "execution_count": null,
   "metadata": {},
   "outputs": [],
   "source": [
    "cv_patient_results = {}\n",
    "for cv in cross_val_per_patient:\n",
    "    cv_patient_results[cv] = cross_validate(models['baseline'], X=ds.data, y=ds.data_cls, cv=cross_val_per_patient[cv], groups=group_by_patient(ds.data), scoring=SCORES_LIST, verbose=1, n_jobs=-1)"
   ]
  },
  {
   "cell_type": "code",
   "execution_count": null,
   "metadata": {},
   "outputs": [],
   "source": [
    "# print results:\n",
    "for name, scores in cv_patient_results.items():\n",
    "    print_scores(name, scores)"
   ]
  },
  {
   "cell_type": "code",
   "execution_count": null,
   "metadata": {},
   "outputs": [],
   "source": [
    "ds1 = DatasetBase(cd8_data, filters=[drop_patient_2, drop_patient_3])\n",
    "ds2 = DatasetBase(cd8_data, filters=[drop_patient_1, drop_patient_3])\n",
    "\n",
    "ds1.set_features(base_feature_list)\n",
    "ds2.set_features(base_feature_list)"
   ]
  },
  {
   "cell_type": "code",
   "execution_count": null,
   "metadata": {},
   "outputs": [],
   "source": [
    "cross_val_one_patient_per_img = {\n",
    "    'KFold': kf,\n",
    "    'StratifiedKFold': skf,\n",
    "    'GroupKFold': gkf,\n",
    "    'GroupShuffleSplit': gss,\n",
    "    'LeaveOneOut': logo,\n",
    "}"
   ]
  },
  {
   "cell_type": "code",
   "execution_count": null,
   "metadata": {},
   "outputs": [],
   "source": [
    "# cv for dataset with one patient (1)\n",
    "cv_patient_results = {}\n",
    "for cv in cross_val_one_patient_per_img:\n",
    "    cv_patient_results[cv] = cross_validate(models['baseline'], X=ds1.data, y=ds1.data_cls, cv=cross_val_one_patient_per_img[cv], groups=group_by_image(ds1.data), scoring=SCORES_LIST, verbose=1, n_jobs=-1)"
   ]
  },
  {
   "cell_type": "code",
   "execution_count": null,
   "metadata": {},
   "outputs": [],
   "source": [
    "# Patient 1 result:\n",
    "for name, scores in cv_patient_results.items():\n",
    "    print_scores(name, scores)"
   ]
  },
  {
   "cell_type": "code",
   "execution_count": null,
   "metadata": {},
   "outputs": [],
   "source": [
    "# cv for dataset with one patient (2)\n",
    "cv_patient_results = {}\n",
    "for cv in cross_val_one_patient_per_img:\n",
    "    cv_patient_results[cv] = cross_validate(models['baseline'], X=ds2.data, y=ds2.data_cls, cv=cross_val_one_patient_per_img[cv], groups=group_by_image(ds2.data), scoring=SCORES_LIST, verbose=1, n_jobs=-1)"
   ]
  },
  {
   "cell_type": "code",
   "execution_count": null,
   "metadata": {},
   "outputs": [],
   "source": [
    "# Patient 2 result:\n",
    "for name, scores in cv_patient_results.items():\n",
    "    print_scores(name, scores)"
   ]
  },
  {
   "cell_type": "markdown",
   "metadata": {},
   "source": [
    "### LeaveOneOut by image"
   ]
  },
  {
   "cell_type": "code",
   "execution_count": null,
   "metadata": {},
   "outputs": [],
   "source": [
    "# samples in form of list to track back to group \n",
    "# For patient 1\n",
    "grouped_samples = list(logo.split(X=ds1.data, y=ds1.data_cls, groups=group_by_image(ds1.data)))\n",
    "score = cross_validate(models['baseline'], X=ds1.data, y=ds1.data_cls, cv=grouped_samples, scoring=SCORES_LIST, verbose=1, n_jobs=-1)"
   ]
  },
  {
   "cell_type": "code",
   "execution_count": null,
   "metadata": {},
   "outputs": [],
   "source": [
    "for i, _ in enumerate(score['test_f1']):\n",
    "    print('F1: %0.2f, Precision: %0.2f, Recall: %0.2f' % (score['test_f1'][i], score['test_precision'][i], score['test_recall'][i]))"
   ]
  },
  {
   "cell_type": "code",
   "execution_count": null,
   "metadata": {},
   "outputs": [],
   "source": [
    "# Mark images that could lower score for patient 1 images\n",
    "low_f1 = score['test_f1'] <= 0.55 \n",
    "test_ds_idxs = low_f1.nonzero()[0].tolist() \n",
    "s1_problematic = map_grouped_test_set_to_images(test_ds_idxs, grouped_samples, ds1.data)\n",
    "pprint(s1_problematic)"
   ]
  },
  {
   "cell_type": "code",
   "execution_count": null,
   "metadata": {},
   "outputs": [],
   "source": [
    "# samples in form of list to track back to group \n",
    "# For patient 2\n",
    "grouped_samples = list(logo.split(X=ds2.data, y=ds2.data_cls, groups=group_by_image(ds2.data)))\n",
    "score = cross_validate(models['baseline'], X=ds2.data, y=ds2.data_cls, cv=grouped_samples, scoring=SCORES_LIST, verbose=1, n_jobs=-1)"
   ]
  },
  {
   "cell_type": "code",
   "execution_count": null,
   "metadata": {},
   "outputs": [],
   "source": [
    "for i, _ in enumerate(score['test_f1']):\n",
    "    print('F1: %0.2f, Precision: %0.2f, Recall: %0.2f' % (score['test_f1'][i], score['test_precision'][i], score['test_recall'][i]))"
   ]
  },
  {
   "cell_type": "code",
   "execution_count": null,
   "metadata": {},
   "outputs": [],
   "source": [
    "# Mark images that could lower score for patient 2 images\n",
    "low_f1 = score['test_f1'] <= 0.4 \n",
    "test_ds_idxs = low_f1.nonzero()[0].tolist() \n",
    "map_grouped_test_set_to_images(test_ds_idxs, grouped_samples, ds2.data)"
   ]
  },
  {
   "cell_type": "code",
   "execution_count": null,
   "metadata": {},
   "outputs": [],
   "source": [
    "# Evaluate model created on subset of Patient 1 \n",
    "index_name_to_drop = [idx[0] for idx in s1_problematic.values()]\n",
    "ds1_cleaned = ds_ok = DatasetBase(cd8_data.drop(index=index_name_to_drop), filters=[drop_patient_3, drop_patient_2])\n",
    "ds1_cleaned.set_features(base_feature_list)\n",
    "\n",
    "cv_patient_results = {}\n",
    "for cv in cross_val_one_patient_per_img:\n",
    "    cv_patient_results[cv] = cross_validate(models['baseline'], X=ds1_cleaned.data, y=ds1_cleaned.data_cls,\n",
    "                                            cv=cross_val_one_patient_per_img[cv], groups=group_by_image(ds1_cleaned.data), scoring=SCORES_LIST, verbose=1, n_jobs=-1)"
   ]
  },
  {
   "cell_type": "code",
   "execution_count": null,
   "metadata": {},
   "outputs": [],
   "source": [
    "for name, scores in cv_patient_results.items():\n",
    "    print_scores(name, scores)"
   ]
  },
  {
   "cell_type": "code",
   "execution_count": null,
   "metadata": {},
   "outputs": [],
   "source": [
    "ds1_cleaned.data_cls.value_counts()"
   ]
  },
  {
   "cell_type": "code",
   "execution_count": null,
   "metadata": {},
   "outputs": [],
   "source": [
    "ds1.data_cls.value_counts()"
   ]
  },
  {
   "cell_type": "markdown",
   "metadata": {
    "toc-hr-collapsed": false
   },
   "source": [
    "# Feature selection"
   ]
  },
  {
   "cell_type": "code",
   "execution_count": 12,
   "metadata": {},
   "outputs": [],
   "source": [
    "problematic_images = {8: ['TestNewClasses S2 1024 crop_class_pdlcd_11.tif'],\n",
    " 9: ['TestNewClasses S2 1024 crop_class_pdlcd_12.tif'],\n",
    " 10: ['TestNewClasses S2 1024 crop_class_pdlcd_13.tif'],\n",
    " 11: ['TestNewClasses S2 1024 crop_class_pdlcd_14.tif']}\n",
    "\n",
    "base_feature_list = train_utils.get_feature_columns(ds.dataset.columns, 'perc_per_10', ['0','0-clahe','0-edges','0-memb','2','2-clahe','2-edges','2-memb'])"
   ]
  },
  {
   "cell_type": "code",
   "execution_count": 13,
   "metadata": {},
   "outputs": [
    {
     "name": "stdout",
     "output_type": "stream",
     "text": [
      "{8: ['TestNewClasses S2 1024 crop_class_pdlcd_11.tif'],\n",
      " 9: ['TestNewClasses S2 1024 crop_class_pdlcd_12.tif'],\n",
      " 10: ['TestNewClasses S2 1024 crop_class_pdlcd_13.tif'],\n",
      " 11: ['TestNewClasses S2 1024 crop_class_pdlcd_14.tif']}\n"
     ]
    }
   ],
   "source": [
    "pprint(problematic_images)\n",
    "index_name_to_drop = [idx[0] for idx in problematic_images.values()]\n",
    "ds = DatasetBase(cd8_data.drop(index=index_name_to_drop), filters=[drop_patient_3])\n",
    "ds.set_features(base_feature_list)"
   ]
  },
  {
   "cell_type": "markdown",
   "metadata": {},
   "source": [
    "### All features"
   ]
  },
  {
   "cell_type": "code",
   "execution_count": 14,
   "metadata": {},
   "outputs": [
    {
     "data": {
      "text/plain": [
       "['0-clahe_haralick_mean_AngularSecondMoment',\n",
       " '0-clahe_haralick_mean_Contrast',\n",
       " '0-clahe_haralick_mean_Correlation',\n",
       " '0-clahe_haralick_mean_DifferenceEntropy',\n",
       " '0-clahe_haralick_mean_DifferenceVariance',\n",
       " '0-clahe_haralick_mean_Entropy',\n",
       " '0-clahe_haralick_mean_InfoMeas1',\n",
       " '0-clahe_haralick_mean_InfoMeas2',\n",
       " '0-clahe_haralick_mean_InverseDifferenceMoment',\n",
       " '0-clahe_haralick_mean_SumAverage',\n",
       " '0-clahe_haralick_mean_SumEntropy',\n",
       " '0-clahe_haralick_mean_SumVariance',\n",
       " '0-clahe_haralick_mean_Variance',\n",
       " '0-clahe_haralick_peak2peak_AngularSecondMoment',\n",
       " '0-clahe_haralick_peak2peak_Contrast',\n",
       " '0-clahe_haralick_peak2peak_Correlation',\n",
       " '0-clahe_haralick_peak2peak_DifferenceEntropy',\n",
       " '0-clahe_haralick_peak2peak_DifferenceVariance',\n",
       " '0-clahe_haralick_peak2peak_Entropy',\n",
       " '0-clahe_haralick_peak2peak_InfoMeas1',\n",
       " '0-clahe_haralick_peak2peak_InfoMeas2',\n",
       " '0-clahe_haralick_peak2peak_InverseDifferenceMoment',\n",
       " '0-clahe_haralick_peak2peak_SumAverage',\n",
       " '0-clahe_haralick_peak2peak_SumEntropy',\n",
       " '0-clahe_haralick_peak2peak_SumVariance',\n",
       " '0-clahe_haralick_peak2peak_Variance',\n",
       " '0-clahe_mad_intensity',\n",
       " '0-clahe_mass_displace_in_diameters',\n",
       " '0-clahe_mass_displace_in_majors',\n",
       " '0-clahe_mean_intensity',\n",
       " '0-clahe_median_intensity',\n",
       " '0-clahe_moment_normalized_0_0_2',\n",
       " '0-clahe_moment_normalized_0_0_3',\n",
       " '0-clahe_moment_normalized_0_1_1',\n",
       " '0-clahe_moment_normalized_0_1_2',\n",
       " '0-clahe_moment_normalized_0_1_3',\n",
       " '0-clahe_moment_normalized_0_2_0',\n",
       " '0-clahe_moment_normalized_0_2_1',\n",
       " '0-clahe_moment_normalized_0_2_2',\n",
       " '0-clahe_moment_normalized_0_2_3',\n",
       " '0-clahe_moment_normalized_0_3_0',\n",
       " '0-clahe_moment_normalized_0_3_1',\n",
       " '0-clahe_moment_normalized_0_3_2',\n",
       " '0-clahe_moment_normalized_0_3_3',\n",
       " '0-clahe_moment_normalized_1_0_1',\n",
       " '0-clahe_moment_normalized_1_0_2',\n",
       " '0-clahe_moment_normalized_1_0_3',\n",
       " '0-clahe_moment_normalized_1_1_0',\n",
       " '0-clahe_moment_normalized_1_1_1',\n",
       " '0-clahe_moment_normalized_1_1_2',\n",
       " '0-clahe_moment_normalized_1_1_3',\n",
       " '0-clahe_moment_normalized_1_2_0',\n",
       " '0-clahe_moment_normalized_1_2_1',\n",
       " '0-clahe_moment_normalized_1_2_2',\n",
       " '0-clahe_moment_normalized_1_2_3',\n",
       " '0-clahe_moment_normalized_1_3_0',\n",
       " '0-clahe_moment_normalized_1_3_1',\n",
       " '0-clahe_moment_normalized_1_3_2',\n",
       " '0-clahe_moment_normalized_1_3_3',\n",
       " '0-clahe_moment_normalized_2_0_0',\n",
       " '0-clahe_moment_normalized_2_0_1',\n",
       " '0-clahe_moment_normalized_2_0_2',\n",
       " '0-clahe_moment_normalized_2_0_3',\n",
       " '0-clahe_moment_normalized_2_1_0',\n",
       " '0-clahe_moment_normalized_2_1_1',\n",
       " '0-clahe_moment_normalized_2_1_2',\n",
       " '0-clahe_moment_normalized_2_1_3',\n",
       " '0-clahe_moment_normalized_2_2_0',\n",
       " '0-clahe_moment_normalized_2_2_1',\n",
       " '0-clahe_moment_normalized_2_2_2',\n",
       " '0-clahe_moment_normalized_2_2_3',\n",
       " '0-clahe_moment_normalized_2_3_0',\n",
       " '0-clahe_moment_normalized_2_3_1',\n",
       " '0-clahe_moment_normalized_2_3_2',\n",
       " '0-clahe_moment_normalized_2_3_3',\n",
       " '0-clahe_moment_normalized_3_0_0',\n",
       " '0-clahe_moment_normalized_3_0_1',\n",
       " '0-clahe_moment_normalized_3_0_2',\n",
       " '0-clahe_moment_normalized_3_0_3',\n",
       " '0-clahe_moment_normalized_3_1_0',\n",
       " '0-clahe_moment_normalized_3_1_1',\n",
       " '0-clahe_moment_normalized_3_1_2',\n",
       " '0-clahe_moment_normalized_3_1_3',\n",
       " '0-clahe_moment_normalized_3_2_0',\n",
       " '0-clahe_moment_normalized_3_2_1',\n",
       " '0-clahe_moment_normalized_3_2_2',\n",
       " '0-clahe_moment_normalized_3_2_3',\n",
       " '0-clahe_moment_normalized_3_3_0',\n",
       " '0-clahe_moment_normalized_3_3_1',\n",
       " '0-clahe_moment_normalized_3_3_2',\n",
       " '0-clahe_moment_normalized_3_3_3',\n",
       " '0-clahe_perc_10_intensity',\n",
       " '0-clahe_perc_20_intensity',\n",
       " '0-clahe_perc_25_intensity',\n",
       " '0-clahe_perc_30_intensity',\n",
       " '0-clahe_perc_40_intensity',\n",
       " '0-clahe_perc_50_intensity',\n",
       " '0-clahe_perc_60_intensity',\n",
       " '0-clahe_perc_70_intensity',\n",
       " '0-clahe_perc_75_intensity',\n",
       " '0-clahe_perc_80_intensity',\n",
       " '0-clahe_perc_90_intensity',\n",
       " '0-clahe_std_intensity',\n",
       " '0-edges_haralick_mean_AngularSecondMoment',\n",
       " '0-edges_haralick_mean_Contrast',\n",
       " '0-edges_haralick_mean_Correlation',\n",
       " '0-edges_haralick_mean_DifferenceEntropy',\n",
       " '0-edges_haralick_mean_DifferenceVariance',\n",
       " '0-edges_haralick_mean_Entropy',\n",
       " '0-edges_haralick_mean_InfoMeas1',\n",
       " '0-edges_haralick_mean_InfoMeas2',\n",
       " '0-edges_haralick_mean_InverseDifferenceMoment',\n",
       " '0-edges_haralick_mean_SumAverage',\n",
       " '0-edges_haralick_mean_SumEntropy',\n",
       " '0-edges_haralick_mean_SumVariance',\n",
       " '0-edges_haralick_mean_Variance',\n",
       " '0-edges_haralick_peak2peak_AngularSecondMoment',\n",
       " '0-edges_haralick_peak2peak_Contrast',\n",
       " '0-edges_haralick_peak2peak_Correlation',\n",
       " '0-edges_haralick_peak2peak_DifferenceEntropy',\n",
       " '0-edges_haralick_peak2peak_DifferenceVariance',\n",
       " '0-edges_haralick_peak2peak_Entropy',\n",
       " '0-edges_haralick_peak2peak_InfoMeas1',\n",
       " '0-edges_haralick_peak2peak_InfoMeas2',\n",
       " '0-edges_haralick_peak2peak_InverseDifferenceMoment',\n",
       " '0-edges_haralick_peak2peak_SumAverage',\n",
       " '0-edges_haralick_peak2peak_SumEntropy',\n",
       " '0-edges_haralick_peak2peak_SumVariance',\n",
       " '0-edges_haralick_peak2peak_Variance',\n",
       " '0-edges_mad_intensity',\n",
       " '0-edges_mass_displace_in_diameters',\n",
       " '0-edges_mass_displace_in_majors',\n",
       " '0-edges_mean_intensity',\n",
       " '0-edges_median_intensity',\n",
       " '0-edges_moment_normalized_0_0_2',\n",
       " '0-edges_moment_normalized_0_0_3',\n",
       " '0-edges_moment_normalized_0_1_1',\n",
       " '0-edges_moment_normalized_0_1_2',\n",
       " '0-edges_moment_normalized_0_1_3',\n",
       " '0-edges_moment_normalized_0_2_0',\n",
       " '0-edges_moment_normalized_0_2_1',\n",
       " '0-edges_moment_normalized_0_2_2',\n",
       " '0-edges_moment_normalized_0_2_3',\n",
       " '0-edges_moment_normalized_0_3_0',\n",
       " '0-edges_moment_normalized_0_3_1',\n",
       " '0-edges_moment_normalized_0_3_2',\n",
       " '0-edges_moment_normalized_0_3_3',\n",
       " '0-edges_moment_normalized_1_0_1',\n",
       " '0-edges_moment_normalized_1_0_2',\n",
       " '0-edges_moment_normalized_1_0_3',\n",
       " '0-edges_moment_normalized_1_1_0',\n",
       " '0-edges_moment_normalized_1_1_1',\n",
       " '0-edges_moment_normalized_1_1_2',\n",
       " '0-edges_moment_normalized_1_1_3',\n",
       " '0-edges_moment_normalized_1_2_0',\n",
       " '0-edges_moment_normalized_1_2_1',\n",
       " '0-edges_moment_normalized_1_2_2',\n",
       " '0-edges_moment_normalized_1_2_3',\n",
       " '0-edges_moment_normalized_1_3_0',\n",
       " '0-edges_moment_normalized_1_3_1',\n",
       " '0-edges_moment_normalized_1_3_2',\n",
       " '0-edges_moment_normalized_1_3_3',\n",
       " '0-edges_moment_normalized_2_0_0',\n",
       " '0-edges_moment_normalized_2_0_1',\n",
       " '0-edges_moment_normalized_2_0_2',\n",
       " '0-edges_moment_normalized_2_0_3',\n",
       " '0-edges_moment_normalized_2_1_0',\n",
       " '0-edges_moment_normalized_2_1_1',\n",
       " '0-edges_moment_normalized_2_1_2',\n",
       " '0-edges_moment_normalized_2_1_3',\n",
       " '0-edges_moment_normalized_2_2_0',\n",
       " '0-edges_moment_normalized_2_2_1',\n",
       " '0-edges_moment_normalized_2_2_2',\n",
       " '0-edges_moment_normalized_2_2_3',\n",
       " '0-edges_moment_normalized_2_3_0',\n",
       " '0-edges_moment_normalized_2_3_1',\n",
       " '0-edges_moment_normalized_2_3_2',\n",
       " '0-edges_moment_normalized_2_3_3',\n",
       " '0-edges_moment_normalized_3_0_0',\n",
       " '0-edges_moment_normalized_3_0_1',\n",
       " '0-edges_moment_normalized_3_0_2',\n",
       " '0-edges_moment_normalized_3_0_3',\n",
       " '0-edges_moment_normalized_3_1_0',\n",
       " '0-edges_moment_normalized_3_1_1',\n",
       " '0-edges_moment_normalized_3_1_2',\n",
       " '0-edges_moment_normalized_3_1_3',\n",
       " '0-edges_moment_normalized_3_2_0',\n",
       " '0-edges_moment_normalized_3_2_1',\n",
       " '0-edges_moment_normalized_3_2_2',\n",
       " '0-edges_moment_normalized_3_2_3',\n",
       " '0-edges_moment_normalized_3_3_0',\n",
       " '0-edges_moment_normalized_3_3_1',\n",
       " '0-edges_moment_normalized_3_3_2',\n",
       " '0-edges_moment_normalized_3_3_3',\n",
       " '0-edges_perc_10_intensity',\n",
       " '0-edges_perc_20_intensity',\n",
       " '0-edges_perc_25_intensity',\n",
       " '0-edges_perc_30_intensity',\n",
       " '0-edges_perc_40_intensity',\n",
       " '0-edges_perc_50_intensity',\n",
       " '0-edges_perc_60_intensity',\n",
       " '0-edges_perc_70_intensity',\n",
       " '0-edges_perc_75_intensity',\n",
       " '0-edges_perc_80_intensity',\n",
       " '0-edges_perc_90_intensity',\n",
       " '0-edges_std_intensity',\n",
       " '0-memb_haralick_mean_AngularSecondMoment',\n",
       " '0-memb_haralick_mean_Contrast',\n",
       " '0-memb_haralick_mean_Correlation',\n",
       " '0-memb_haralick_mean_DifferenceEntropy',\n",
       " '0-memb_haralick_mean_DifferenceVariance',\n",
       " '0-memb_haralick_mean_Entropy',\n",
       " '0-memb_haralick_mean_InfoMeas1',\n",
       " '0-memb_haralick_mean_InfoMeas2',\n",
       " '0-memb_haralick_mean_InverseDifferenceMoment',\n",
       " '0-memb_haralick_mean_SumAverage',\n",
       " '0-memb_haralick_mean_SumEntropy',\n",
       " '0-memb_haralick_mean_SumVariance',\n",
       " '0-memb_haralick_mean_Variance',\n",
       " '0-memb_haralick_peak2peak_AngularSecondMoment',\n",
       " '0-memb_haralick_peak2peak_Contrast',\n",
       " '0-memb_haralick_peak2peak_Correlation',\n",
       " '0-memb_haralick_peak2peak_DifferenceEntropy',\n",
       " '0-memb_haralick_peak2peak_DifferenceVariance',\n",
       " '0-memb_haralick_peak2peak_Entropy',\n",
       " '0-memb_haralick_peak2peak_InfoMeas1',\n",
       " '0-memb_haralick_peak2peak_InfoMeas2',\n",
       " '0-memb_haralick_peak2peak_InverseDifferenceMoment',\n",
       " '0-memb_haralick_peak2peak_SumAverage',\n",
       " '0-memb_haralick_peak2peak_SumEntropy',\n",
       " '0-memb_haralick_peak2peak_SumVariance',\n",
       " '0-memb_haralick_peak2peak_Variance',\n",
       " '0-memb_mad_intensity',\n",
       " '0-memb_mass_displace_in_diameters',\n",
       " '0-memb_mass_displace_in_majors',\n",
       " '0-memb_mean_intensity',\n",
       " '0-memb_median_intensity',\n",
       " '0-memb_moment_normalized_0_0_2',\n",
       " '0-memb_moment_normalized_0_0_3',\n",
       " '0-memb_moment_normalized_0_1_1',\n",
       " '0-memb_moment_normalized_0_1_2',\n",
       " '0-memb_moment_normalized_0_1_3',\n",
       " '0-memb_moment_normalized_0_2_0',\n",
       " '0-memb_moment_normalized_0_2_1',\n",
       " '0-memb_moment_normalized_0_2_2',\n",
       " '0-memb_moment_normalized_0_2_3',\n",
       " '0-memb_moment_normalized_0_3_0',\n",
       " '0-memb_moment_normalized_0_3_1',\n",
       " '0-memb_moment_normalized_0_3_2',\n",
       " '0-memb_moment_normalized_0_3_3',\n",
       " '0-memb_moment_normalized_1_0_1',\n",
       " '0-memb_moment_normalized_1_0_2',\n",
       " '0-memb_moment_normalized_1_0_3',\n",
       " '0-memb_moment_normalized_1_1_0',\n",
       " '0-memb_moment_normalized_1_1_1',\n",
       " '0-memb_moment_normalized_1_1_2',\n",
       " '0-memb_moment_normalized_1_1_3',\n",
       " '0-memb_moment_normalized_1_2_0',\n",
       " '0-memb_moment_normalized_1_2_1',\n",
       " '0-memb_moment_normalized_1_2_2',\n",
       " '0-memb_moment_normalized_1_2_3',\n",
       " '0-memb_moment_normalized_1_3_0',\n",
       " '0-memb_moment_normalized_1_3_1',\n",
       " '0-memb_moment_normalized_1_3_2',\n",
       " '0-memb_moment_normalized_1_3_3',\n",
       " '0-memb_moment_normalized_2_0_0',\n",
       " '0-memb_moment_normalized_2_0_1',\n",
       " '0-memb_moment_normalized_2_0_2',\n",
       " '0-memb_moment_normalized_2_0_3',\n",
       " '0-memb_moment_normalized_2_1_0',\n",
       " '0-memb_moment_normalized_2_1_1',\n",
       " '0-memb_moment_normalized_2_1_2',\n",
       " '0-memb_moment_normalized_2_1_3',\n",
       " '0-memb_moment_normalized_2_2_0',\n",
       " '0-memb_moment_normalized_2_2_1',\n",
       " '0-memb_moment_normalized_2_2_2',\n",
       " '0-memb_moment_normalized_2_2_3',\n",
       " '0-memb_moment_normalized_2_3_0',\n",
       " '0-memb_moment_normalized_2_3_1',\n",
       " '0-memb_moment_normalized_2_3_2',\n",
       " '0-memb_moment_normalized_2_3_3',\n",
       " '0-memb_moment_normalized_3_0_0',\n",
       " '0-memb_moment_normalized_3_0_1',\n",
       " '0-memb_moment_normalized_3_0_2',\n",
       " '0-memb_moment_normalized_3_0_3',\n",
       " '0-memb_moment_normalized_3_1_0',\n",
       " '0-memb_moment_normalized_3_1_1',\n",
       " '0-memb_moment_normalized_3_1_2',\n",
       " '0-memb_moment_normalized_3_1_3',\n",
       " '0-memb_moment_normalized_3_2_0',\n",
       " '0-memb_moment_normalized_3_2_1',\n",
       " '0-memb_moment_normalized_3_2_2',\n",
       " '0-memb_moment_normalized_3_2_3',\n",
       " '0-memb_moment_normalized_3_3_0',\n",
       " '0-memb_moment_normalized_3_3_1',\n",
       " '0-memb_moment_normalized_3_3_2',\n",
       " '0-memb_moment_normalized_3_3_3',\n",
       " '0-memb_perc_10_intensity',\n",
       " '0-memb_perc_20_intensity',\n",
       " '0-memb_perc_25_intensity',\n",
       " '0-memb_perc_30_intensity',\n",
       " '0-memb_perc_40_intensity',\n",
       " '0-memb_perc_50_intensity',\n",
       " '0-memb_perc_60_intensity',\n",
       " '0-memb_perc_70_intensity',\n",
       " '0-memb_perc_75_intensity',\n",
       " '0-memb_perc_80_intensity',\n",
       " '0-memb_perc_90_intensity',\n",
       " '0-memb_std_intensity',\n",
       " '0_haralick_mean_AngularSecondMoment',\n",
       " '0_haralick_mean_Contrast',\n",
       " '0_haralick_mean_Correlation',\n",
       " '0_haralick_mean_DifferenceEntropy',\n",
       " '0_haralick_mean_DifferenceVariance',\n",
       " '0_haralick_mean_Entropy',\n",
       " '0_haralick_mean_InfoMeas1',\n",
       " '0_haralick_mean_InfoMeas2',\n",
       " '0_haralick_mean_InverseDifferenceMoment',\n",
       " '0_haralick_mean_SumAverage',\n",
       " '0_haralick_mean_SumEntropy',\n",
       " '0_haralick_mean_SumVariance',\n",
       " '0_haralick_mean_Variance',\n",
       " '0_haralick_peak2peak_AngularSecondMoment',\n",
       " '0_haralick_peak2peak_Contrast',\n",
       " '0_haralick_peak2peak_Correlation',\n",
       " '0_haralick_peak2peak_DifferenceEntropy',\n",
       " '0_haralick_peak2peak_DifferenceVariance',\n",
       " '0_haralick_peak2peak_Entropy',\n",
       " '0_haralick_peak2peak_InfoMeas1',\n",
       " '0_haralick_peak2peak_InfoMeas2',\n",
       " '0_haralick_peak2peak_InverseDifferenceMoment',\n",
       " '0_haralick_peak2peak_SumAverage',\n",
       " '0_haralick_peak2peak_SumEntropy',\n",
       " '0_haralick_peak2peak_SumVariance',\n",
       " '0_haralick_peak2peak_Variance',\n",
       " '0_mad_intensity',\n",
       " '0_mass_displace_in_diameters',\n",
       " '0_mass_displace_in_majors',\n",
       " '0_mean_intensity',\n",
       " '0_median_intensity',\n",
       " '0_moment_normalized_0_0_2',\n",
       " '0_moment_normalized_0_0_3',\n",
       " '0_moment_normalized_0_1_1',\n",
       " '0_moment_normalized_0_1_2',\n",
       " '0_moment_normalized_0_1_3',\n",
       " '0_moment_normalized_0_2_0',\n",
       " '0_moment_normalized_0_2_1',\n",
       " '0_moment_normalized_0_2_2',\n",
       " '0_moment_normalized_0_2_3',\n",
       " '0_moment_normalized_0_3_0',\n",
       " '0_moment_normalized_0_3_1',\n",
       " '0_moment_normalized_0_3_2',\n",
       " '0_moment_normalized_0_3_3',\n",
       " '0_moment_normalized_1_0_1',\n",
       " '0_moment_normalized_1_0_2',\n",
       " '0_moment_normalized_1_0_3',\n",
       " '0_moment_normalized_1_1_0',\n",
       " '0_moment_normalized_1_1_1',\n",
       " '0_moment_normalized_1_1_2',\n",
       " '0_moment_normalized_1_1_3',\n",
       " '0_moment_normalized_1_2_0',\n",
       " '0_moment_normalized_1_2_1',\n",
       " '0_moment_normalized_1_2_2',\n",
       " '0_moment_normalized_1_2_3',\n",
       " '0_moment_normalized_1_3_0',\n",
       " '0_moment_normalized_1_3_1',\n",
       " '0_moment_normalized_1_3_2',\n",
       " '0_moment_normalized_1_3_3',\n",
       " '0_moment_normalized_2_0_0',\n",
       " '0_moment_normalized_2_0_1',\n",
       " '0_moment_normalized_2_0_2',\n",
       " '0_moment_normalized_2_0_3',\n",
       " '0_moment_normalized_2_1_0',\n",
       " '0_moment_normalized_2_1_1',\n",
       " '0_moment_normalized_2_1_2',\n",
       " '0_moment_normalized_2_1_3',\n",
       " '0_moment_normalized_2_2_0',\n",
       " '0_moment_normalized_2_2_1',\n",
       " '0_moment_normalized_2_2_2',\n",
       " '0_moment_normalized_2_2_3',\n",
       " '0_moment_normalized_2_3_0',\n",
       " '0_moment_normalized_2_3_1',\n",
       " '0_moment_normalized_2_3_2',\n",
       " '0_moment_normalized_2_3_3',\n",
       " '0_moment_normalized_3_0_0',\n",
       " '0_moment_normalized_3_0_1',\n",
       " '0_moment_normalized_3_0_2',\n",
       " '0_moment_normalized_3_0_3',\n",
       " '0_moment_normalized_3_1_0',\n",
       " '0_moment_normalized_3_1_1',\n",
       " '0_moment_normalized_3_1_2',\n",
       " '0_moment_normalized_3_1_3',\n",
       " '0_moment_normalized_3_2_0',\n",
       " '0_moment_normalized_3_2_1',\n",
       " '0_moment_normalized_3_2_2',\n",
       " '0_moment_normalized_3_2_3',\n",
       " '0_moment_normalized_3_3_0',\n",
       " '0_moment_normalized_3_3_1',\n",
       " '0_moment_normalized_3_3_2',\n",
       " '0_moment_normalized_3_3_3',\n",
       " '0_perc_10_intensity',\n",
       " '0_perc_20_intensity',\n",
       " '0_perc_25_intensity',\n",
       " '0_perc_30_intensity',\n",
       " '0_perc_40_intensity',\n",
       " '0_perc_50_intensity',\n",
       " '0_perc_60_intensity',\n",
       " '0_perc_70_intensity',\n",
       " '0_perc_75_intensity',\n",
       " '0_perc_80_intensity',\n",
       " '0_perc_90_intensity',\n",
       " '0_std_intensity',\n",
       " '2-clahe_haralick_mean_AngularSecondMoment',\n",
       " '2-clahe_haralick_mean_Contrast',\n",
       " '2-clahe_haralick_mean_Correlation',\n",
       " '2-clahe_haralick_mean_DifferenceEntropy',\n",
       " '2-clahe_haralick_mean_DifferenceVariance',\n",
       " '2-clahe_haralick_mean_Entropy',\n",
       " '2-clahe_haralick_mean_InfoMeas1',\n",
       " '2-clahe_haralick_mean_InfoMeas2',\n",
       " '2-clahe_haralick_mean_InverseDifferenceMoment',\n",
       " '2-clahe_haralick_mean_SumAverage',\n",
       " '2-clahe_haralick_mean_SumEntropy',\n",
       " '2-clahe_haralick_mean_SumVariance',\n",
       " '2-clahe_haralick_mean_Variance',\n",
       " '2-clahe_haralick_peak2peak_AngularSecondMoment',\n",
       " '2-clahe_haralick_peak2peak_Contrast',\n",
       " '2-clahe_haralick_peak2peak_Correlation',\n",
       " '2-clahe_haralick_peak2peak_DifferenceEntropy',\n",
       " '2-clahe_haralick_peak2peak_DifferenceVariance',\n",
       " '2-clahe_haralick_peak2peak_Entropy',\n",
       " '2-clahe_haralick_peak2peak_InfoMeas1',\n",
       " '2-clahe_haralick_peak2peak_InfoMeas2',\n",
       " '2-clahe_haralick_peak2peak_InverseDifferenceMoment',\n",
       " '2-clahe_haralick_peak2peak_SumAverage',\n",
       " '2-clahe_haralick_peak2peak_SumEntropy',\n",
       " '2-clahe_haralick_peak2peak_SumVariance',\n",
       " '2-clahe_haralick_peak2peak_Variance',\n",
       " '2-clahe_mad_intensity',\n",
       " '2-clahe_mass_displace_in_diameters',\n",
       " '2-clahe_mass_displace_in_majors',\n",
       " '2-clahe_mean_intensity',\n",
       " '2-clahe_median_intensity',\n",
       " '2-clahe_moment_normalized_0_0_2',\n",
       " '2-clahe_moment_normalized_0_0_3',\n",
       " '2-clahe_moment_normalized_0_1_1',\n",
       " '2-clahe_moment_normalized_0_1_2',\n",
       " '2-clahe_moment_normalized_0_1_3',\n",
       " '2-clahe_moment_normalized_0_2_0',\n",
       " '2-clahe_moment_normalized_0_2_1',\n",
       " '2-clahe_moment_normalized_0_2_2',\n",
       " '2-clahe_moment_normalized_0_2_3',\n",
       " '2-clahe_moment_normalized_0_3_0',\n",
       " '2-clahe_moment_normalized_0_3_1',\n",
       " '2-clahe_moment_normalized_0_3_2',\n",
       " '2-clahe_moment_normalized_0_3_3',\n",
       " '2-clahe_moment_normalized_1_0_1',\n",
       " '2-clahe_moment_normalized_1_0_2',\n",
       " '2-clahe_moment_normalized_1_0_3',\n",
       " '2-clahe_moment_normalized_1_1_0',\n",
       " '2-clahe_moment_normalized_1_1_1',\n",
       " '2-clahe_moment_normalized_1_1_2',\n",
       " '2-clahe_moment_normalized_1_1_3',\n",
       " '2-clahe_moment_normalized_1_2_0',\n",
       " '2-clahe_moment_normalized_1_2_1',\n",
       " '2-clahe_moment_normalized_1_2_2',\n",
       " '2-clahe_moment_normalized_1_2_3',\n",
       " '2-clahe_moment_normalized_1_3_0',\n",
       " '2-clahe_moment_normalized_1_3_1',\n",
       " '2-clahe_moment_normalized_1_3_2',\n",
       " '2-clahe_moment_normalized_1_3_3',\n",
       " '2-clahe_moment_normalized_2_0_0',\n",
       " '2-clahe_moment_normalized_2_0_1',\n",
       " '2-clahe_moment_normalized_2_0_2',\n",
       " '2-clahe_moment_normalized_2_0_3',\n",
       " '2-clahe_moment_normalized_2_1_0',\n",
       " '2-clahe_moment_normalized_2_1_1',\n",
       " '2-clahe_moment_normalized_2_1_2',\n",
       " '2-clahe_moment_normalized_2_1_3',\n",
       " '2-clahe_moment_normalized_2_2_0',\n",
       " '2-clahe_moment_normalized_2_2_1',\n",
       " '2-clahe_moment_normalized_2_2_2',\n",
       " '2-clahe_moment_normalized_2_2_3',\n",
       " '2-clahe_moment_normalized_2_3_0',\n",
       " '2-clahe_moment_normalized_2_3_1',\n",
       " '2-clahe_moment_normalized_2_3_2',\n",
       " '2-clahe_moment_normalized_2_3_3',\n",
       " '2-clahe_moment_normalized_3_0_0',\n",
       " '2-clahe_moment_normalized_3_0_1',\n",
       " '2-clahe_moment_normalized_3_0_2',\n",
       " '2-clahe_moment_normalized_3_0_3',\n",
       " '2-clahe_moment_normalized_3_1_0',\n",
       " '2-clahe_moment_normalized_3_1_1',\n",
       " '2-clahe_moment_normalized_3_1_2',\n",
       " '2-clahe_moment_normalized_3_1_3',\n",
       " '2-clahe_moment_normalized_3_2_0',\n",
       " '2-clahe_moment_normalized_3_2_1',\n",
       " '2-clahe_moment_normalized_3_2_2',\n",
       " '2-clahe_moment_normalized_3_2_3',\n",
       " '2-clahe_moment_normalized_3_3_0',\n",
       " '2-clahe_moment_normalized_3_3_1',\n",
       " '2-clahe_moment_normalized_3_3_2',\n",
       " '2-clahe_moment_normalized_3_3_3',\n",
       " '2-clahe_perc_10_intensity',\n",
       " '2-clahe_perc_20_intensity',\n",
       " '2-clahe_perc_25_intensity',\n",
       " '2-clahe_perc_30_intensity',\n",
       " '2-clahe_perc_40_intensity',\n",
       " '2-clahe_perc_50_intensity',\n",
       " '2-clahe_perc_60_intensity',\n",
       " '2-clahe_perc_70_intensity',\n",
       " '2-clahe_perc_75_intensity',\n",
       " '2-clahe_perc_80_intensity',\n",
       " '2-clahe_perc_90_intensity',\n",
       " '2-clahe_std_intensity',\n",
       " '2-edges_haralick_mean_AngularSecondMoment',\n",
       " '2-edges_haralick_mean_Contrast',\n",
       " '2-edges_haralick_mean_Correlation',\n",
       " '2-edges_haralick_mean_DifferenceEntropy',\n",
       " '2-edges_haralick_mean_DifferenceVariance',\n",
       " '2-edges_haralick_mean_Entropy',\n",
       " '2-edges_haralick_mean_InfoMeas1',\n",
       " '2-edges_haralick_mean_InfoMeas2',\n",
       " '2-edges_haralick_mean_InverseDifferenceMoment',\n",
       " '2-edges_haralick_mean_SumAverage',\n",
       " '2-edges_haralick_mean_SumEntropy',\n",
       " '2-edges_haralick_mean_SumVariance',\n",
       " '2-edges_haralick_mean_Variance',\n",
       " '2-edges_haralick_peak2peak_AngularSecondMoment',\n",
       " '2-edges_haralick_peak2peak_Contrast',\n",
       " '2-edges_haralick_peak2peak_Correlation',\n",
       " '2-edges_haralick_peak2peak_DifferenceEntropy',\n",
       " '2-edges_haralick_peak2peak_DifferenceVariance',\n",
       " '2-edges_haralick_peak2peak_Entropy',\n",
       " '2-edges_haralick_peak2peak_InfoMeas1',\n",
       " '2-edges_haralick_peak2peak_InfoMeas2',\n",
       " '2-edges_haralick_peak2peak_InverseDifferenceMoment',\n",
       " '2-edges_haralick_peak2peak_SumAverage',\n",
       " '2-edges_haralick_peak2peak_SumEntropy',\n",
       " '2-edges_haralick_peak2peak_SumVariance',\n",
       " '2-edges_haralick_peak2peak_Variance',\n",
       " '2-edges_mad_intensity',\n",
       " '2-edges_mass_displace_in_diameters',\n",
       " '2-edges_mass_displace_in_majors',\n",
       " '2-edges_mean_intensity',\n",
       " '2-edges_median_intensity',\n",
       " '2-edges_moment_normalized_0_0_2',\n",
       " '2-edges_moment_normalized_0_0_3',\n",
       " '2-edges_moment_normalized_0_1_1',\n",
       " '2-edges_moment_normalized_0_1_2',\n",
       " '2-edges_moment_normalized_0_1_3',\n",
       " '2-edges_moment_normalized_0_2_0',\n",
       " '2-edges_moment_normalized_0_2_1',\n",
       " '2-edges_moment_normalized_0_2_2',\n",
       " '2-edges_moment_normalized_0_2_3',\n",
       " '2-edges_moment_normalized_0_3_0',\n",
       " '2-edges_moment_normalized_0_3_1',\n",
       " '2-edges_moment_normalized_0_3_2',\n",
       " '2-edges_moment_normalized_0_3_3',\n",
       " '2-edges_moment_normalized_1_0_1',\n",
       " '2-edges_moment_normalized_1_0_2',\n",
       " '2-edges_moment_normalized_1_0_3',\n",
       " '2-edges_moment_normalized_1_1_0',\n",
       " '2-edges_moment_normalized_1_1_1',\n",
       " '2-edges_moment_normalized_1_1_2',\n",
       " '2-edges_moment_normalized_1_1_3',\n",
       " '2-edges_moment_normalized_1_2_0',\n",
       " '2-edges_moment_normalized_1_2_1',\n",
       " '2-edges_moment_normalized_1_2_2',\n",
       " '2-edges_moment_normalized_1_2_3',\n",
       " '2-edges_moment_normalized_1_3_0',\n",
       " '2-edges_moment_normalized_1_3_1',\n",
       " '2-edges_moment_normalized_1_3_2',\n",
       " '2-edges_moment_normalized_1_3_3',\n",
       " '2-edges_moment_normalized_2_0_0',\n",
       " '2-edges_moment_normalized_2_0_1',\n",
       " '2-edges_moment_normalized_2_0_2',\n",
       " '2-edges_moment_normalized_2_0_3',\n",
       " '2-edges_moment_normalized_2_1_0',\n",
       " '2-edges_moment_normalized_2_1_1',\n",
       " '2-edges_moment_normalized_2_1_2',\n",
       " '2-edges_moment_normalized_2_1_3',\n",
       " '2-edges_moment_normalized_2_2_0',\n",
       " '2-edges_moment_normalized_2_2_1',\n",
       " '2-edges_moment_normalized_2_2_2',\n",
       " '2-edges_moment_normalized_2_2_3',\n",
       " '2-edges_moment_normalized_2_3_0',\n",
       " '2-edges_moment_normalized_2_3_1',\n",
       " '2-edges_moment_normalized_2_3_2',\n",
       " '2-edges_moment_normalized_2_3_3',\n",
       " '2-edges_moment_normalized_3_0_0',\n",
       " '2-edges_moment_normalized_3_0_1',\n",
       " '2-edges_moment_normalized_3_0_2',\n",
       " '2-edges_moment_normalized_3_0_3',\n",
       " '2-edges_moment_normalized_3_1_0',\n",
       " '2-edges_moment_normalized_3_1_1',\n",
       " '2-edges_moment_normalized_3_1_2',\n",
       " '2-edges_moment_normalized_3_1_3',\n",
       " '2-edges_moment_normalized_3_2_0',\n",
       " '2-edges_moment_normalized_3_2_1',\n",
       " '2-edges_moment_normalized_3_2_2',\n",
       " '2-edges_moment_normalized_3_2_3',\n",
       " '2-edges_moment_normalized_3_3_0',\n",
       " '2-edges_moment_normalized_3_3_1',\n",
       " '2-edges_moment_normalized_3_3_2',\n",
       " '2-edges_moment_normalized_3_3_3',\n",
       " '2-edges_perc_10_intensity',\n",
       " '2-edges_perc_20_intensity',\n",
       " '2-edges_perc_25_intensity',\n",
       " '2-edges_perc_30_intensity',\n",
       " '2-edges_perc_40_intensity',\n",
       " '2-edges_perc_50_intensity',\n",
       " '2-edges_perc_60_intensity',\n",
       " '2-edges_perc_70_intensity',\n",
       " '2-edges_perc_75_intensity',\n",
       " '2-edges_perc_80_intensity',\n",
       " '2-edges_perc_90_intensity',\n",
       " '2-edges_std_intensity',\n",
       " '2-memb_haralick_mean_AngularSecondMoment',\n",
       " '2-memb_haralick_mean_Contrast',\n",
       " '2-memb_haralick_mean_Correlation',\n",
       " '2-memb_haralick_mean_DifferenceEntropy',\n",
       " '2-memb_haralick_mean_DifferenceVariance',\n",
       " '2-memb_haralick_mean_Entropy',\n",
       " '2-memb_haralick_mean_InfoMeas1',\n",
       " '2-memb_haralick_mean_InfoMeas2',\n",
       " '2-memb_haralick_mean_InverseDifferenceMoment',\n",
       " '2-memb_haralick_mean_SumAverage',\n",
       " '2-memb_haralick_mean_SumEntropy',\n",
       " '2-memb_haralick_mean_SumVariance',\n",
       " '2-memb_haralick_mean_Variance',\n",
       " '2-memb_haralick_peak2peak_AngularSecondMoment',\n",
       " '2-memb_haralick_peak2peak_Contrast',\n",
       " '2-memb_haralick_peak2peak_Correlation',\n",
       " '2-memb_haralick_peak2peak_DifferenceEntropy',\n",
       " '2-memb_haralick_peak2peak_DifferenceVariance',\n",
       " '2-memb_haralick_peak2peak_Entropy',\n",
       " '2-memb_haralick_peak2peak_InfoMeas1',\n",
       " '2-memb_haralick_peak2peak_InfoMeas2',\n",
       " '2-memb_haralick_peak2peak_InverseDifferenceMoment',\n",
       " '2-memb_haralick_peak2peak_SumAverage',\n",
       " '2-memb_haralick_peak2peak_SumEntropy',\n",
       " '2-memb_haralick_peak2peak_SumVariance',\n",
       " '2-memb_haralick_peak2peak_Variance',\n",
       " '2-memb_mad_intensity',\n",
       " '2-memb_mass_displace_in_diameters',\n",
       " '2-memb_mass_displace_in_majors',\n",
       " '2-memb_mean_intensity',\n",
       " '2-memb_median_intensity',\n",
       " '2-memb_moment_normalized_0_0_2',\n",
       " '2-memb_moment_normalized_0_0_3',\n",
       " '2-memb_moment_normalized_0_1_1',\n",
       " '2-memb_moment_normalized_0_1_2',\n",
       " '2-memb_moment_normalized_0_1_3',\n",
       " '2-memb_moment_normalized_0_2_0',\n",
       " '2-memb_moment_normalized_0_2_1',\n",
       " '2-memb_moment_normalized_0_2_2',\n",
       " '2-memb_moment_normalized_0_2_3',\n",
       " '2-memb_moment_normalized_0_3_0',\n",
       " '2-memb_moment_normalized_0_3_1',\n",
       " '2-memb_moment_normalized_0_3_2',\n",
       " '2-memb_moment_normalized_0_3_3',\n",
       " '2-memb_moment_normalized_1_0_1',\n",
       " '2-memb_moment_normalized_1_0_2',\n",
       " '2-memb_moment_normalized_1_0_3',\n",
       " '2-memb_moment_normalized_1_1_0',\n",
       " '2-memb_moment_normalized_1_1_1',\n",
       " '2-memb_moment_normalized_1_1_2',\n",
       " '2-memb_moment_normalized_1_1_3',\n",
       " '2-memb_moment_normalized_1_2_0',\n",
       " '2-memb_moment_normalized_1_2_1',\n",
       " '2-memb_moment_normalized_1_2_2',\n",
       " '2-memb_moment_normalized_1_2_3',\n",
       " '2-memb_moment_normalized_1_3_0',\n",
       " '2-memb_moment_normalized_1_3_1',\n",
       " '2-memb_moment_normalized_1_3_2',\n",
       " '2-memb_moment_normalized_1_3_3',\n",
       " '2-memb_moment_normalized_2_0_0',\n",
       " '2-memb_moment_normalized_2_0_1',\n",
       " '2-memb_moment_normalized_2_0_2',\n",
       " '2-memb_moment_normalized_2_0_3',\n",
       " '2-memb_moment_normalized_2_1_0',\n",
       " '2-memb_moment_normalized_2_1_1',\n",
       " '2-memb_moment_normalized_2_1_2',\n",
       " '2-memb_moment_normalized_2_1_3',\n",
       " '2-memb_moment_normalized_2_2_0',\n",
       " '2-memb_moment_normalized_2_2_1',\n",
       " '2-memb_moment_normalized_2_2_2',\n",
       " '2-memb_moment_normalized_2_2_3',\n",
       " '2-memb_moment_normalized_2_3_0',\n",
       " '2-memb_moment_normalized_2_3_1',\n",
       " '2-memb_moment_normalized_2_3_2',\n",
       " '2-memb_moment_normalized_2_3_3',\n",
       " '2-memb_moment_normalized_3_0_0',\n",
       " '2-memb_moment_normalized_3_0_1',\n",
       " '2-memb_moment_normalized_3_0_2',\n",
       " '2-memb_moment_normalized_3_0_3',\n",
       " '2-memb_moment_normalized_3_1_0',\n",
       " '2-memb_moment_normalized_3_1_1',\n",
       " '2-memb_moment_normalized_3_1_2',\n",
       " '2-memb_moment_normalized_3_1_3',\n",
       " '2-memb_moment_normalized_3_2_0',\n",
       " '2-memb_moment_normalized_3_2_1',\n",
       " '2-memb_moment_normalized_3_2_2',\n",
       " '2-memb_moment_normalized_3_2_3',\n",
       " '2-memb_moment_normalized_3_3_0',\n",
       " '2-memb_moment_normalized_3_3_1',\n",
       " '2-memb_moment_normalized_3_3_2',\n",
       " '2-memb_moment_normalized_3_3_3',\n",
       " '2-memb_perc_10_intensity',\n",
       " '2-memb_perc_20_intensity',\n",
       " '2-memb_perc_25_intensity',\n",
       " '2-memb_perc_30_intensity',\n",
       " '2-memb_perc_40_intensity',\n",
       " '2-memb_perc_50_intensity',\n",
       " '2-memb_perc_60_intensity',\n",
       " '2-memb_perc_70_intensity',\n",
       " '2-memb_perc_75_intensity',\n",
       " '2-memb_perc_80_intensity',\n",
       " '2-memb_perc_90_intensity',\n",
       " '2-memb_std_intensity',\n",
       " '2_haralick_mean_AngularSecondMoment',\n",
       " '2_haralick_mean_Contrast',\n",
       " '2_haralick_mean_Correlation',\n",
       " '2_haralick_mean_DifferenceEntropy',\n",
       " '2_haralick_mean_DifferenceVariance',\n",
       " '2_haralick_mean_Entropy',\n",
       " '2_haralick_mean_InfoMeas1',\n",
       " '2_haralick_mean_InfoMeas2',\n",
       " '2_haralick_mean_InverseDifferenceMoment',\n",
       " '2_haralick_mean_SumAverage',\n",
       " '2_haralick_mean_SumEntropy',\n",
       " '2_haralick_mean_SumVariance',\n",
       " '2_haralick_mean_Variance',\n",
       " '2_haralick_peak2peak_AngularSecondMoment',\n",
       " '2_haralick_peak2peak_Contrast',\n",
       " '2_haralick_peak2peak_Correlation',\n",
       " '2_haralick_peak2peak_DifferenceEntropy',\n",
       " '2_haralick_peak2peak_DifferenceVariance',\n",
       " '2_haralick_peak2peak_Entropy',\n",
       " '2_haralick_peak2peak_InfoMeas1',\n",
       " '2_haralick_peak2peak_InfoMeas2',\n",
       " '2_haralick_peak2peak_InverseDifferenceMoment',\n",
       " '2_haralick_peak2peak_SumAverage',\n",
       " '2_haralick_peak2peak_SumEntropy',\n",
       " '2_haralick_peak2peak_SumVariance',\n",
       " '2_haralick_peak2peak_Variance',\n",
       " '2_mad_intensity',\n",
       " '2_mass_displace_in_diameters',\n",
       " '2_mass_displace_in_majors',\n",
       " '2_mean_intensity',\n",
       " '2_median_intensity',\n",
       " '2_moment_normalized_0_0_2',\n",
       " '2_moment_normalized_0_0_3',\n",
       " '2_moment_normalized_0_1_1',\n",
       " '2_moment_normalized_0_1_2',\n",
       " '2_moment_normalized_0_1_3',\n",
       " '2_moment_normalized_0_2_0',\n",
       " '2_moment_normalized_0_2_1',\n",
       " '2_moment_normalized_0_2_2',\n",
       " '2_moment_normalized_0_2_3',\n",
       " '2_moment_normalized_0_3_0',\n",
       " '2_moment_normalized_0_3_1',\n",
       " '2_moment_normalized_0_3_2',\n",
       " '2_moment_normalized_0_3_3',\n",
       " '2_moment_normalized_1_0_1',\n",
       " '2_moment_normalized_1_0_2',\n",
       " '2_moment_normalized_1_0_3',\n",
       " '2_moment_normalized_1_1_0',\n",
       " '2_moment_normalized_1_1_1',\n",
       " '2_moment_normalized_1_1_2',\n",
       " '2_moment_normalized_1_1_3',\n",
       " '2_moment_normalized_1_2_0',\n",
       " '2_moment_normalized_1_2_1',\n",
       " '2_moment_normalized_1_2_2',\n",
       " '2_moment_normalized_1_2_3',\n",
       " '2_moment_normalized_1_3_0',\n",
       " '2_moment_normalized_1_3_1',\n",
       " '2_moment_normalized_1_3_2',\n",
       " '2_moment_normalized_1_3_3',\n",
       " '2_moment_normalized_2_0_0',\n",
       " '2_moment_normalized_2_0_1',\n",
       " '2_moment_normalized_2_0_2',\n",
       " '2_moment_normalized_2_0_3',\n",
       " '2_moment_normalized_2_1_0',\n",
       " '2_moment_normalized_2_1_1',\n",
       " '2_moment_normalized_2_1_2',\n",
       " '2_moment_normalized_2_1_3',\n",
       " '2_moment_normalized_2_2_0',\n",
       " '2_moment_normalized_2_2_1',\n",
       " '2_moment_normalized_2_2_2',\n",
       " '2_moment_normalized_2_2_3',\n",
       " '2_moment_normalized_2_3_0',\n",
       " '2_moment_normalized_2_3_1',\n",
       " '2_moment_normalized_2_3_2',\n",
       " '2_moment_normalized_2_3_3',\n",
       " '2_moment_normalized_3_0_0',\n",
       " '2_moment_normalized_3_0_1',\n",
       " '2_moment_normalized_3_0_2',\n",
       " '2_moment_normalized_3_0_3',\n",
       " '2_moment_normalized_3_1_0',\n",
       " '2_moment_normalized_3_1_1',\n",
       " '2_moment_normalized_3_1_2',\n",
       " '2_moment_normalized_3_1_3',\n",
       " '2_moment_normalized_3_2_0',\n",
       " '2_moment_normalized_3_2_1',\n",
       " '2_moment_normalized_3_2_2',\n",
       " '2_moment_normalized_3_2_3',\n",
       " '2_moment_normalized_3_3_0',\n",
       " '2_moment_normalized_3_3_1',\n",
       " '2_moment_normalized_3_3_2',\n",
       " '2_moment_normalized_3_3_3',\n",
       " '2_perc_10_intensity',\n",
       " '2_perc_20_intensity',\n",
       " '2_perc_25_intensity',\n",
       " '2_perc_30_intensity',\n",
       " '2_perc_40_intensity',\n",
       " '2_perc_50_intensity',\n",
       " '2_perc_60_intensity',\n",
       " '2_perc_70_intensity',\n",
       " '2_perc_75_intensity',\n",
       " '2_perc_80_intensity',\n",
       " '2_perc_90_intensity',\n",
       " '2_std_intensity',\n",
       " 'area',\n",
       " 'first_major_diff',\n",
       " 'inertia_length_0',\n",
       " 'inertia_length_1',\n",
       " 'inertia_length_2',\n",
       " 'second_major_diff',\n",
       " 'solidity',\n",
       " 'volume_um']"
      ]
     },
     "execution_count": 14,
     "metadata": {},
     "output_type": "execute_result"
    }
   ],
   "source": [
    "REMOVE_COLUMNS = ['id', 'pos_x','pos_y','pos_z', 'class_fraction', 'class_pixels', 'class', 'patient', 'size_z']\n",
    "\n",
    "def get_features_columns_names(data):\n",
    "    return [k for k in data.columns if k not in REMOVE_COLUMNS]\n",
    "\n",
    "all_features = get_features_columns_names(cd8_data)\n",
    "all_features"
   ]
  },
  {
   "cell_type": "markdown",
   "metadata": {
    "toc-hr-collapsed": false
   },
   "source": [
    "## Tensorflow projector"
   ]
  },
  {
   "cell_type": "markdown",
   "metadata": {},
   "source": [
    "fetch projector from https://github.com/tensorflow/embedding-projector-standalone\n",
    "\n",
    "export files by visualize.ExportVisualization\n",
    "\n",
    "run main.html of projector and load exported files (check docstring of ExportVisualization)"
   ]
  },
  {
   "cell_type": "code",
   "execution_count": 50,
   "metadata": {},
   "outputs": [],
   "source": [
    "from visualize import ExportVisualization\n",
    "vis = ExportVisualization(ds.data_cls, '.')\n",
    "vis.export(ds.data)"
   ]
  },
  {
   "cell_type": "code",
   "execution_count": null,
   "metadata": {},
   "outputs": [],
   "source": [
    "column_labels = list(cd8_data.columns)\n",
    "moments = [m for m in column_labels if 'moment' in m]\n",
    "moments_unique = set([m[:-6] for m in moments])"
   ]
  },
  {
   "cell_type": "code",
   "execution_count": null,
   "metadata": {},
   "outputs": [],
   "source": [
    "def export_projector_files(ds, feature_str, full_feature_list=column_labels):\n",
    "    vis = ExportVisualization(ds.data_cls, '.')\n",
    "    features = [f for f in full_feature_list if feature_str in f]\n",
    "    print(len(features))\n",
    "    ds.set_features(features)\n",
    "    vis.export(ds.data, feature_str + '_')"
   ]
  },
  {
   "cell_type": "markdown",
   "metadata": {},
   "source": [
    "### Moments - PCA"
   ]
  },
  {
   "cell_type": "code",
   "execution_count": null,
   "metadata": {},
   "outputs": [],
   "source": [
    "for m in moments_unique:\n",
    "    export_projector_files(ds, m)"
   ]
  },
  {
   "cell_type": "markdown",
   "metadata": {},
   "source": [
    "2-memb_moment_normalized - small center, rest spread in plot (discard)  \n",
    "2_moment_normalized - most centered in one place, additional samples in the same location (prommising)  \n",
    "0-memb_moment_normalized - two centers noised (discard)  \n",
    "0-clahe_moment_normalized - two centers noised (discard)  \n",
    "2-clahe_moment_normalized - one center noised (prommising)  \n",
    "0-edges_moment_normalized - one center noised with spread in other locations (discard)  \n",
    "2-edges_moment_normalized - one center noised with minimal spread in other locations (prommising)  \n",
    "0_moment_normalized - two centers noised (discard)  "
   ]
  },
  {
   "cell_type": "markdown",
   "metadata": {},
   "source": [
    "As promissing for further investigation: 2_moment_normalized, 2-clahe_moment_normalized, 2-edges_moment_normalized"
   ]
  },
  {
   "cell_type": "markdown",
   "metadata": {
    "toc-hr-collapsed": false
   },
   "source": [
    "### BaseFeatureVector - PCA"
   ]
  },
  {
   "cell_type": "code",
   "execution_count": null,
   "metadata": {},
   "outputs": [],
   "source": [
    "export_projector_files(ds, '0-clahe_perc') # class 1 spread across\n",
    "export_projector_files(ds, '0-edges_perc') # spread accross\n",
    "export_projector_files(ds, '0-memb_perc') # spread across with two centers\n",
    "export_projector_files(ds, '0_perc') # spread across\n",
    "export_projector_files(ds, '2-clahe_perc') # class 0 in center, class 1 spread (promising)\n",
    "export_projector_files(ds, '2-edges_perc') # class 0 in center, class 1 spread (promising)\n",
    "export_projector_files(ds, '2-memb_perc') # class 0 in center, class 1 spread (promising)\n",
    "export_projector_files(ds, '2_perc') # class 0 in center, class 1 spread (promising)"
   ]
  },
  {
   "cell_type": "markdown",
   "metadata": {},
   "source": [
    "For further investigation: 2-memb_perc, 2_perc, 2-edges_perc, 2-clahe_perc"
   ]
  },
  {
   "cell_type": "markdown",
   "metadata": {},
   "source": [
    "### Others - PCA"
   ]
  },
  {
   "cell_type": "code",
   "execution_count": null,
   "metadata": {},
   "outputs": [],
   "source": [
    "export_projector_files(ds, 'DifferenceEntropy') # most of class 1 separated form class 0 (promising)\n",
    "export_projector_files(ds, '_Entropy') # most of class 1 separated form class 0 (promising)\n",
    "export_projector_files(ds, 'clahe_moment_normalized') # promising efect\n",
    "export_projector_files(ds, '0-clahe_haralick_peak2peak') # coupled plot\n",
    "export_projector_files(ds, 'moment') # coupled plot\n",
    "export_projector_files(ds, 'AngularSecondMoment') # promising efect - most of 1 class located in one axis"
   ]
  },
  {
   "cell_type": "code",
   "execution_count": null,
   "metadata": {},
   "outputs": [],
   "source": [
    "features = [f for f in column_labels if '_Entropy' in f]\n",
    "ds.set_features(features)"
   ]
  },
  {
   "cell_type": "code",
   "execution_count": null,
   "metadata": {},
   "outputs": [],
   "source": [
    "from sklearn.decomposition import PCA\n",
    "pca = PCA(n_components=3)\n",
    "d = pca.fit_transform(ds.data)  "
   ]
  },
  {
   "cell_type": "code",
   "execution_count": null,
   "metadata": {},
   "outputs": [],
   "source": [
    "frame = {'class': ds.data_cls, 'a': d[:, 0], 'b': d[:, 1], 'c': d[:, 2]}"
   ]
  },
  {
   "cell_type": "code",
   "execution_count": null,
   "metadata": {},
   "outputs": [],
   "source": [
    "mixed= pd.DataFrame(frame)"
   ]
  },
  {
   "cell_type": "code",
   "execution_count": null,
   "metadata": {},
   "outputs": [],
   "source": [
    "_, a,b,c = plot_data[plot_data['class']== 0].T.values\n",
    "trace0 = go.Scatter3d(\n",
    "    x = a,\n",
    "    y = b,\n",
    "    z = c,\n",
    "    mode='markers',\n",
    "    marker=dict(\n",
    "        size=2,\n",
    "        line=dict(\n",
    "            color='rgba(217, 217, 217, 0.14)',\n",
    "            width=0.5\n",
    "        ),\n",
    "        opacity=0.9\n",
    "    )\n",
    ")\n",
    "\n",
    "trace1 = go.Scatter3d(\n",
    "    x=plot_data[plot_data['class']== 1]['a'].values,\n",
    "    y=plot_data[plot_data['class']== 1]['b'].values,\n",
    "    z=plot_data[plot_data['class']== 1]['c'].values,\n",
    "    mode='markers',\n",
    "    marker=dict(\n",
    "        size=2,\n",
    "        line=dict(\n",
    "            color='rgba(127, 127, 127, 0.14)',\n",
    "            width=0.5\n",
    "        ),\n",
    "        opacity=0.9\n",
    "    )\n",
    ")\n",
    "data = [trace0, trace1]\n",
    "fig= go.Figure(data)\n",
    "py.offline.iplot(fig)"
   ]
  },
  {
   "cell_type": "markdown",
   "metadata": {},
   "source": [
    "## Boruta\n",
    "https://www.kaggle.com/residentmario/automated-feature-selection-with-boruta  \n",
    "https://github.com/scikit-learn-contrib/boruta_py"
   ]
  },
  {
   "cell_type": "code",
   "execution_count": null,
   "metadata": {},
   "outputs": [],
   "source": [
    "!pip install boruta"
   ]
  },
  {
   "cell_type": "code",
   "execution_count": null,
   "metadata": {},
   "outputs": [],
   "source": [
    "X = ds.data.copy()\n",
    "X = X.reset_index(drop=True)\n",
    "y = ds.data_cls.copy()\n",
    "y = y.reset_index(drop=True)"
   ]
  },
  {
   "cell_type": "code",
   "execution_count": null,
   "metadata": {},
   "outputs": [],
   "source": [
    "from boruta import BorutaPy\n",
    "from sklearn.ensemble import RandomForestClassifier\n",
    "\n",
    "all_features = get_features_columns_names(cd8_data)\n",
    "ds.set_features(all_features)\n",
    "\n",
    "rf = RandomForestClassifier(n_estimators=200, n_jobs=-1, max_depth=5)\n",
    "\n",
    "estimator = BorutaPy(rf, n_estimators='auto', verbose=2, perc=95, random_state=SEED)\n",
    "\n",
    "estimates = estimator.fit(X.values, y.values)\n"
   ]
  },
  {
   "cell_type": "code",
   "execution_count": null,
   "metadata": {},
   "outputs": [],
   "source": [
    "rf2 = RandomForestClassifier(n_estimators=300, n_jobs=-1, class_weight='balanced', max_depth=6)\n",
    "\n",
    "estimator = BorutaPy(rf2, n_estimators='auto', verbose=2, perc=95, random_state=SEED)\n",
    "\n",
    "estimates2 = estimator.fit(X.values, y.values)"
   ]
  },
  {
   "cell_type": "code",
   "execution_count": null,
   "metadata": {},
   "outputs": [],
   "source": [
    "rf3 = RandomForestClassifier(n_estimators=500, n_jobs=-1, class_weight='balanced', max_depth=3)\n",
    "\n",
    "estimator = BorutaPy(rf3, n_estimators='auto', verbose=2, perc=95, random_state=SEED)\n",
    "\n",
    "estimates3 = estimator.fit(X.values, y.values)"
   ]
  },
  {
   "cell_type": "code",
   "execution_count": null,
   "metadata": {},
   "outputs": [],
   "source": [
    "rf4 = RandomForestClassifier(n_estimators=400, n_jobs=-1, class_weight='balanced', max_depth=6)\n",
    "\n",
    "estimator = BorutaPy(rf4, n_estimators='auto', verbose=2, perc=95, random_state=SEED)\n",
    "\n",
    "estimates4 = estimator.fit(X.values, y.values)\n"
   ]
  },
  {
   "cell_type": "code",
   "execution_count": null,
   "metadata": {},
   "outputs": [],
   "source": [
    "supported = np.vstack((estimates.support_, estimates2.support_, estimates3.support_, estimates4.support_))\n",
    "week_supported = np.vstack((estimates.support_weak_, estimates2.support_weak_, estimates3.support_weak_, estimates4.support_weak_))"
   ]
  },
  {
   "cell_type": "code",
   "execution_count": null,
   "metadata": {},
   "outputs": [],
   "source": [
    "supported_once = supported.T.any(axis=1)\n",
    "week_supported_once = week_supported.T.any(axis=1)\n",
    "minimal_feature_set_idx = np.vstack((supported_once, week_supported_once)).T.any(axis=1)"
   ]
  },
  {
   "cell_type": "code",
   "execution_count": null,
   "metadata": {},
   "outputs": [],
   "source": [
    "from itertools import compress\n",
    "boruta_minimal_feature_set = list(compress(all_features, minimal_feature_set_idx))\n",
    "boruta_minimal_feature_set_strong = list(compress(all_features, supported_once))\n",
    "boruta_minimal_feature_set_week = list(compress(all_features, week_supported_once))"
   ]
  },
  {
   "cell_type": "code",
   "execution_count": null,
   "metadata": {},
   "outputs": [],
   "source": [
    "len(boruta_minimal_feature_set), len(all_features)"
   ]
  },
  {
   "cell_type": "code",
   "execution_count": 45,
   "metadata": {},
   "outputs": [
    {
     "ename": "NameError",
     "evalue": "name 'boruta_minimal_feature_set' is not defined",
     "output_type": "error",
     "traceback": [
      "\u001b[0;31m---------------------------------------------------------------------------\u001b[0m",
      "\u001b[0;31mNameError\u001b[0m                                 Traceback (most recent call last)",
      "\u001b[0;32m<ipython-input-45-6a7016e40c23>\u001b[0m in \u001b[0;36m<module>\u001b[0;34m\u001b[0m\n\u001b[0;32m----> 1\u001b[0;31m \u001b[0mds\u001b[0m\u001b[0;34m.\u001b[0m\u001b[0mset_features\u001b[0m\u001b[0;34m(\u001b[0m\u001b[0mboruta_minimal_feature_set\u001b[0m\u001b[0;34m)\u001b[0m\u001b[0;34m\u001b[0m\u001b[0;34m\u001b[0m\u001b[0m\n\u001b[0m\u001b[1;32m      2\u001b[0m \u001b[0mcv_image_results\u001b[0m \u001b[0;34m=\u001b[0m \u001b[0;34m{\u001b[0m\u001b[0;34m}\u001b[0m\u001b[0;34m\u001b[0m\u001b[0;34m\u001b[0m\u001b[0m\n\u001b[1;32m      3\u001b[0m \u001b[0;32mfor\u001b[0m \u001b[0mcv\u001b[0m \u001b[0;32min\u001b[0m \u001b[0mcross_val_per_image\u001b[0m\u001b[0;34m:\u001b[0m\u001b[0;34m\u001b[0m\u001b[0;34m\u001b[0m\u001b[0m\n\u001b[1;32m      4\u001b[0m     \u001b[0mcv_image_results\u001b[0m\u001b[0;34m[\u001b[0m\u001b[0mcv\u001b[0m\u001b[0;34m]\u001b[0m \u001b[0;34m=\u001b[0m \u001b[0mcross_validate\u001b[0m\u001b[0;34m(\u001b[0m\u001b[0mmodels\u001b[0m\u001b[0;34m[\u001b[0m\u001b[0;34m'baseline'\u001b[0m\u001b[0;34m]\u001b[0m\u001b[0;34m,\u001b[0m \u001b[0mX\u001b[0m\u001b[0;34m=\u001b[0m\u001b[0mds\u001b[0m\u001b[0;34m.\u001b[0m\u001b[0mdata\u001b[0m\u001b[0;34m,\u001b[0m \u001b[0my\u001b[0m\u001b[0;34m=\u001b[0m\u001b[0mds\u001b[0m\u001b[0;34m.\u001b[0m\u001b[0mdata_cls\u001b[0m\u001b[0;34m,\u001b[0m \u001b[0mcv\u001b[0m\u001b[0;34m=\u001b[0m\u001b[0mcross_val_per_image\u001b[0m\u001b[0;34m[\u001b[0m\u001b[0mcv\u001b[0m\u001b[0;34m]\u001b[0m\u001b[0;34m,\u001b[0m \u001b[0mgroups\u001b[0m\u001b[0;34m=\u001b[0m\u001b[0mgroup_by_image\u001b[0m\u001b[0;34m(\u001b[0m\u001b[0mds\u001b[0m\u001b[0;34m.\u001b[0m\u001b[0mdata\u001b[0m\u001b[0;34m)\u001b[0m\u001b[0;34m,\u001b[0m \u001b[0mscoring\u001b[0m\u001b[0;34m=\u001b[0m\u001b[0mSCORES_LIST\u001b[0m\u001b[0;34m,\u001b[0m \u001b[0mverbose\u001b[0m\u001b[0;34m=\u001b[0m\u001b[0;36m1\u001b[0m\u001b[0;34m,\u001b[0m \u001b[0mn_jobs\u001b[0m\u001b[0;34m=\u001b[0m\u001b[0;34m-\u001b[0m\u001b[0;36m1\u001b[0m\u001b[0;34m)\u001b[0m\u001b[0;34m\u001b[0m\u001b[0;34m\u001b[0m\u001b[0m\n",
      "\u001b[0;31mNameError\u001b[0m: name 'boruta_minimal_feature_set' is not defined"
     ]
    }
   ],
   "source": [
    "ds.set_features(boruta_minimal_feature_set)\n",
    "cv_image_results = {}\n",
    "for cv in cross_val_per_image:\n",
    "    cv_image_results[cv] = cross_validate(models['baseline'], X=ds.data, y=ds.data_cls, cv=cross_val_per_image[cv], groups=group_by_image(ds.data), scoring=SCORES_LIST, verbose=1, n_jobs=-1)"
   ]
  },
  {
   "cell_type": "code",
   "execution_count": null,
   "metadata": {},
   "outputs": [],
   "source": [
    "for name, scores in cv_image_results.items():\n",
    "    print_scores(name, scores)"
   ]
  },
  {
   "cell_type": "code",
   "execution_count": null,
   "metadata": {},
   "outputs": [],
   "source": [
    "ds.set_features(base_feature_list)\n",
    "cv_image_results = {}\n",
    "for cv in cross_val_per_image:\n",
    "    cv_image_results[cv] = cross_validate(models['baseline'], X=ds.data, y=ds.data_cls, cv=cross_val_per_image[cv], groups=group_by_image(ds.data), scoring=SCORES_LIST, verbose=1, n_jobs=-1)"
   ]
  },
  {
   "cell_type": "code",
   "execution_count": null,
   "metadata": {},
   "outputs": [],
   "source": [
    "for name, scores in cv_image_results.items():\n",
    "    print_scores(name, scores)"
   ]
  },
  {
   "cell_type": "markdown",
   "metadata": {},
   "source": [
    "###  Boruta results\n",
    "\n",
    "339 features left that have any impact on classification base on boruta trails. Application of default classfier show slight increase in scores"
   ]
  },
  {
   "cell_type": "code",
   "execution_count": null,
   "metadata": {},
   "outputs": [],
   "source": [
    "boruta_minimal_feature_set = ['0-clahe_haralick_mean_AngularSecondMoment',\n",
    " '0-clahe_haralick_mean_InfoMeas1',\n",
    " '0-clahe_haralick_peak2peak_Entropy',\n",
    " '0-clahe_haralick_peak2peak_SumVariance',\n",
    " '0-clahe_haralick_peak2peak_Variance',\n",
    " '0-clahe_moment_normalized_0_0_2',\n",
    " '0-clahe_moment_normalized_0_2_0',\n",
    " '0-clahe_moment_normalized_0_2_2',\n",
    " '0-clahe_moment_normalized_0_3_2',\n",
    " '0-clahe_moment_normalized_2_0_0',\n",
    " '0-clahe_moment_normalized_3_0_1',\n",
    " '0-clahe_moment_normalized_3_0_2',\n",
    " '0-clahe_std_intensity',\n",
    " '0-edges_haralick_mean_AngularSecondMoment',\n",
    " '0-edges_haralick_mean_Contrast',\n",
    " '0-edges_haralick_mean_Correlation',\n",
    " '0-edges_haralick_mean_DifferenceEntropy',\n",
    " '0-edges_haralick_mean_DifferenceVariance',\n",
    " '0-edges_haralick_mean_InverseDifferenceMoment',\n",
    " '0-edges_haralick_mean_SumVariance',\n",
    " '0-edges_haralick_mean_Variance',\n",
    " '0-edges_haralick_peak2peak_AngularSecondMoment',\n",
    " '0-edges_haralick_peak2peak_Contrast',\n",
    " '0-edges_haralick_peak2peak_Correlation',\n",
    " '0-edges_haralick_peak2peak_DifferenceVariance',\n",
    " '0-edges_haralick_peak2peak_Entropy',\n",
    " '0-edges_haralick_peak2peak_InfoMeas1',\n",
    " '0-edges_haralick_peak2peak_SumVariance',\n",
    " '0-edges_haralick_peak2peak_Variance',\n",
    " '0-edges_mass_displace_in_majors',\n",
    " '0-edges_mean_intensity',\n",
    " '0-edges_moment_normalized_2_0_0',\n",
    " '0-edges_moment_normalized_2_2_0',\n",
    " '0-edges_moment_normalized_3_0_1',\n",
    " '0-edges_perc_70_intensity',\n",
    " '0-edges_perc_75_intensity',\n",
    " '0-edges_perc_90_intensity',\n",
    " '0-memb_haralick_mean_Contrast',\n",
    " '0-memb_haralick_mean_Correlation',\n",
    " '0-memb_haralick_mean_DifferenceEntropy',\n",
    " '0-memb_haralick_mean_DifferenceVariance',\n",
    " '0-memb_haralick_mean_InfoMeas1',\n",
    " '0-memb_haralick_mean_InfoMeas2',\n",
    " '0-memb_haralick_mean_InverseDifferenceMoment',\n",
    " '0-memb_haralick_mean_SumAverage',\n",
    " '0-memb_haralick_mean_SumEntropy',\n",
    " '0-memb_haralick_mean_SumVariance',\n",
    " '0-memb_haralick_mean_Variance',\n",
    " '0-memb_haralick_peak2peak_AngularSecondMoment',\n",
    " '0-memb_haralick_peak2peak_Contrast',\n",
    " '0-memb_haralick_peak2peak_DifferenceVariance',\n",
    " '0-memb_haralick_peak2peak_Entropy',\n",
    " '0-memb_haralick_peak2peak_InfoMeas1',\n",
    " '0-memb_haralick_peak2peak_InfoMeas2',\n",
    " '0-memb_haralick_peak2peak_SumAverage',\n",
    " '0-memb_haralick_peak2peak_SumVariance',\n",
    " '0-memb_haralick_peak2peak_Variance',\n",
    " '0-memb_mad_intensity',\n",
    " '0-memb_mass_displace_in_diameters',\n",
    " '0-memb_mass_displace_in_majors',\n",
    " '0-memb_mean_intensity',\n",
    " '0-memb_median_intensity',\n",
    " '0-memb_moment_normalized_0_0_2',\n",
    " '0-memb_moment_normalized_0_2_1',\n",
    " '0-memb_moment_normalized_0_2_2',\n",
    " '0-memb_moment_normalized_0_2_3',\n",
    " '0-memb_moment_normalized_0_3_0',\n",
    " '0-memb_moment_normalized_2_0_0',\n",
    " '0-memb_moment_normalized_2_0_1',\n",
    " '0-memb_moment_normalized_2_0_2',\n",
    " '0-memb_moment_normalized_2_0_3',\n",
    " '0-memb_moment_normalized_2_2_0',\n",
    " '0-memb_moment_normalized_3_0_1',\n",
    " '0-memb_moment_normalized_3_1_1',\n",
    " '0-memb_moment_normalized_3_2_1',\n",
    " '0-memb_perc_10_intensity',\n",
    " '0-memb_perc_20_intensity',\n",
    " '0-memb_perc_25_intensity',\n",
    " '0-memb_perc_30_intensity',\n",
    " '0-memb_perc_40_intensity',\n",
    " '0-memb_perc_50_intensity',\n",
    " '0-memb_perc_60_intensity',\n",
    " '0-memb_perc_70_intensity',\n",
    " '0-memb_perc_75_intensity',\n",
    " '0-memb_perc_80_intensity',\n",
    " '0-memb_perc_90_intensity',\n",
    " '0-memb_std_intensity',\n",
    " '0_haralick_mean_Contrast',\n",
    " '0_haralick_mean_DifferenceEntropy',\n",
    " '0_haralick_mean_DifferenceVariance',\n",
    " '0_haralick_mean_InfoMeas1',\n",
    " '0_haralick_mean_InfoMeas2',\n",
    " '0_haralick_mean_SumAverage',\n",
    " '0_haralick_mean_SumVariance',\n",
    " '0_haralick_mean_Variance',\n",
    " '0_haralick_peak2peak_Contrast',\n",
    " '0_haralick_peak2peak_DifferenceVariance',\n",
    " '0_haralick_peak2peak_Entropy',\n",
    " '0_haralick_peak2peak_InfoMeas2',\n",
    " '0_haralick_peak2peak_SumEntropy',\n",
    " '0_haralick_peak2peak_SumVariance',\n",
    " '0_mean_intensity',\n",
    " '0_moment_normalized_0_0_2',\n",
    " '0_moment_normalized_0_1_1',\n",
    " '0_moment_normalized_0_2_2',\n",
    " '0_moment_normalized_2_0_0',\n",
    " '0_moment_normalized_2_0_2',\n",
    " '0_moment_normalized_2_2_0',\n",
    " '0_moment_normalized_3_0_1',\n",
    " '0_perc_10_intensity',\n",
    " '0_perc_40_intensity',\n",
    " '0_perc_70_intensity',\n",
    " '0_perc_75_intensity',\n",
    " '0_perc_80_intensity',\n",
    " '0_perc_90_intensity',\n",
    " '0_std_intensity',\n",
    " '2-clahe_haralick_mean_AngularSecondMoment',\n",
    " '2-clahe_haralick_mean_Contrast',\n",
    " '2-clahe_haralick_mean_Correlation',\n",
    " '2-clahe_haralick_mean_DifferenceEntropy',\n",
    " '2-clahe_haralick_mean_DifferenceVariance',\n",
    " '2-clahe_haralick_mean_Entropy',\n",
    " '2-clahe_haralick_mean_InfoMeas1',\n",
    " '2-clahe_haralick_mean_InfoMeas2',\n",
    " '2-clahe_haralick_mean_InverseDifferenceMoment',\n",
    " '2-clahe_haralick_mean_SumAverage',\n",
    " '2-clahe_haralick_mean_SumEntropy',\n",
    " '2-clahe_haralick_mean_SumVariance',\n",
    " '2-clahe_haralick_mean_Variance',\n",
    " '2-clahe_haralick_peak2peak_AngularSecondMoment',\n",
    " '2-clahe_haralick_peak2peak_Contrast',\n",
    " '2-clahe_haralick_peak2peak_Correlation',\n",
    " '2-clahe_haralick_peak2peak_DifferenceEntropy',\n",
    " '2-clahe_haralick_peak2peak_DifferenceVariance',\n",
    " '2-clahe_haralick_peak2peak_Entropy',\n",
    " '2-clahe_haralick_peak2peak_InfoMeas1',\n",
    " '2-clahe_haralick_peak2peak_InfoMeas2',\n",
    " '2-clahe_haralick_peak2peak_InverseDifferenceMoment',\n",
    " '2-clahe_haralick_peak2peak_SumAverage',\n",
    " '2-clahe_haralick_peak2peak_SumVariance',\n",
    " '2-clahe_haralick_peak2peak_Variance',\n",
    " '2-clahe_mad_intensity',\n",
    " '2-clahe_mass_displace_in_diameters',\n",
    " '2-clahe_mass_displace_in_majors',\n",
    " '2-clahe_mean_intensity',\n",
    " '2-clahe_median_intensity',\n",
    " '2-clahe_moment_normalized_0_0_2',\n",
    " '2-clahe_moment_normalized_0_1_2',\n",
    " '2-clahe_moment_normalized_0_2_0',\n",
    " '2-clahe_moment_normalized_0_2_2',\n",
    " '2-clahe_moment_normalized_0_3_2',\n",
    " '2-clahe_moment_normalized_1_3_1',\n",
    " '2-clahe_moment_normalized_2_0_0',\n",
    " '2-clahe_moment_normalized_2_0_2',\n",
    " '2-clahe_moment_normalized_2_2_0',\n",
    " '2-clahe_moment_normalized_2_2_2',\n",
    " '2-clahe_perc_10_intensity',\n",
    " '2-clahe_perc_20_intensity',\n",
    " '2-clahe_perc_25_intensity',\n",
    " '2-clahe_perc_30_intensity',\n",
    " '2-clahe_perc_40_intensity',\n",
    " '2-clahe_perc_50_intensity',\n",
    " '2-clahe_perc_60_intensity',\n",
    " '2-clahe_perc_70_intensity',\n",
    " '2-clahe_perc_75_intensity',\n",
    " '2-clahe_perc_80_intensity',\n",
    " '2-clahe_perc_90_intensity',\n",
    " '2-clahe_std_intensity',\n",
    " '2-edges_haralick_mean_AngularSecondMoment',\n",
    " '2-edges_haralick_mean_Contrast',\n",
    " '2-edges_haralick_mean_Correlation',\n",
    " '2-edges_haralick_mean_DifferenceEntropy',\n",
    " '2-edges_haralick_mean_DifferenceVariance',\n",
    " '2-edges_haralick_mean_Entropy',\n",
    " '2-edges_haralick_mean_InfoMeas1',\n",
    " '2-edges_haralick_mean_InfoMeas2',\n",
    " '2-edges_haralick_mean_InverseDifferenceMoment',\n",
    " '2-edges_haralick_mean_SumAverage',\n",
    " '2-edges_haralick_mean_SumEntropy',\n",
    " '2-edges_haralick_mean_SumVariance',\n",
    " '2-edges_haralick_mean_Variance',\n",
    " '2-edges_haralick_peak2peak_AngularSecondMoment',\n",
    " '2-edges_haralick_peak2peak_Contrast',\n",
    " '2-edges_haralick_peak2peak_Correlation',\n",
    " '2-edges_haralick_peak2peak_DifferenceEntropy',\n",
    " '2-edges_haralick_peak2peak_Entropy',\n",
    " '2-edges_haralick_peak2peak_InfoMeas1',\n",
    " '2-edges_haralick_peak2peak_InfoMeas2',\n",
    " '2-edges_haralick_peak2peak_InverseDifferenceMoment',\n",
    " '2-edges_haralick_peak2peak_SumAverage',\n",
    " '2-edges_haralick_peak2peak_SumVariance',\n",
    " '2-edges_haralick_peak2peak_Variance',\n",
    " '2-edges_mad_intensity',\n",
    " '2-edges_mass_displace_in_diameters',\n",
    " '2-edges_mass_displace_in_majors',\n",
    " '2-edges_mean_intensity',\n",
    " '2-edges_median_intensity',\n",
    " '2-edges_moment_normalized_0_0_2',\n",
    " '2-edges_moment_normalized_0_0_3',\n",
    " '2-edges_moment_normalized_0_2_0',\n",
    " '2-edges_moment_normalized_0_2_1',\n",
    " '2-edges_moment_normalized_0_2_2',\n",
    " '2-edges_moment_normalized_0_2_3',\n",
    " '2-edges_moment_normalized_0_3_1',\n",
    " '2-edges_moment_normalized_0_3_2',\n",
    " '2-edges_moment_normalized_0_3_3',\n",
    " '2-edges_moment_normalized_1_1_2',\n",
    " '2-edges_moment_normalized_1_1_3',\n",
    " '2-edges_moment_normalized_1_2_3',\n",
    " '2-edges_moment_normalized_1_3_1',\n",
    " '2-edges_moment_normalized_1_3_2',\n",
    " '2-edges_moment_normalized_1_3_3',\n",
    " '2-edges_moment_normalized_2_0_0',\n",
    " '2-edges_moment_normalized_2_0_2',\n",
    " '2-edges_moment_normalized_2_0_3',\n",
    " '2-edges_moment_normalized_2_2_0',\n",
    " '2-edges_moment_normalized_2_2_2',\n",
    " '2-edges_moment_normalized_3_1_3',\n",
    " '2-edges_moment_normalized_3_2_2',\n",
    " '2-edges_moment_normalized_3_2_3',\n",
    " '2-edges_moment_normalized_3_3_1',\n",
    " '2-edges_moment_normalized_3_3_3',\n",
    " '2-edges_perc_10_intensity',\n",
    " '2-edges_perc_20_intensity',\n",
    " '2-edges_perc_25_intensity',\n",
    " '2-edges_perc_30_intensity',\n",
    " '2-edges_perc_40_intensity',\n",
    " '2-edges_perc_50_intensity',\n",
    " '2-edges_perc_60_intensity',\n",
    " '2-edges_perc_70_intensity',\n",
    " '2-edges_perc_75_intensity',\n",
    " '2-edges_perc_80_intensity',\n",
    " '2-edges_perc_90_intensity',\n",
    " '2-edges_std_intensity',\n",
    " '2-memb_haralick_mean_AngularSecondMoment',\n",
    " '2-memb_haralick_mean_Contrast',\n",
    " '2-memb_haralick_mean_Correlation',\n",
    " '2-memb_haralick_mean_DifferenceEntropy',\n",
    " '2-memb_haralick_mean_DifferenceVariance',\n",
    " '2-memb_haralick_mean_Entropy',\n",
    " '2-memb_haralick_mean_InfoMeas1',\n",
    " '2-memb_haralick_mean_InfoMeas2',\n",
    " '2-memb_haralick_mean_InverseDifferenceMoment',\n",
    " '2-memb_haralick_mean_SumAverage',\n",
    " '2-memb_haralick_mean_SumEntropy',\n",
    " '2-memb_haralick_mean_SumVariance',\n",
    " '2-memb_haralick_mean_Variance',\n",
    " '2-memb_haralick_peak2peak_AngularSecondMoment',\n",
    " '2-memb_haralick_peak2peak_Contrast',\n",
    " '2-memb_haralick_peak2peak_Correlation',\n",
    " '2-memb_haralick_peak2peak_DifferenceVariance',\n",
    " '2-memb_haralick_peak2peak_Entropy',\n",
    " '2-memb_haralick_peak2peak_InfoMeas2',\n",
    " '2-memb_haralick_peak2peak_InverseDifferenceMoment',\n",
    " '2-memb_haralick_peak2peak_SumAverage',\n",
    " '2-memb_haralick_peak2peak_SumVariance',\n",
    " '2-memb_haralick_peak2peak_Variance',\n",
    " '2-memb_mad_intensity',\n",
    " '2-memb_mass_displace_in_diameters',\n",
    " '2-memb_mass_displace_in_majors',\n",
    " '2-memb_mean_intensity',\n",
    " '2-memb_median_intensity',\n",
    " '2-memb_moment_normalized_0_0_2',\n",
    " '2-memb_moment_normalized_0_2_0',\n",
    " '2-memb_moment_normalized_0_2_1',\n",
    " '2-memb_moment_normalized_0_2_2',\n",
    " '2-memb_moment_normalized_1_2_3',\n",
    " '2-memb_moment_normalized_2_0_0',\n",
    " '2-memb_moment_normalized_2_2_1',\n",
    " '2-memb_moment_normalized_2_2_2',\n",
    " '2-memb_perc_10_intensity',\n",
    " '2-memb_perc_20_intensity',\n",
    " '2-memb_perc_25_intensity',\n",
    " '2-memb_perc_30_intensity',\n",
    " '2-memb_perc_40_intensity',\n",
    " '2-memb_perc_50_intensity',\n",
    " '2-memb_perc_60_intensity',\n",
    " '2-memb_perc_70_intensity',\n",
    " '2-memb_perc_75_intensity',\n",
    " '2-memb_perc_80_intensity',\n",
    " '2-memb_perc_90_intensity',\n",
    " '2-memb_std_intensity',\n",
    " '2_haralick_mean_AngularSecondMoment',\n",
    " '2_haralick_mean_Contrast',\n",
    " '2_haralick_mean_Correlation',\n",
    " '2_haralick_mean_DifferenceEntropy',\n",
    " '2_haralick_mean_DifferenceVariance',\n",
    " '2_haralick_mean_Entropy',\n",
    " '2_haralick_mean_InfoMeas1',\n",
    " '2_haralick_mean_InfoMeas2',\n",
    " '2_haralick_mean_InverseDifferenceMoment',\n",
    " '2_haralick_mean_SumAverage',\n",
    " '2_haralick_mean_SumEntropy',\n",
    " '2_haralick_mean_SumVariance',\n",
    " '2_haralick_mean_Variance',\n",
    " '2_haralick_peak2peak_AngularSecondMoment',\n",
    " '2_haralick_peak2peak_Contrast',\n",
    " '2_haralick_peak2peak_Correlation',\n",
    " '2_haralick_peak2peak_DifferenceEntropy',\n",
    " '2_haralick_peak2peak_DifferenceVariance',\n",
    " '2_haralick_peak2peak_Entropy',\n",
    " '2_haralick_peak2peak_InfoMeas1',\n",
    " '2_haralick_peak2peak_InfoMeas2',\n",
    " '2_haralick_peak2peak_InverseDifferenceMoment',\n",
    " '2_haralick_peak2peak_SumAverage',\n",
    " '2_haralick_peak2peak_SumVariance',\n",
    " '2_haralick_peak2peak_Variance',\n",
    " '2_mad_intensity',\n",
    " '2_mass_displace_in_diameters',\n",
    " '2_mass_displace_in_majors',\n",
    " '2_mean_intensity',\n",
    " '2_median_intensity',\n",
    " '2_moment_normalized_0_0_2',\n",
    " '2_moment_normalized_0_0_3',\n",
    " '2_moment_normalized_0_1_1',\n",
    " '2_moment_normalized_0_2_0',\n",
    " '2_moment_normalized_0_2_2',\n",
    " '2_moment_normalized_0_2_3',\n",
    " '2_moment_normalized_2_0_0',\n",
    " '2_moment_normalized_2_0_2',\n",
    " '2_moment_normalized_2_2_0',\n",
    " '2_moment_normalized_2_2_2',\n",
    " '2_perc_10_intensity',\n",
    " '2_perc_20_intensity',\n",
    " '2_perc_25_intensity',\n",
    " '2_perc_30_intensity',\n",
    " '2_perc_40_intensity',\n",
    " '2_perc_50_intensity',\n",
    " '2_perc_60_intensity',\n",
    " '2_perc_70_intensity',\n",
    " '2_perc_75_intensity',\n",
    " '2_perc_80_intensity',\n",
    " '2_perc_90_intensity',\n",
    " '2_std_intensity',\n",
    " 'area',\n",
    " 'first_major_diff',\n",
    " 'inertia_length_0',\n",
    " 'inertia_length_1',\n",
    " 'volume_um']"
   ]
  },
  {
   "cell_type": "code",
   "execution_count": null,
   "metadata": {},
   "outputs": [],
   "source": [
    "boruta_minimal_feature_set_strong = ['0-clahe_haralick_mean_InfoMeas1',\n",
    " '0-clahe_haralick_peak2peak_Entropy',\n",
    " '0-clahe_haralick_peak2peak_Variance',\n",
    " '0-clahe_moment_normalized_0_0_2',\n",
    " '0-clahe_moment_normalized_0_2_0',\n",
    " '0-clahe_moment_normalized_0_2_2',\n",
    " '0-clahe_moment_normalized_0_3_2',\n",
    " '0-clahe_moment_normalized_2_0_0',\n",
    " '0-clahe_moment_normalized_3_0_1',\n",
    " '0-clahe_std_intensity',\n",
    " '0-edges_haralick_mean_AngularSecondMoment',\n",
    " '0-edges_haralick_mean_Contrast',\n",
    " '0-edges_haralick_mean_Correlation',\n",
    " '0-edges_haralick_mean_DifferenceEntropy',\n",
    " '0-edges_haralick_mean_DifferenceVariance',\n",
    " '0-edges_haralick_mean_InverseDifferenceMoment',\n",
    " '0-edges_haralick_peak2peak_AngularSecondMoment',\n",
    " '0-edges_haralick_peak2peak_Contrast',\n",
    " '0-edges_haralick_peak2peak_DifferenceVariance',\n",
    " '0-edges_haralick_peak2peak_Entropy',\n",
    " '0-edges_haralick_peak2peak_InfoMeas1',\n",
    " '0-edges_haralick_peak2peak_SumVariance',\n",
    " '0-edges_haralick_peak2peak_Variance',\n",
    " '0-edges_mass_displace_in_majors',\n",
    " '0-edges_moment_normalized_2_0_0',\n",
    " '0-edges_moment_normalized_2_2_0',\n",
    " '0-edges_perc_70_intensity',\n",
    " '0-edges_perc_75_intensity',\n",
    " '0-edges_perc_90_intensity',\n",
    " '0-memb_haralick_mean_Contrast',\n",
    " '0-memb_haralick_mean_Correlation',\n",
    " '0-memb_haralick_mean_DifferenceEntropy',\n",
    " '0-memb_haralick_mean_DifferenceVariance',\n",
    " '0-memb_haralick_mean_InfoMeas1',\n",
    " '0-memb_haralick_mean_InfoMeas2',\n",
    " '0-memb_haralick_mean_InverseDifferenceMoment',\n",
    " '0-memb_haralick_mean_SumAverage',\n",
    " '0-memb_haralick_mean_SumEntropy',\n",
    " '0-memb_haralick_mean_SumVariance',\n",
    " '0-memb_haralick_mean_Variance',\n",
    " '0-memb_haralick_peak2peak_AngularSecondMoment',\n",
    " '0-memb_haralick_peak2peak_Contrast',\n",
    " '0-memb_haralick_peak2peak_DifferenceVariance',\n",
    " '0-memb_haralick_peak2peak_Entropy',\n",
    " '0-memb_haralick_peak2peak_InfoMeas1',\n",
    " '0-memb_haralick_peak2peak_InfoMeas2',\n",
    " '0-memb_haralick_peak2peak_SumAverage',\n",
    " '0-memb_haralick_peak2peak_SumVariance',\n",
    " '0-memb_haralick_peak2peak_Variance',\n",
    " '0-memb_mad_intensity',\n",
    " '0-memb_mass_displace_in_diameters',\n",
    " '0-memb_mass_displace_in_majors',\n",
    " '0-memb_mean_intensity',\n",
    " '0-memb_median_intensity',\n",
    " '0-memb_moment_normalized_0_2_1',\n",
    " '0-memb_moment_normalized_0_2_2',\n",
    " '0-memb_moment_normalized_0_3_0',\n",
    " '0-memb_moment_normalized_2_0_0',\n",
    " '0-memb_moment_normalized_2_0_1',\n",
    " '0-memb_moment_normalized_2_0_2',\n",
    " '0-memb_moment_normalized_2_0_3',\n",
    " '0-memb_moment_normalized_2_2_0',\n",
    " '0-memb_moment_normalized_3_0_1',\n",
    " '0-memb_moment_normalized_3_1_1',\n",
    " '0-memb_perc_10_intensity',\n",
    " '0-memb_perc_25_intensity',\n",
    " '0-memb_perc_30_intensity',\n",
    " '0-memb_perc_40_intensity',\n",
    " '0-memb_perc_50_intensity',\n",
    " '0-memb_perc_60_intensity',\n",
    " '0-memb_perc_70_intensity',\n",
    " '0-memb_perc_75_intensity',\n",
    " '0-memb_perc_80_intensity',\n",
    " '0-memb_perc_90_intensity',\n",
    " '0-memb_std_intensity',\n",
    " '0_haralick_mean_Contrast',\n",
    " '0_haralick_mean_DifferenceVariance',\n",
    " '0_haralick_mean_InfoMeas1',\n",
    " '0_haralick_mean_InfoMeas2',\n",
    " '0_haralick_mean_SumAverage',\n",
    " '0_haralick_mean_SumVariance',\n",
    " '0_haralick_mean_Variance',\n",
    " '0_haralick_peak2peak_Contrast',\n",
    " '0_haralick_peak2peak_DifferenceVariance',\n",
    " '0_haralick_peak2peak_Entropy',\n",
    " '0_haralick_peak2peak_InfoMeas2',\n",
    " '0_haralick_peak2peak_SumEntropy',\n",
    " '0_haralick_peak2peak_SumVariance',\n",
    " '0_mean_intensity',\n",
    " '0_moment_normalized_0_2_2',\n",
    " '0_moment_normalized_2_0_0',\n",
    " '0_moment_normalized_2_0_2',\n",
    " '0_perc_10_intensity',\n",
    " '0_perc_40_intensity',\n",
    " '0_perc_75_intensity',\n",
    " '0_perc_80_intensity',\n",
    " '0_perc_90_intensity',\n",
    " '0_std_intensity',\n",
    " '2-clahe_haralick_mean_AngularSecondMoment',\n",
    " '2-clahe_haralick_mean_Contrast',\n",
    " '2-clahe_haralick_mean_Correlation',\n",
    " '2-clahe_haralick_mean_DifferenceEntropy',\n",
    " '2-clahe_haralick_mean_DifferenceVariance',\n",
    " '2-clahe_haralick_mean_Entropy',\n",
    " '2-clahe_haralick_mean_InfoMeas1',\n",
    " '2-clahe_haralick_mean_InfoMeas2',\n",
    " '2-clahe_haralick_mean_InverseDifferenceMoment',\n",
    " '2-clahe_haralick_mean_SumAverage',\n",
    " '2-clahe_haralick_mean_SumEntropy',\n",
    " '2-clahe_haralick_mean_SumVariance',\n",
    " '2-clahe_haralick_mean_Variance',\n",
    " '2-clahe_haralick_peak2peak_AngularSecondMoment',\n",
    " '2-clahe_haralick_peak2peak_Contrast',\n",
    " '2-clahe_haralick_peak2peak_Correlation',\n",
    " '2-clahe_haralick_peak2peak_DifferenceEntropy',\n",
    " '2-clahe_haralick_peak2peak_DifferenceVariance',\n",
    " '2-clahe_haralick_peak2peak_Entropy',\n",
    " '2-clahe_haralick_peak2peak_InfoMeas1',\n",
    " '2-clahe_haralick_peak2peak_InfoMeas2',\n",
    " '2-clahe_haralick_peak2peak_InverseDifferenceMoment',\n",
    " '2-clahe_haralick_peak2peak_SumAverage',\n",
    " '2-clahe_haralick_peak2peak_SumVariance',\n",
    " '2-clahe_haralick_peak2peak_Variance',\n",
    " '2-clahe_mad_intensity',\n",
    " '2-clahe_mass_displace_in_diameters',\n",
    " '2-clahe_mass_displace_in_majors',\n",
    " '2-clahe_mean_intensity',\n",
    " '2-clahe_median_intensity',\n",
    " '2-clahe_moment_normalized_0_0_2',\n",
    " '2-clahe_moment_normalized_0_1_2',\n",
    " '2-clahe_moment_normalized_0_2_0',\n",
    " '2-clahe_moment_normalized_0_2_2',\n",
    " '2-clahe_moment_normalized_0_3_2',\n",
    " '2-clahe_moment_normalized_1_3_1',\n",
    " '2-clahe_moment_normalized_2_0_0',\n",
    " '2-clahe_moment_normalized_2_0_2',\n",
    " '2-clahe_moment_normalized_2_2_0',\n",
    " '2-clahe_moment_normalized_2_2_2',\n",
    " '2-clahe_perc_10_intensity',\n",
    " '2-clahe_perc_20_intensity',\n",
    " '2-clahe_perc_25_intensity',\n",
    " '2-clahe_perc_30_intensity',\n",
    " '2-clahe_perc_40_intensity',\n",
    " '2-clahe_perc_50_intensity',\n",
    " '2-clahe_perc_60_intensity',\n",
    " '2-clahe_perc_70_intensity',\n",
    " '2-clahe_perc_75_intensity',\n",
    " '2-clahe_perc_80_intensity',\n",
    " '2-clahe_perc_90_intensity',\n",
    " '2-clahe_std_intensity',\n",
    " '2-edges_haralick_mean_AngularSecondMoment',\n",
    " '2-edges_haralick_mean_Contrast',\n",
    " '2-edges_haralick_mean_Correlation',\n",
    " '2-edges_haralick_mean_DifferenceEntropy',\n",
    " '2-edges_haralick_mean_DifferenceVariance',\n",
    " '2-edges_haralick_mean_Entropy',\n",
    " '2-edges_haralick_mean_InfoMeas1',\n",
    " '2-edges_haralick_mean_InfoMeas2',\n",
    " '2-edges_haralick_mean_InverseDifferenceMoment',\n",
    " '2-edges_haralick_mean_SumAverage',\n",
    " '2-edges_haralick_mean_SumEntropy',\n",
    " '2-edges_haralick_mean_SumVariance',\n",
    " '2-edges_haralick_mean_Variance',\n",
    " '2-edges_haralick_peak2peak_AngularSecondMoment',\n",
    " '2-edges_haralick_peak2peak_Contrast',\n",
    " '2-edges_haralick_peak2peak_Correlation',\n",
    " '2-edges_haralick_peak2peak_DifferenceEntropy',\n",
    " '2-edges_haralick_peak2peak_Entropy',\n",
    " '2-edges_haralick_peak2peak_InfoMeas1',\n",
    " '2-edges_haralick_peak2peak_InfoMeas2',\n",
    " '2-edges_haralick_peak2peak_InverseDifferenceMoment',\n",
    " '2-edges_haralick_peak2peak_SumAverage',\n",
    " '2-edges_haralick_peak2peak_SumVariance',\n",
    " '2-edges_haralick_peak2peak_Variance',\n",
    " '2-edges_mad_intensity',\n",
    " '2-edges_mass_displace_in_diameters',\n",
    " '2-edges_mass_displace_in_majors',\n",
    " '2-edges_mean_intensity',\n",
    " '2-edges_median_intensity',\n",
    " '2-edges_moment_normalized_0_0_2',\n",
    " '2-edges_moment_normalized_0_0_3',\n",
    " '2-edges_moment_normalized_0_2_0',\n",
    " '2-edges_moment_normalized_0_2_1',\n",
    " '2-edges_moment_normalized_0_2_2',\n",
    " '2-edges_moment_normalized_0_2_3',\n",
    " '2-edges_moment_normalized_0_3_1',\n",
    " '2-edges_moment_normalized_0_3_2',\n",
    " '2-edges_moment_normalized_0_3_3',\n",
    " '2-edges_moment_normalized_1_1_2',\n",
    " '2-edges_moment_normalized_1_2_3',\n",
    " '2-edges_moment_normalized_1_3_1',\n",
    " '2-edges_moment_normalized_1_3_2',\n",
    " '2-edges_moment_normalized_1_3_3',\n",
    " '2-edges_moment_normalized_2_0_0',\n",
    " '2-edges_moment_normalized_2_0_2',\n",
    " '2-edges_moment_normalized_2_0_3',\n",
    " '2-edges_moment_normalized_2_2_0',\n",
    " '2-edges_moment_normalized_2_2_2',\n",
    " '2-edges_moment_normalized_3_1_3',\n",
    " '2-edges_moment_normalized_3_2_2',\n",
    " '2-edges_moment_normalized_3_2_3',\n",
    " '2-edges_moment_normalized_3_3_1',\n",
    " '2-edges_moment_normalized_3_3_3',\n",
    " '2-edges_perc_10_intensity',\n",
    " '2-edges_perc_20_intensity',\n",
    " '2-edges_perc_25_intensity',\n",
    " '2-edges_perc_30_intensity',\n",
    " '2-edges_perc_40_intensity',\n",
    " '2-edges_perc_50_intensity',\n",
    " '2-edges_perc_60_intensity',\n",
    " '2-edges_perc_70_intensity',\n",
    " '2-edges_perc_75_intensity',\n",
    " '2-edges_perc_80_intensity',\n",
    " '2-edges_perc_90_intensity',\n",
    " '2-edges_std_intensity',\n",
    " '2-memb_haralick_mean_AngularSecondMoment',\n",
    " '2-memb_haralick_mean_Contrast',\n",
    " '2-memb_haralick_mean_Correlation',\n",
    " '2-memb_haralick_mean_DifferenceEntropy',\n",
    " '2-memb_haralick_mean_DifferenceVariance',\n",
    " '2-memb_haralick_mean_Entropy',\n",
    " '2-memb_haralick_mean_InfoMeas1',\n",
    " '2-memb_haralick_mean_InfoMeas2',\n",
    " '2-memb_haralick_mean_InverseDifferenceMoment',\n",
    " '2-memb_haralick_mean_SumAverage',\n",
    " '2-memb_haralick_mean_SumEntropy',\n",
    " '2-memb_haralick_mean_SumVariance',\n",
    " '2-memb_haralick_mean_Variance',\n",
    " '2-memb_haralick_peak2peak_AngularSecondMoment',\n",
    " '2-memb_haralick_peak2peak_Contrast',\n",
    " '2-memb_haralick_peak2peak_Correlation',\n",
    " '2-memb_haralick_peak2peak_DifferenceVariance',\n",
    " '2-memb_haralick_peak2peak_Entropy',\n",
    " '2-memb_haralick_peak2peak_InfoMeas2',\n",
    " '2-memb_haralick_peak2peak_InverseDifferenceMoment',\n",
    " '2-memb_haralick_peak2peak_SumAverage',\n",
    " '2-memb_haralick_peak2peak_SumVariance',\n",
    " '2-memb_haralick_peak2peak_Variance',\n",
    " '2-memb_mad_intensity',\n",
    " '2-memb_mass_displace_in_diameters',\n",
    " '2-memb_mass_displace_in_majors',\n",
    " '2-memb_mean_intensity',\n",
    " '2-memb_median_intensity',\n",
    " '2-memb_moment_normalized_0_0_2',\n",
    " '2-memb_moment_normalized_0_2_0',\n",
    " '2-memb_moment_normalized_0_2_2',\n",
    " '2-memb_moment_normalized_1_2_3',\n",
    " '2-memb_moment_normalized_2_0_0',\n",
    " '2-memb_moment_normalized_2_2_1',\n",
    " '2-memb_moment_normalized_2_2_2',\n",
    " '2-memb_perc_10_intensity',\n",
    " '2-memb_perc_20_intensity',\n",
    " '2-memb_perc_25_intensity',\n",
    " '2-memb_perc_30_intensity',\n",
    " '2-memb_perc_40_intensity',\n",
    " '2-memb_perc_50_intensity',\n",
    " '2-memb_perc_60_intensity',\n",
    " '2-memb_perc_70_intensity',\n",
    " '2-memb_perc_75_intensity',\n",
    " '2-memb_perc_80_intensity',\n",
    " '2-memb_perc_90_intensity',\n",
    " '2-memb_std_intensity',\n",
    " '2_haralick_mean_AngularSecondMoment',\n",
    " '2_haralick_mean_Contrast',\n",
    " '2_haralick_mean_Correlation',\n",
    " '2_haralick_mean_DifferenceEntropy',\n",
    " '2_haralick_mean_DifferenceVariance',\n",
    " '2_haralick_mean_Entropy',\n",
    " '2_haralick_mean_InfoMeas1',\n",
    " '2_haralick_mean_InfoMeas2',\n",
    " '2_haralick_mean_InverseDifferenceMoment',\n",
    " '2_haralick_mean_SumAverage',\n",
    " '2_haralick_mean_SumEntropy',\n",
    " '2_haralick_mean_SumVariance',\n",
    " '2_haralick_mean_Variance',\n",
    " '2_haralick_peak2peak_AngularSecondMoment',\n",
    " '2_haralick_peak2peak_Contrast',\n",
    " '2_haralick_peak2peak_Correlation',\n",
    " '2_haralick_peak2peak_DifferenceEntropy',\n",
    " '2_haralick_peak2peak_DifferenceVariance',\n",
    " '2_haralick_peak2peak_Entropy',\n",
    " '2_haralick_peak2peak_InfoMeas1',\n",
    " '2_haralick_peak2peak_InfoMeas2',\n",
    " '2_haralick_peak2peak_InverseDifferenceMoment',\n",
    " '2_haralick_peak2peak_SumAverage',\n",
    " '2_haralick_peak2peak_SumVariance',\n",
    " '2_haralick_peak2peak_Variance',\n",
    " '2_mad_intensity',\n",
    " '2_mass_displace_in_diameters',\n",
    " '2_mass_displace_in_majors',\n",
    " '2_mean_intensity',\n",
    " '2_median_intensity',\n",
    " '2_moment_normalized_0_0_2',\n",
    " '2_moment_normalized_0_0_3',\n",
    " '2_moment_normalized_0_1_1',\n",
    " '2_moment_normalized_0_2_0',\n",
    " '2_moment_normalized_0_2_2',\n",
    " '2_moment_normalized_0_2_3',\n",
    " '2_moment_normalized_2_0_0',\n",
    " '2_moment_normalized_2_0_2',\n",
    " '2_moment_normalized_2_2_0',\n",
    " '2_moment_normalized_2_2_2',\n",
    " '2_perc_10_intensity',\n",
    " '2_perc_20_intensity',\n",
    " '2_perc_25_intensity',\n",
    " '2_perc_30_intensity',\n",
    " '2_perc_40_intensity',\n",
    " '2_perc_50_intensity',\n",
    " '2_perc_60_intensity',\n",
    " '2_perc_70_intensity',\n",
    " '2_perc_75_intensity',\n",
    " '2_perc_80_intensity',\n",
    " '2_perc_90_intensity',\n",
    " '2_std_intensity',\n",
    " 'area',\n",
    " 'first_major_diff',\n",
    " 'inertia_length_0',\n",
    " 'inertia_length_1',\n",
    " 'volume_um']"
   ]
  },
  {
   "cell_type": "markdown",
   "metadata": {},
   "source": [
    "### Dataset split"
   ]
  },
  {
   "cell_type": "code",
   "execution_count": 49,
   "metadata": {},
   "outputs": [],
   "source": [
    "from sklearn.feature_selection import GenericUnivariateSelect\n",
    "from itertools import compress"
   ]
  },
  {
   "cell_type": "code",
   "execution_count": 50,
   "metadata": {},
   "outputs": [
    {
     "ename": "NameError",
     "evalue": "name 'boruta_minimal_feature_set' is not defined",
     "output_type": "error",
     "traceback": [
      "\u001b[0;31m---------------------------------------------------------------------------\u001b[0m",
      "\u001b[0;31mNameError\u001b[0m                                 Traceback (most recent call last)",
      "\u001b[0;32m<ipython-input-50-af78bb8f0716>\u001b[0m in \u001b[0;36m<module>\u001b[0;34m\u001b[0m\n\u001b[0;32m----> 1\u001b[0;31m \u001b[0mds\u001b[0m\u001b[0;34m.\u001b[0m\u001b[0mset_features\u001b[0m\u001b[0;34m(\u001b[0m\u001b[0mboruta_minimal_feature_set\u001b[0m\u001b[0;34m)\u001b[0m\u001b[0;34m\u001b[0m\u001b[0;34m\u001b[0m\u001b[0m\n\u001b[0m\u001b[1;32m      2\u001b[0m \u001b[0mboruta_ds\u001b[0m \u001b[0;34m=\u001b[0m \u001b[0mds\u001b[0m\u001b[0;34m.\u001b[0m\u001b[0mdata\u001b[0m\u001b[0;34m.\u001b[0m\u001b[0mcopy\u001b[0m\u001b[0;34m(\u001b[0m\u001b[0;34m)\u001b[0m\u001b[0;34m\u001b[0m\u001b[0;34m\u001b[0m\u001b[0m\n\u001b[1;32m      3\u001b[0m \u001b[0mboruta_cls\u001b[0m \u001b[0;34m=\u001b[0m \u001b[0mds\u001b[0m\u001b[0;34m.\u001b[0m\u001b[0mdata_cls\u001b[0m\u001b[0;34m.\u001b[0m\u001b[0mcopy\u001b[0m\u001b[0;34m(\u001b[0m\u001b[0;34m)\u001b[0m\u001b[0;34m\u001b[0m\u001b[0;34m\u001b[0m\u001b[0m\n\u001b[1;32m      4\u001b[0m \u001b[0;34m\u001b[0m\u001b[0m\n\u001b[1;32m      5\u001b[0m \u001b[0mds\u001b[0m\u001b[0;34m.\u001b[0m\u001b[0mset_features\u001b[0m\u001b[0;34m(\u001b[0m\u001b[0mall_features\u001b[0m\u001b[0;34m)\u001b[0m\u001b[0;34m\u001b[0m\u001b[0;34m\u001b[0m\u001b[0m\n",
      "\u001b[0;31mNameError\u001b[0m: name 'boruta_minimal_feature_set' is not defined"
     ]
    }
   ],
   "source": [
    "ds.set_features(boruta_minimal_feature_set)\n",
    "boruta_ds = ds.data.copy()\n",
    "boruta_cls = ds.data_cls.copy()\n",
    "\n",
    "ds.set_features(all_features)\n",
    "all_feat_ds = ds.data.copy()\n",
    "all_feat_cls = ds.data_cls.copy()"
   ]
  },
  {
   "cell_type": "markdown",
   "metadata": {},
   "source": [
    "## Mutual info classify\n",
    "\n",
    "weak statistical correlation between features. Statistical tests fail.\n",
    "Selected best 350 features"
   ]
  },
  {
   "cell_type": "code",
   "execution_count": null,
   "metadata": {},
   "outputs": [],
   "source": [
    "mic_350_features = ['2-clahe_haralick_mean_AngularSecondMoment',\n",
    " '2-clahe_haralick_mean_Contrast',\n",
    " '2-clahe_haralick_mean_DifferenceEntropy',\n",
    " '2-clahe_haralick_mean_DifferenceVariance',\n",
    " '2-clahe_haralick_mean_Entropy',\n",
    " '2-clahe_haralick_mean_InfoMeas1',\n",
    " '2-clahe_haralick_mean_InfoMeas2',\n",
    " '2-clahe_haralick_mean_InverseDifferenceMoment',\n",
    " '2-clahe_haralick_mean_SumAverage',\n",
    " '2-clahe_haralick_mean_SumEntropy',\n",
    " '2-clahe_haralick_mean_SumVariance',\n",
    " '2-clahe_haralick_mean_Variance',\n",
    " '2-clahe_haralick_peak2peak_AngularSecondMoment',\n",
    " '2-clahe_haralick_peak2peak_Contrast',\n",
    " '2-clahe_haralick_peak2peak_DifferenceVariance',\n",
    " '2-clahe_haralick_peak2peak_InfoMeas1',\n",
    " '2-clahe_haralick_peak2peak_InfoMeas2',\n",
    " '2-clahe_haralick_peak2peak_SumAverage',\n",
    " '2-clahe_haralick_peak2peak_SumVariance',\n",
    " '2-clahe_haralick_peak2peak_Variance',\n",
    " '2-clahe_mad_intensity',\n",
    " '2-clahe_mean_intensity',\n",
    " '2-clahe_median_intensity',\n",
    " '2-clahe_moment_normalized_0_0_2',\n",
    " '2-clahe_moment_normalized_0_1_2',\n",
    " '2-clahe_moment_normalized_0_1_3',\n",
    " '2-clahe_moment_normalized_0_2_0',\n",
    " '2-clahe_moment_normalized_0_2_1',\n",
    " '2-clahe_moment_normalized_0_2_2',\n",
    " '2-clahe_moment_normalized_0_2_3',\n",
    " '2-clahe_moment_normalized_0_3_1',\n",
    " '2-clahe_moment_normalized_0_3_2',\n",
    " '2-clahe_moment_normalized_0_3_3',\n",
    " '2-clahe_moment_normalized_1_0_3',\n",
    " '2-clahe_moment_normalized_1_1_2',\n",
    " '2-clahe_moment_normalized_1_1_3',\n",
    " '2-clahe_moment_normalized_1_2_1',\n",
    " '2-clahe_moment_normalized_1_2_2',\n",
    " '2-clahe_moment_normalized_1_2_3',\n",
    " '2-clahe_moment_normalized_1_3_0',\n",
    " '2-clahe_moment_normalized_1_3_1',\n",
    " '2-clahe_moment_normalized_1_3_2',\n",
    " '2-clahe_moment_normalized_1_3_3',\n",
    " '2-clahe_moment_normalized_2_0_0',\n",
    " '2-clahe_moment_normalized_2_0_2',\n",
    " '2-clahe_moment_normalized_2_0_3',\n",
    " '2-clahe_moment_normalized_2_1_1',\n",
    " '2-clahe_moment_normalized_2_1_2',\n",
    " '2-clahe_moment_normalized_2_1_3',\n",
    " '2-clahe_moment_normalized_2_2_0',\n",
    " '2-clahe_moment_normalized_2_2_1',\n",
    " '2-clahe_moment_normalized_2_2_2',\n",
    " '2-clahe_moment_normalized_2_2_3',\n",
    " '2-clahe_moment_normalized_2_3_0',\n",
    " '2-clahe_moment_normalized_2_3_1',\n",
    " '2-clahe_moment_normalized_2_3_2',\n",
    " '2-clahe_moment_normalized_2_3_3',\n",
    " '2-clahe_moment_normalized_3_0_2',\n",
    " '2-clahe_moment_normalized_3_0_3',\n",
    " '2-clahe_moment_normalized_3_1_0',\n",
    " '2-clahe_moment_normalized_3_1_1',\n",
    " '2-clahe_moment_normalized_3_1_2',\n",
    " '2-clahe_moment_normalized_3_1_3',\n",
    " '2-clahe_moment_normalized_3_2_0',\n",
    " '2-clahe_moment_normalized_3_2_1',\n",
    " '2-clahe_moment_normalized_3_2_2',\n",
    " '2-clahe_moment_normalized_3_2_3',\n",
    " '2-clahe_moment_normalized_3_3_0',\n",
    " '2-clahe_moment_normalized_3_3_1',\n",
    " '2-clahe_moment_normalized_3_3_2',\n",
    " '2-clahe_moment_normalized_3_3_3',\n",
    " '2-clahe_perc_10_intensity',\n",
    " '2-clahe_perc_20_intensity',\n",
    " '2-clahe_perc_25_intensity',\n",
    " '2-clahe_perc_30_intensity',\n",
    " '2-clahe_perc_40_intensity',\n",
    " '2-clahe_perc_50_intensity',\n",
    " '2-clahe_perc_60_intensity',\n",
    " '2-clahe_perc_70_intensity',\n",
    " '2-clahe_perc_75_intensity',\n",
    " '2-clahe_perc_80_intensity',\n",
    " '2-clahe_perc_90_intensity',\n",
    " '2-clahe_std_intensity',\n",
    " '2-edges_haralick_mean_AngularSecondMoment',\n",
    " '2-edges_haralick_mean_Contrast',\n",
    " '2-edges_haralick_mean_DifferenceEntropy',\n",
    " '2-edges_haralick_mean_DifferenceVariance',\n",
    " '2-edges_haralick_mean_Entropy',\n",
    " '2-edges_haralick_mean_InfoMeas2',\n",
    " '2-edges_haralick_mean_InverseDifferenceMoment',\n",
    " '2-edges_haralick_mean_SumAverage',\n",
    " '2-edges_haralick_mean_SumEntropy',\n",
    " '2-edges_haralick_mean_SumVariance',\n",
    " '2-edges_haralick_mean_Variance',\n",
    " '2-edges_haralick_peak2peak_Contrast',\n",
    " '2-edges_haralick_peak2peak_DifferenceEntropy',\n",
    " '2-edges_haralick_peak2peak_Entropy',\n",
    " '2-edges_haralick_peak2peak_InverseDifferenceMoment',\n",
    " '2-edges_haralick_peak2peak_SumAverage',\n",
    " '2-edges_haralick_peak2peak_SumVariance',\n",
    " '2-edges_haralick_peak2peak_Variance',\n",
    " '2-edges_mad_intensity',\n",
    " '2-edges_mean_intensity',\n",
    " '2-edges_median_intensity',\n",
    " '2-edges_moment_normalized_0_0_2',\n",
    " '2-edges_moment_normalized_0_0_3',\n",
    " '2-edges_moment_normalized_0_1_2',\n",
    " '2-edges_moment_normalized_0_1_3',\n",
    " '2-edges_moment_normalized_0_2_0',\n",
    " '2-edges_moment_normalized_0_2_1',\n",
    " '2-edges_moment_normalized_0_2_2',\n",
    " '2-edges_moment_normalized_0_2_3',\n",
    " '2-edges_moment_normalized_0_3_0',\n",
    " '2-edges_moment_normalized_0_3_1',\n",
    " '2-edges_moment_normalized_0_3_2',\n",
    " '2-edges_moment_normalized_0_3_3',\n",
    " '2-edges_moment_normalized_1_0_2',\n",
    " '2-edges_moment_normalized_1_0_3',\n",
    " '2-edges_moment_normalized_1_1_1',\n",
    " '2-edges_moment_normalized_1_1_2',\n",
    " '2-edges_moment_normalized_1_1_3',\n",
    " '2-edges_moment_normalized_1_2_0',\n",
    " '2-edges_moment_normalized_1_2_1',\n",
    " '2-edges_moment_normalized_1_2_2',\n",
    " '2-edges_moment_normalized_1_2_3',\n",
    " '2-edges_moment_normalized_1_3_0',\n",
    " '2-edges_moment_normalized_1_3_1',\n",
    " '2-edges_moment_normalized_1_3_2',\n",
    " '2-edges_moment_normalized_1_3_3',\n",
    " '2-edges_moment_normalized_2_0_0',\n",
    " '2-edges_moment_normalized_2_0_1',\n",
    " '2-edges_moment_normalized_2_0_2',\n",
    " '2-edges_moment_normalized_2_0_3',\n",
    " '2-edges_moment_normalized_2_1_0',\n",
    " '2-edges_moment_normalized_2_1_1',\n",
    " '2-edges_moment_normalized_2_1_2',\n",
    " '2-edges_moment_normalized_2_1_3',\n",
    " '2-edges_moment_normalized_2_2_0',\n",
    " '2-edges_moment_normalized_2_2_1',\n",
    " '2-edges_moment_normalized_2_2_2',\n",
    " '2-edges_moment_normalized_2_2_3',\n",
    " '2-edges_moment_normalized_2_3_0',\n",
    " '2-edges_moment_normalized_2_3_1',\n",
    " '2-edges_moment_normalized_2_3_2',\n",
    " '2-edges_moment_normalized_2_3_3',\n",
    " '2-edges_moment_normalized_3_0_0',\n",
    " '2-edges_moment_normalized_3_0_1',\n",
    " '2-edges_moment_normalized_3_0_2',\n",
    " '2-edges_moment_normalized_3_0_3',\n",
    " '2-edges_moment_normalized_3_1_0',\n",
    " '2-edges_moment_normalized_3_1_1',\n",
    " '2-edges_moment_normalized_3_1_2',\n",
    " '2-edges_moment_normalized_3_1_3',\n",
    " '2-edges_moment_normalized_3_2_0',\n",
    " '2-edges_moment_normalized_3_2_1',\n",
    " '2-edges_moment_normalized_3_2_2',\n",
    " '2-edges_moment_normalized_3_2_3',\n",
    " '2-edges_moment_normalized_3_3_0',\n",
    " '2-edges_moment_normalized_3_3_1',\n",
    " '2-edges_moment_normalized_3_3_2',\n",
    " '2-edges_moment_normalized_3_3_3',\n",
    " '2-edges_perc_10_intensity',\n",
    " '2-edges_perc_20_intensity',\n",
    " '2-edges_perc_25_intensity',\n",
    " '2-edges_perc_30_intensity',\n",
    " '2-edges_perc_40_intensity',\n",
    " '2-edges_perc_50_intensity',\n",
    " '2-edges_perc_60_intensity',\n",
    " '2-edges_perc_70_intensity',\n",
    " '2-edges_perc_75_intensity',\n",
    " '2-edges_perc_80_intensity',\n",
    " '2-edges_perc_90_intensity',\n",
    " '2-edges_std_intensity',\n",
    " '2-memb_haralick_mean_AngularSecondMoment',\n",
    " '2-memb_haralick_mean_Contrast',\n",
    " '2-memb_haralick_mean_DifferenceEntropy',\n",
    " '2-memb_haralick_mean_DifferenceVariance',\n",
    " '2-memb_haralick_mean_Entropy',\n",
    " '2-memb_haralick_mean_InfoMeas2',\n",
    " '2-memb_haralick_mean_InverseDifferenceMoment',\n",
    " '2-memb_haralick_mean_SumAverage',\n",
    " '2-memb_haralick_mean_SumEntropy',\n",
    " '2-memb_haralick_mean_SumVariance',\n",
    " '2-memb_haralick_mean_Variance',\n",
    " '2-memb_haralick_peak2peak_AngularSecondMoment',\n",
    " '2-memb_haralick_peak2peak_Contrast',\n",
    " '2-memb_haralick_peak2peak_DifferenceVariance',\n",
    " '2-memb_haralick_peak2peak_InfoMeas1',\n",
    " '2-memb_haralick_peak2peak_InfoMeas2',\n",
    " '2-memb_haralick_peak2peak_SumAverage',\n",
    " '2-memb_haralick_peak2peak_SumVariance',\n",
    " '2-memb_haralick_peak2peak_Variance',\n",
    " '2-memb_mad_intensity',\n",
    " '2-memb_mean_intensity',\n",
    " '2-memb_median_intensity',\n",
    " '2-memb_moment_normalized_0_0_2',\n",
    " '2-memb_moment_normalized_0_1_2',\n",
    " '2-memb_moment_normalized_0_1_3',\n",
    " '2-memb_moment_normalized_0_2_0',\n",
    " '2-memb_moment_normalized_0_2_1',\n",
    " '2-memb_moment_normalized_0_2_2',\n",
    " '2-memb_moment_normalized_0_2_3',\n",
    " '2-memb_moment_normalized_0_3_1',\n",
    " '2-memb_moment_normalized_0_3_2',\n",
    " '2-memb_moment_normalized_0_3_3',\n",
    " '2-memb_moment_normalized_1_0_3',\n",
    " '2-memb_moment_normalized_1_1_2',\n",
    " '2-memb_moment_normalized_1_1_3',\n",
    " '2-memb_moment_normalized_1_2_1',\n",
    " '2-memb_moment_normalized_1_2_2',\n",
    " '2-memb_moment_normalized_1_2_3',\n",
    " '2-memb_moment_normalized_1_3_0',\n",
    " '2-memb_moment_normalized_1_3_1',\n",
    " '2-memb_moment_normalized_1_3_2',\n",
    " '2-memb_moment_normalized_1_3_3',\n",
    " '2-memb_moment_normalized_2_0_0',\n",
    " '2-memb_moment_normalized_2_0_2',\n",
    " '2-memb_moment_normalized_2_0_3',\n",
    " '2-memb_moment_normalized_2_1_1',\n",
    " '2-memb_moment_normalized_2_1_2',\n",
    " '2-memb_moment_normalized_2_1_3',\n",
    " '2-memb_moment_normalized_2_2_0',\n",
    " '2-memb_moment_normalized_2_2_1',\n",
    " '2-memb_moment_normalized_2_2_2',\n",
    " '2-memb_moment_normalized_2_2_3',\n",
    " '2-memb_moment_normalized_2_3_0',\n",
    " '2-memb_moment_normalized_2_3_1',\n",
    " '2-memb_moment_normalized_2_3_2',\n",
    " '2-memb_moment_normalized_2_3_3',\n",
    " '2-memb_moment_normalized_3_0_2',\n",
    " '2-memb_moment_normalized_3_0_3',\n",
    " '2-memb_moment_normalized_3_1_0',\n",
    " '2-memb_moment_normalized_3_1_1',\n",
    " '2-memb_moment_normalized_3_1_2',\n",
    " '2-memb_moment_normalized_3_1_3',\n",
    " '2-memb_moment_normalized_3_2_0',\n",
    " '2-memb_moment_normalized_3_2_1',\n",
    " '2-memb_moment_normalized_3_2_2',\n",
    " '2-memb_moment_normalized_3_2_3',\n",
    " '2-memb_moment_normalized_3_3_0',\n",
    " '2-memb_moment_normalized_3_3_1',\n",
    " '2-memb_moment_normalized_3_3_2',\n",
    " '2-memb_moment_normalized_3_3_3',\n",
    " '2-memb_perc_10_intensity',\n",
    " '2-memb_perc_20_intensity',\n",
    " '2-memb_perc_25_intensity',\n",
    " '2-memb_perc_30_intensity',\n",
    " '2-memb_perc_40_intensity',\n",
    " '2-memb_perc_50_intensity',\n",
    " '2-memb_perc_60_intensity',\n",
    " '2-memb_perc_70_intensity',\n",
    " '2-memb_perc_75_intensity',\n",
    " '2-memb_perc_80_intensity',\n",
    " '2-memb_perc_90_intensity',\n",
    " '2-memb_std_intensity',\n",
    " '2_haralick_mean_AngularSecondMoment',\n",
    " '2_haralick_mean_Contrast',\n",
    " '2_haralick_mean_Correlation',\n",
    " '2_haralick_mean_DifferenceEntropy',\n",
    " '2_haralick_mean_DifferenceVariance',\n",
    " '2_haralick_mean_Entropy',\n",
    " '2_haralick_mean_InfoMeas1',\n",
    " '2_haralick_mean_InfoMeas2',\n",
    " '2_haralick_mean_InverseDifferenceMoment',\n",
    " '2_haralick_mean_SumAverage',\n",
    " '2_haralick_mean_SumEntropy',\n",
    " '2_haralick_mean_SumVariance',\n",
    " '2_haralick_mean_Variance',\n",
    " '2_haralick_peak2peak_AngularSecondMoment',\n",
    " '2_haralick_peak2peak_Contrast',\n",
    " '2_haralick_peak2peak_Correlation',\n",
    " '2_haralick_peak2peak_DifferenceEntropy',\n",
    " '2_haralick_peak2peak_DifferenceVariance',\n",
    " '2_haralick_peak2peak_InfoMeas1',\n",
    " '2_haralick_peak2peak_InfoMeas2',\n",
    " '2_haralick_peak2peak_InverseDifferenceMoment',\n",
    " '2_haralick_peak2peak_SumAverage',\n",
    " '2_haralick_peak2peak_SumVariance',\n",
    " '2_haralick_peak2peak_Variance',\n",
    " '2_mad_intensity',\n",
    " '2_mean_intensity',\n",
    " '2_median_intensity',\n",
    " '2_moment_normalized_0_0_2',\n",
    " '2_moment_normalized_0_0_3',\n",
    " '2_moment_normalized_0_1_2',\n",
    " '2_moment_normalized_0_1_3',\n",
    " '2_moment_normalized_0_2_0',\n",
    " '2_moment_normalized_0_2_1',\n",
    " '2_moment_normalized_0_2_2',\n",
    " '2_moment_normalized_0_2_3',\n",
    " '2_moment_normalized_0_3_0',\n",
    " '2_moment_normalized_0_3_1',\n",
    " '2_moment_normalized_0_3_2',\n",
    " '2_moment_normalized_0_3_3',\n",
    " '2_moment_normalized_1_0_2',\n",
    " '2_moment_normalized_1_0_3',\n",
    " '2_moment_normalized_1_1_1',\n",
    " '2_moment_normalized_1_1_2',\n",
    " '2_moment_normalized_1_1_3',\n",
    " '2_moment_normalized_1_2_0',\n",
    " '2_moment_normalized_1_2_1',\n",
    " '2_moment_normalized_1_2_2',\n",
    " '2_moment_normalized_1_2_3',\n",
    " '2_moment_normalized_1_3_0',\n",
    " '2_moment_normalized_1_3_1',\n",
    " '2_moment_normalized_1_3_2',\n",
    " '2_moment_normalized_1_3_3',\n",
    " '2_moment_normalized_2_0_0',\n",
    " '2_moment_normalized_2_0_1',\n",
    " '2_moment_normalized_2_0_2',\n",
    " '2_moment_normalized_2_0_3',\n",
    " '2_moment_normalized_2_1_1',\n",
    " '2_moment_normalized_2_1_2',\n",
    " '2_moment_normalized_2_1_3',\n",
    " '2_moment_normalized_2_2_0',\n",
    " '2_moment_normalized_2_2_1',\n",
    " '2_moment_normalized_2_2_2',\n",
    " '2_moment_normalized_2_2_3',\n",
    " '2_moment_normalized_2_3_0',\n",
    " '2_moment_normalized_2_3_1',\n",
    " '2_moment_normalized_2_3_2',\n",
    " '2_moment_normalized_2_3_3',\n",
    " '2_moment_normalized_3_0_0',\n",
    " '2_moment_normalized_3_0_1',\n",
    " '2_moment_normalized_3_0_2',\n",
    " '2_moment_normalized_3_0_3',\n",
    " '2_moment_normalized_3_1_0',\n",
    " '2_moment_normalized_3_1_1',\n",
    " '2_moment_normalized_3_1_2',\n",
    " '2_moment_normalized_3_1_3',\n",
    " '2_moment_normalized_3_2_0',\n",
    " '2_moment_normalized_3_2_1',\n",
    " '2_moment_normalized_3_2_2',\n",
    " '2_moment_normalized_3_2_3',\n",
    " '2_moment_normalized_3_3_0',\n",
    " '2_moment_normalized_3_3_1',\n",
    " '2_moment_normalized_3_3_2',\n",
    " '2_moment_normalized_3_3_3',\n",
    " '2_perc_10_intensity',\n",
    " '2_perc_20_intensity',\n",
    " '2_perc_25_intensity',\n",
    " '2_perc_30_intensity',\n",
    " '2_perc_40_intensity',\n",
    " '2_perc_50_intensity',\n",
    " '2_perc_60_intensity',\n",
    " '2_perc_70_intensity',\n",
    " '2_perc_75_intensity',\n",
    " '2_perc_80_intensity',\n",
    " '2_perc_90_intensity',\n",
    " '2_std_intensity']\n"
   ]
  },
  {
   "cell_type": "code",
   "execution_count": null,
   "metadata": {},
   "outputs": [],
   "source": [
    "# Mutual info classify top 350\n",
    "gus = GenericUnivariateSelect(score_func=mutual_info_classif, mode='k_best', param=350)\n",
    "gus.fit_transform(all_feat_ds, all_feat_cls)\n",
    "mic_350 = gus.get_support()\n",
    "mic_350_features = list(compress(all_features, mic_350))"
   ]
  },
  {
   "cell_type": "code",
   "execution_count": null,
   "metadata": {},
   "outputs": [],
   "source": [
    "# Mutual info classify False Positive Rate FAIL\n",
    "gus = GenericUnivariateSelect(score_func=mutual_info_classif, mode='fpr')\n",
    "gus.fit_transform(all_feat_ds, all_feat_cls)\n",
    "fpr_mask = gus.get_support()\n",
    "mic_fpr_features = list(compress(all_features, fpr_mask))"
   ]
  },
  {
   "cell_type": "code",
   "execution_count": null,
   "metadata": {},
   "outputs": [],
   "source": [
    "# Mutual info classify False Discovery Rate FAIL\n",
    "gus = GenericUnivariateSelect(score_func=mutual_info_classif, mode='fdr')\n",
    "gus.fit(all_feat_ds, all_feat_cls)\n",
    "fdr_mask = gus.get_support()\n",
    "mic_fdr_features = list(compress(all_features, fdr_mask))"
   ]
  },
  {
   "cell_type": "code",
   "execution_count": null,
   "metadata": {},
   "outputs": [],
   "source": [
    "# Mutual info classify Family-wise error rate FAIL\n",
    "gus = GenericUnivariateSelect(score_func=mutual_info_classif, mode='fwe')\n",
    "gus.fit_transform(all_feat_ds, all_feat_cls)\n",
    "fwe_mask = gus.get_support()\n",
    "mic_fwe_features = list(compress(all_features, fwe_mask))"
   ]
  },
  {
   "cell_type": "markdown",
   "metadata": {},
   "source": [
    "## Model based feature selection"
   ]
  },
  {
   "cell_type": "code",
   "execution_count": 47,
   "metadata": {},
   "outputs": [],
   "source": [
    "from sklearn.tree import DecisionTreeClassifier"
   ]
  },
  {
   "cell_type": "markdown",
   "metadata": {},
   "source": [
    "### Decision Tree Classifier importance"
   ]
  },
  {
   "cell_type": "code",
   "execution_count": 48,
   "metadata": {},
   "outputs": [
    {
     "ename": "NameError",
     "evalue": "name 'all_feat_ds' is not defined",
     "output_type": "error",
     "traceback": [
      "\u001b[0;31m---------------------------------------------------------------------------\u001b[0m",
      "\u001b[0;31mNameError\u001b[0m                                 Traceback (most recent call last)",
      "\u001b[0;32m<ipython-input-48-eb6296dafcc6>\u001b[0m in \u001b[0;36m<module>\u001b[0;34m\u001b[0m\n\u001b[1;32m      1\u001b[0m \u001b[0;31m# preserved - better than default\u001b[0m\u001b[0;34m\u001b[0m\u001b[0;34m\u001b[0m\u001b[0;34m\u001b[0m\u001b[0m\n\u001b[1;32m      2\u001b[0m \u001b[0mclf\u001b[0m \u001b[0;34m=\u001b[0m \u001b[0mDecisionTreeClassifier\u001b[0m\u001b[0;34m(\u001b[0m\u001b[0mcriterion\u001b[0m\u001b[0;34m=\u001b[0m\u001b[0;34m'gini'\u001b[0m\u001b[0;34m,\u001b[0m \u001b[0mrandom_state\u001b[0m\u001b[0;34m=\u001b[0m\u001b[0mSEED\u001b[0m\u001b[0;34m)\u001b[0m\u001b[0;34m\u001b[0m\u001b[0;34m\u001b[0m\u001b[0m\n\u001b[0;32m----> 3\u001b[0;31m \u001b[0mclf\u001b[0m\u001b[0;34m.\u001b[0m\u001b[0mfit\u001b[0m\u001b[0;34m(\u001b[0m\u001b[0mall_feat_ds\u001b[0m\u001b[0;34m,\u001b[0m \u001b[0mall_feat_cls\u001b[0m\u001b[0;34m)\u001b[0m\u001b[0;34m\u001b[0m\u001b[0;34m\u001b[0m\u001b[0m\n\u001b[0m\u001b[1;32m      4\u001b[0m \u001b[0mprint\u001b[0m\u001b[0;34m(\u001b[0m\u001b[0;34m\"Non zero importance count = {}\"\u001b[0m\u001b[0;34m.\u001b[0m\u001b[0mformat\u001b[0m\u001b[0;34m(\u001b[0m\u001b[0mnp\u001b[0m\u001b[0;34m.\u001b[0m\u001b[0mcount_nonzero\u001b[0m\u001b[0;34m(\u001b[0m\u001b[0mclf\u001b[0m\u001b[0;34m.\u001b[0m\u001b[0mfeature_importances_\u001b[0m\u001b[0;34m)\u001b[0m\u001b[0;34m)\u001b[0m\u001b[0;34m)\u001b[0m\u001b[0;34m\u001b[0m\u001b[0;34m\u001b[0m\u001b[0m\n\u001b[1;32m      5\u001b[0m \u001b[0mdecision_tree_gini_features\u001b[0m \u001b[0;34m=\u001b[0m \u001b[0mlist\u001b[0m\u001b[0;34m(\u001b[0m\u001b[0mcompress\u001b[0m\u001b[0;34m(\u001b[0m\u001b[0mall_features\u001b[0m\u001b[0;34m,\u001b[0m \u001b[0mclf\u001b[0m\u001b[0;34m.\u001b[0m\u001b[0mfeature_importances_\u001b[0m \u001b[0;34m>\u001b[0m \u001b[0;36m0\u001b[0m\u001b[0;34m)\u001b[0m\u001b[0;34m)\u001b[0m\u001b[0;34m\u001b[0m\u001b[0;34m\u001b[0m\u001b[0m\n",
      "\u001b[0;31mNameError\u001b[0m: name 'all_feat_ds' is not defined"
     ]
    }
   ],
   "source": [
    "# preserved - better than default\n",
    "clf = DecisionTreeClassifier(criterion='gini', random_state=SEED)\n",
    "clf.fit(all_feat_ds, all_feat_cls)\n",
    "print(\"Non zero importance count = {}\".format(np.count_nonzero(clf.feature_importances_)))\n",
    "decision_tree_gini_features = list(compress(all_features, clf.feature_importances_ > 0))"
   ]
  },
  {
   "cell_type": "code",
   "execution_count": null,
   "metadata": {},
   "outputs": [],
   "source": [
    "# preserved - better than default\n",
    "clf = DecisionTreeClassifier(criterion='entropy', random_state=SEED)\n",
    "clf.fit(all_feat_ds, all_feat_cls)\n",
    "print(\"Non zero importance count = {}\".format(np.count_nonzero(clf.feature_importances_)))\n",
    "decision_tree_entropy_features = list(compress(all_features, clf.feature_importances_ > 0))"
   ]
  },
  {
   "cell_type": "code",
   "execution_count": null,
   "metadata": {},
   "outputs": [],
   "source": [
    "# Discarded - results from cross-validation are tragic (f1 = 0)\n",
    "clf = DecisionTreeClassifier(criterion='gini', random_state=SEED)\n",
    "clf.fit(boruta_ds, boruta_cls)\n",
    "print(\"Non zero importance count = {}\".format(np.count_nonzero(clf.feature_importances_)))\n",
    "decision_tree_gini_features_boruta = list(compress(all_features, clf.feature_importances_ > 0))"
   ]
  },
  {
   "cell_type": "code",
   "execution_count": null,
   "metadata": {},
   "outputs": [],
   "source": [
    "# Discarded - results from cross-validation are tragic (f1 = 0)\n",
    "clf = DecisionTreeClassifier(criterion='entropy', random_state=SEED)\n",
    "clf.fit(boruta_ds, boruta_cls)\n",
    "print(\"Non zero importance count = {}\".format(np.count_nonzero(clf.feature_importances_)))\n",
    "decision_tree_entropy_features_boruta = list(compress(all_features, clf.feature_importances_ > 0))"
   ]
  },
  {
   "cell_type": "markdown",
   "metadata": {},
   "source": [
    "## Recursive feature elimination "
   ]
  },
  {
   "cell_type": "code",
   "execution_count": null,
   "metadata": {},
   "outputs": [],
   "source": [
    "from sklearn.feature_selection import RFECV\n",
    "from sklearn.linear_model import SGDClassifier"
   ]
  },
  {
   "cell_type": "code",
   "execution_count": null,
   "metadata": {},
   "outputs": [],
   "source": [
    "def cross_val_recursive_feature_elimination(estimator, x, y, x_features):\n",
    "    selector = RFECV(estimator=estimator, cv=3, step=0.01, min_features_to_select=20, verbose=2, n_jobs=-1)\n",
    "    selector.fit(x, y)\n",
    "    return list(compress(x_features, selector.support_))"
   ]
  },
  {
   "cell_type": "code",
   "execution_count": null,
   "metadata": {},
   "outputs": [],
   "source": [
    "# preserved - better than default\n",
    "estimator = SGDClassifier()\n",
    "boruta_sgdc_rfe = cross_val_recursive_feature_elimination(estimator, boruta_ds, boruta_cls, boruta_minimal_feature_set)"
   ]
  },
  {
   "cell_type": "code",
   "execution_count": null,
   "metadata": {},
   "outputs": [],
   "source": [
    "# preserved - simmilar results to default\n",
    "estimator = DecisionTreeClassifier(criterion='gini', random_state=SEED)\n",
    "boruta_dtc_gini_rfe = cross_val_recursive_feature_elimination(estimator, boruta_ds, boruta_cls, boruta_minimal_feature_set)"
   ]
  },
  {
   "cell_type": "code",
   "execution_count": null,
   "metadata": {},
   "outputs": [],
   "source": [
    "# preserved - simmilar results to defualt\n",
    "estimator = DecisionTreeClassifier(criterion='entropy', random_state=SEED)\n",
    "boruta_dtc_entropy_rfe = cross_val_recursive_feature_elimination(estimator, boruta_ds, boruta_cls, boruta_minimal_feature_set)"
   ]
  },
  {
   "cell_type": "code",
   "execution_count": null,
   "metadata": {},
   "outputs": [],
   "source": [
    "ds.set_features(mic_350_features)\n",
    "cv_image_results = {}\n",
    "for cv in cross_val_per_image:\n",
    "    cv_image_results[cv] = cross_validate(models['baseline'], X=ds.data, y=ds.data_cls, cv=cross_val_per_image[cv], groups=group_by_image(ds.data), scoring=SCORES_LIST, verbose=1, n_jobs=-1)\n",
    "for name, scores in cv_image_results.items():\n",
    "    print_scores(name, scores)"
   ]
  },
  {
   "cell_type": "code",
   "execution_count": null,
   "metadata": {},
   "outputs": [],
   "source": [
    "var_tresh = VarianceThreshold(ds.data)"
   ]
  },
  {
   "cell_type": "markdown",
   "metadata": {},
   "source": [
    "### Long run"
   ]
  },
  {
   "cell_type": "code",
   "execution_count": null,
   "metadata": {},
   "outputs": [],
   "source": [
    "from sklearn.feature_selection import RFECV\n",
    "from sklearn.linear_model import SGDClassifier\n",
    "from sklearn.svm import SVC\n",
    "\n",
    "estimator = SGDClassifier()\n",
    "sgdc_all_features = cross_val_recursive_feature_elimination(estimator, all_feat_ds, all_feat_cls, all_features)\n",
    "\n",
    "estimator = DecisionTreeClassifier(criterion='gini', random_state=SEED)\n",
    "dtc_gini_all_features = cross_val_recursive_feature_elimination(estimator, all_feat_ds, all_feat_cls, all_features)\n",
    "\n",
    "estimator = DecisionTreeClassifier(criterion='entropy', random_state=SEED)\n",
    "dtc_entropy_all_features = cross_val_recursive_feature_elimination(estimator, all_feat_ds, all_feat_cls, all_features)"
   ]
  },
  {
   "cell_type": "code",
   "execution_count": null,
   "metadata": {},
   "outputs": [],
   "source": [
    "estimator = models['rf_tuned']\n",
    "random_forest_entropy_all_features = cross_val_recursive_feature_elimination(estimator, all_feat_ds, all_feat_cls, all_features)"
   ]
  },
  {
   "cell_type": "code",
   "execution_count": null,
   "metadata": {},
   "outputs": [],
   "source": [
    "estimator = models['baseline']\n",
    "random_forest_baseline_entropy_all_features = cross_val_recursive_feature_elimination(estimator, all_feat_ds, all_feat_cls, all_features)"
   ]
  },
  {
   "cell_type": "code",
   "execution_count": null,
   "metadata": {},
   "outputs": [],
   "source": [
    "estimator = models['xgb']\n",
    "xgb_entropy_all_features = cross_val_recursive_feature_elimination(estimator, all_feat_ds, all_feat_cls, all_features)"
   ]
  },
  {
   "cell_type": "code",
   "execution_count": null,
   "metadata": {},
   "outputs": [],
   "source": [
    "estimator = models['rf_tuned']\n",
    "random_forest_entropy_boruta_features = cross_val_recursive_feature_elimination(estimator, bortua_ds, boruta_cls, all_features)"
   ]
  },
  {
   "cell_type": "code",
   "execution_count": null,
   "metadata": {},
   "outputs": [],
   "source": [
    "estimator = models['baseline']\n",
    "random_forest_baseline_entropy_boruta_features = cross_val_recursive_feature_elimination(estimator, bortua_ds, boruta_cls, all_features)"
   ]
  },
  {
   "cell_type": "code",
   "execution_count": null,
   "metadata": {},
   "outputs": [],
   "source": [
    "d = {}"
   ]
  },
  {
   "cell_type": "code",
   "execution_count": null,
   "metadata": {},
   "outputs": [],
   "source": [
    "d[\"xgb_entropy_all_features\"] = xgb_entropy_all_features"
   ]
  },
  {
   "cell_type": "code",
   "execution_count": null,
   "metadata": {},
   "outputs": [],
   "source": [
    "d[\"random_forest_baseline_entropy_all_features\"] = random_forest_baseline_entropy_all_features"
   ]
  },
  {
   "cell_type": "code",
   "execution_count": null,
   "metadata": {},
   "outputs": [],
   "source": [
    "d[\"random_forest_entropy_all_features\"] = random_forest_entropy_all_features"
   ]
  },
  {
   "cell_type": "code",
   "execution_count": null,
   "metadata": {},
   "outputs": [],
   "source": [
    "d[\"dtc_entropy_all_features\"] = dtc_entropy_all_features\n",
    "d[\"dtc_gini_all_features\"] = dtc_gini_all_features\n",
    "d[\"sgdc_all_features\"] = sgdc_all_features\n",
    "d[\"boruta_dtc_entropy_rfe\"] = boruta_dtc_entropy_rfe\n",
    "d[\"boruta_dtc_gini_rfe\"] = boruta_dtc_gini_rfe\n",
    "d[\"boruta_sgdc_rfe\"] = boruta_sgdc_rfe\n",
    "d[\"decision_tree_entropy_features\"] = decision_tree_entropy_features\n",
    "d[\"decision_tree_gini_features\"] = decision_tree_gini_features\n",
    "d[\"mic_350_features\"] = mic_350_features"
   ]
  },
  {
   "cell_type": "code",
   "execution_count": 17,
   "metadata": {},
   "outputs": [
    {
     "ename": "NameError",
     "evalue": "name 'd' is not defined",
     "output_type": "error",
     "traceback": [
      "\u001b[0;31m---------------------------------------------------------------------------\u001b[0m",
      "\u001b[0;31mNameError\u001b[0m                                 Traceback (most recent call last)",
      "\u001b[0;32m<ipython-input-17-9cb23ec91af2>\u001b[0m in \u001b[0;36m<module>\u001b[0;34m\u001b[0m\n\u001b[1;32m      1\u001b[0m \u001b[0;32mimport\u001b[0m \u001b[0mpickle\u001b[0m\u001b[0;34m\u001b[0m\u001b[0;34m\u001b[0m\u001b[0m\n\u001b[1;32m      2\u001b[0m \u001b[0;32mwith\u001b[0m \u001b[0mopen\u001b[0m\u001b[0;34m(\u001b[0m\u001b[0;34m'feature_list_selections2.pkl'\u001b[0m\u001b[0;34m,\u001b[0m \u001b[0;34m'wb'\u001b[0m\u001b[0;34m)\u001b[0m \u001b[0;32mas\u001b[0m \u001b[0mf\u001b[0m\u001b[0;34m:\u001b[0m\u001b[0;34m\u001b[0m\u001b[0;34m\u001b[0m\u001b[0m\n\u001b[0;32m----> 3\u001b[0;31m     \u001b[0mpickle\u001b[0m\u001b[0;34m.\u001b[0m\u001b[0mdump\u001b[0m\u001b[0;34m(\u001b[0m\u001b[0md\u001b[0m\u001b[0;34m,\u001b[0m \u001b[0mf\u001b[0m\u001b[0;34m)\u001b[0m\u001b[0;34m\u001b[0m\u001b[0;34m\u001b[0m\u001b[0m\n\u001b[0m",
      "\u001b[0;31mNameError\u001b[0m: name 'd' is not defined"
     ]
    }
   ],
   "source": [
    "import pickle\n",
    "with open('feature_list_selections2.pkl', 'wb') as f:\n",
    "    pickle.dump(d, f)"
   ]
  },
  {
   "cell_type": "markdown",
   "metadata": {},
   "source": [
    "### Load selected features\n"
   ]
  },
  {
   "cell_type": "code",
   "execution_count": 20,
   "metadata": {},
   "outputs": [
    {
     "ename": "EOFError",
     "evalue": "Ran out of input",
     "output_type": "error",
     "traceback": [
      "\u001b[0;31m---------------------------------------------------------------------------\u001b[0m",
      "\u001b[0;31mEOFError\u001b[0m                                  Traceback (most recent call last)",
      "\u001b[0;32m<ipython-input-20-2348e1e4859c>\u001b[0m in \u001b[0;36m<module>\u001b[0;34m\u001b[0m\n\u001b[1;32m      1\u001b[0m \u001b[0;32mimport\u001b[0m \u001b[0mpickle\u001b[0m\u001b[0;34m\u001b[0m\u001b[0;34m\u001b[0m\u001b[0m\n\u001b[0;32m----> 2\u001b[0;31m \u001b[0mfeatures_subsets\u001b[0m \u001b[0;34m=\u001b[0m \u001b[0mpickle\u001b[0m\u001b[0;34m.\u001b[0m\u001b[0mload\u001b[0m\u001b[0;34m(\u001b[0m \u001b[0mopen\u001b[0m\u001b[0;34m(\u001b[0m \u001b[0;34m\"feature_list_selections2.pkl\"\u001b[0m\u001b[0;34m,\u001b[0m \u001b[0;34m\"rb\"\u001b[0m \u001b[0;34m)\u001b[0m \u001b[0;34m)\u001b[0m\u001b[0;34m\u001b[0m\u001b[0;34m\u001b[0m\u001b[0m\n\u001b[0m",
      "\u001b[0;31mEOFError\u001b[0m: Ran out of input"
     ]
    }
   ],
   "source": [
    "import pickle \n",
    "features_subsets = pickle.load( open( \"feature_list_selections2.pkl\", \"rb\" ) )"
   ]
  },
  {
   "cell_type": "code",
   "execution_count": 21,
   "metadata": {},
   "outputs": [
    {
     "ename": "NameError",
     "evalue": "name 'features_subsets' is not defined",
     "output_type": "error",
     "traceback": [
      "\u001b[0;31m---------------------------------------------------------------------------\u001b[0m",
      "\u001b[0;31mNameError\u001b[0m                                 Traceback (most recent call last)",
      "\u001b[0;32m<ipython-input-21-b3bbe3029fe8>\u001b[0m in \u001b[0;36m<module>\u001b[0;34m\u001b[0m\n\u001b[0;32m----> 1\u001b[0;31m \u001b[0mfeatures_subsets\u001b[0m\u001b[0;34m.\u001b[0m\u001b[0mkeys\u001b[0m\u001b[0;34m(\u001b[0m\u001b[0;34m)\u001b[0m\u001b[0;34m\u001b[0m\u001b[0;34m\u001b[0m\u001b[0m\n\u001b[0m\u001b[1;32m      2\u001b[0m \u001b[0;34m\u001b[0m\u001b[0m\n",
      "\u001b[0;31mNameError\u001b[0m: name 'features_subsets' is not defined"
     ]
    }
   ],
   "source": [
    "features_subsets.keys()\n",
    "\n"
   ]
  },
  {
   "cell_type": "code",
   "execution_count": 17,
   "metadata": {},
   "outputs": [
    {
     "data": {
      "text/plain": [
       "73"
      ]
     },
     "execution_count": 17,
     "metadata": {},
     "output_type": "execute_result"
    }
   ],
   "source": [
    "len(features_subsets[\"decision_tree_entropy_features\"])"
   ]
  },
  {
   "cell_type": "code",
   "execution_count": 18,
   "metadata": {},
   "outputs": [],
   "source": [
    "from collections import defaultdict\n",
    "features_dict = defaultdict(list)\n",
    "for k, features in features_subsets.items():\n",
    "    for feature in features:\n",
    "        features_dict[feature].append(k)    "
   ]
  },
  {
   "cell_type": "code",
   "execution_count": 19,
   "metadata": {},
   "outputs": [
    {
     "data": {
      "text/plain": [
       "746"
      ]
     },
     "execution_count": 19,
     "metadata": {},
     "output_type": "execute_result"
    }
   ],
   "source": [
    "len(features_dict.keys())"
   ]
  },
  {
   "cell_type": "code",
   "execution_count": 20,
   "metadata": {},
   "outputs": [],
   "source": [
    "def select_features_by_occurance_count(min_occurance_count, features_dict=features_dict):\n",
    "    selected = {}\n",
    "    for k, v in features_dict.items():\n",
    "        if len(v) > min_occurance_count:\n",
    "            selected[k] = v\n",
    "    return selected"
   ]
  },
  {
   "cell_type": "code",
   "execution_count": 21,
   "metadata": {},
   "outputs": [
    {
     "name": "stdout",
     "output_type": "stream",
     "text": [
      "5 ['2-edges_haralick_mean_AngularSecondMoment', '2-edges_mad_intensity', '2-memb_haralick_peak2peak_SumAverage', '2_haralick_peak2peak_Correlation', '2_haralick_peak2peak_SumVariance']\n"
     ]
    }
   ],
   "source": [
    "selected = select_features_by_occurance_count(9)\n",
    "print(len(selected), sorted(selected.keys()))\n"
   ]
  },
  {
   "cell_type": "code",
   "execution_count": 23,
   "metadata": {
    "collapsed": true,
    "jupyter": {
     "outputs_hidden": true
    }
   },
   "outputs": [
    {
     "name": "stdout",
     "output_type": "stream",
     "text": [
      "0-clahe_haralick_peak2peak_Entropy: 4\n",
      "0-clahe_median_intensity: 3\n",
      "0-clahe_moment_normalized_0_3_0: 6\n",
      "0-clahe_moment_normalized_2_1_3: 3\n",
      "0-clahe_std_intensity: 5\n",
      "0-edges_haralick_mean_Contrast: 7\n",
      "0-edges_moment_normalized_2_0_0: 5\n",
      "0-edges_moment_normalized_2_1_1: 3\n",
      "0-edges_moment_normalized_2_3_0: 2\n",
      "0-edges_moment_normalized_2_3_1: 2\n",
      "0-edges_moment_normalized_2_3_2: 2\n",
      "0-memb_haralick_mean_DifferenceVariance: 4\n",
      "0-memb_haralick_mean_Variance: 8\n",
      "0-memb_haralick_peak2peak_Entropy: 5\n",
      "0-memb_haralick_peak2peak_InfoMeas2: 4\n",
      "0-memb_mass_displace_in_majors: 6\n",
      "0-memb_moment_normalized_0_1_3: 2\n",
      "0-memb_moment_normalized_1_0_2: 2\n",
      "0-memb_moment_normalized_1_2_0: 1\n",
      "0-memb_moment_normalized_1_2_1: 1\n",
      "0-memb_moment_normalized_2_0_0: 3\n",
      "0-memb_moment_normalized_2_0_2: 5\n",
      "0-memb_moment_normalized_2_0_3: 5\n",
      "0-memb_moment_normalized_2_2_0: 5\n",
      "0-memb_moment_normalized_2_2_3: 1\n",
      "0_haralick_peak2peak_Entropy: 4\n",
      "0_haralick_peak2peak_SumEntropy: 7\n",
      "0_moment_normalized_2_0_0: 6\n",
      "0_moment_normalized_2_0_2: 5\n",
      "0_moment_normalized_2_1_3: 1\n",
      "0_moment_normalized_3_0_3: 3\n",
      "0_moment_normalized_3_3_3: 3\n",
      "2-clahe_haralick_mean_InfoMeas1: 5\n",
      "2-clahe_haralick_mean_SumEntropy: 5\n",
      "2-clahe_haralick_mean_SumVariance: 7\n",
      "2-clahe_haralick_peak2peak_DifferenceEntropy: 3\n",
      "2-clahe_haralick_peak2peak_SumVariance: 9\n",
      "2-clahe_haralick_peak2peak_Variance: 7\n",
      "2-clahe_mad_intensity: 5\n",
      "2-clahe_moment_normalized_0_1_2: 6\n",
      "2-clahe_moment_normalized_0_1_3: 4\n",
      "2-clahe_moment_normalized_0_2_1: 4\n",
      "2-clahe_moment_normalized_0_2_2: 9\n",
      "2-clahe_moment_normalized_2_0_0: 7\n",
      "2-clahe_moment_normalized_2_2_0: 4\n",
      "2-clahe_moment_normalized_3_0_0: 1\n",
      "2-clahe_perc_20_intensity: 5\n",
      "2-edges_haralick_mean_AngularSecondMoment: 10\n",
      "2-edges_haralick_mean_Correlation: 3\n",
      "2-edges_haralick_mean_DifferenceVariance: 6\n",
      "2-edges_haralick_mean_Entropy: 5\n",
      "2-edges_haralick_mean_InfoMeas1: 6\n",
      "2-edges_haralick_mean_InfoMeas2: 7\n",
      "2-edges_haralick_mean_InverseDifferenceMoment: 5\n",
      "2-edges_haralick_mean_Variance: 4\n",
      "2-edges_haralick_peak2peak_AngularSecondMoment: 6\n",
      "2-edges_haralick_peak2peak_Entropy: 5\n",
      "2-edges_haralick_peak2peak_InfoMeas1: 4\n",
      "2-edges_haralick_peak2peak_InfoMeas2: 4\n",
      "2-edges_haralick_peak2peak_Variance: 7\n",
      "2-edges_mad_intensity: 10\n",
      "2-edges_mass_displace_in_diameters: 3\n",
      "2-edges_mass_displace_in_majors: 5\n",
      "2-edges_median_intensity: 6\n",
      "2-edges_moment_normalized_0_0_2: 6\n",
      "2-edges_moment_normalized_0_1_1: 3\n",
      "2-edges_moment_normalized_2_0_0: 6\n",
      "2-edges_moment_normalized_2_1_0: 2\n",
      "2-edges_moment_normalized_2_1_1: 2\n",
      "2-edges_perc_40_intensity: 4\n",
      "2-edges_std_intensity: 7\n",
      "2-memb_haralick_mean_Correlation: 6\n",
      "2-memb_haralick_mean_Entropy: 7\n",
      "2-memb_haralick_peak2peak_Correlation: 4\n",
      "2-memb_haralick_peak2peak_InverseDifferenceMoment: 5\n",
      "2-memb_haralick_peak2peak_SumAverage: 10\n",
      "2-memb_moment_normalized_0_0_2: 7\n",
      "2-memb_moment_normalized_0_1_2: 5\n",
      "2-memb_moment_normalized_0_2_1: 8\n",
      "2-memb_moment_normalized_0_2_2: 7\n",
      "2-memb_moment_normalized_1_2_0: 5\n",
      "2-memb_moment_normalized_1_2_3: 8\n",
      "2-memb_moment_normalized_2_0_0: 6\n",
      "2-memb_moment_normalized_2_2_1: 7\n",
      "2-memb_moment_normalized_3_0_2: 5\n",
      "2-memb_moment_normalized_3_2_0: 4\n",
      "2-memb_moment_normalized_3_2_2: 7\n",
      "2-memb_std_intensity: 7\n",
      "2_haralick_mean_DifferenceEntropy: 9\n",
      "2_haralick_mean_Entropy: 8\n",
      "2_haralick_mean_InfoMeas1: 7\n",
      "2_haralick_mean_SumEntropy: 6\n",
      "2_haralick_peak2peak_Correlation: 10\n",
      "2_haralick_peak2peak_DifferenceEntropy: 8\n",
      "2_haralick_peak2peak_InverseDifferenceMoment: 6\n",
      "2_haralick_peak2peak_SumVariance: 10\n",
      "2_mad_intensity: 5\n",
      "2_mass_displace_in_majors: 7\n",
      "2_moment_normalized_0_2_1: 7\n",
      "2_moment_normalized_0_3_0: 5\n",
      "2_moment_normalized_2_0_0: 9\n",
      "2_perc_10_intensity: 4\n",
      "2_std_intensity: 7\n",
      "area: 5\n",
      "0-clahe_haralick_mean_DifferenceVariance: 3\n",
      "0-clahe_haralick_mean_Entropy: 3\n",
      "0-clahe_haralick_mean_InfoMeas2: 3\n",
      "0-clahe_haralick_peak2peak_Contrast: 4\n",
      "0-clahe_moment_normalized_0_1_2: 4\n",
      "0-clahe_moment_normalized_1_1_0: 4\n",
      "0-clahe_moment_normalized_2_0_2: 5\n",
      "0-clahe_moment_normalized_2_2_0: 5\n",
      "0-clahe_moment_normalized_2_2_2: 4\n",
      "0-edges_haralick_mean_DifferenceEntropy: 6\n",
      "0-edges_haralick_mean_InfoMeas1: 4\n",
      "0-edges_haralick_mean_InfoMeas2: 5\n",
      "0-edges_haralick_mean_SumEntropy: 4\n",
      "0-edges_haralick_peak2peak_AngularSecondMoment: 6\n",
      "0-edges_haralick_peak2peak_Contrast: 6\n",
      "0-edges_haralick_peak2peak_Correlation: 6\n",
      "0-edges_haralick_peak2peak_DifferenceVariance: 7\n",
      "0-edges_haralick_peak2peak_InfoMeas1: 6\n",
      "0-edges_haralick_peak2peak_InfoMeas2: 4\n",
      "0-edges_haralick_peak2peak_SumEntropy: 5\n",
      "0-edges_haralick_peak2peak_SumVariance: 6\n",
      "0-edges_haralick_peak2peak_Variance: 6\n",
      "0-edges_mass_displace_in_majors: 6\n",
      "0-edges_moment_normalized_0_1_2: 4\n",
      "0-edges_moment_normalized_0_3_2: 3\n",
      "0-edges_std_intensity: 3\n",
      "0-memb_haralick_mean_Contrast: 6\n",
      "0-memb_haralick_mean_Correlation: 6\n",
      "0-memb_haralick_mean_InfoMeas2: 8\n",
      "0-memb_haralick_mean_SumEntropy: 4\n",
      "0-memb_haralick_mean_SumVariance: 7\n",
      "0-memb_haralick_peak2peak_DifferenceVariance: 5\n",
      "0-memb_haralick_peak2peak_InverseDifferenceMoment: 3\n",
      "0-memb_haralick_peak2peak_Variance: 7\n",
      "0-memb_mad_intensity: 4\n",
      "0-memb_mass_displace_in_diameters: 5\n",
      "0-memb_moment_normalized_0_0_2: 6\n",
      "0-memb_moment_normalized_0_1_2: 2\n",
      "0-memb_moment_normalized_0_2_0: 3\n",
      "0-memb_moment_normalized_0_2_1: 5\n",
      "0-memb_moment_normalized_0_2_2: 4\n",
      "0-memb_moment_normalized_0_2_3: 5\n",
      "0-memb_moment_normalized_0_3_0: 5\n",
      "0-memb_moment_normalized_0_3_2: 2\n",
      "0-memb_moment_normalized_2_2_2: 2\n",
      "0-memb_perc_10_intensity: 4\n",
      "0-memb_perc_20_intensity: 4\n",
      "0-memb_perc_60_intensity: 4\n",
      "0-memb_perc_70_intensity: 4\n",
      "0-memb_perc_75_intensity: 4\n",
      "0-memb_perc_80_intensity: 5\n",
      "0-memb_perc_90_intensity: 5\n",
      "0-memb_std_intensity: 5\n",
      "0_haralick_mean_DifferenceEntropy: 4\n",
      "0_haralick_mean_DifferenceVariance: 4\n",
      "0_haralick_mean_InfoMeas1: 4\n",
      "0_haralick_mean_InfoMeas2: 6\n",
      "0_haralick_mean_Variance: 4\n",
      "0_haralick_peak2peak_Contrast: 5\n",
      "0_haralick_peak2peak_DifferenceVariance: 2\n",
      "0_mass_displace_in_diameters: 3\n",
      "0_mass_displace_in_majors: 3\n",
      "0_moment_normalized_0_2_0: 2\n",
      "0_moment_normalized_0_3_0: 2\n",
      "0_moment_normalized_1_2_2: 2\n",
      "0_moment_normalized_2_2_0: 3\n",
      "0_moment_normalized_2_2_2: 2\n",
      "2-clahe_haralick_mean_Correlation: 3\n",
      "2-clahe_haralick_mean_DifferenceEntropy: 4\n",
      "2-clahe_haralick_mean_DifferenceVariance: 4\n",
      "2-clahe_haralick_mean_Entropy: 5\n",
      "2-clahe_haralick_mean_InfoMeas2: 6\n",
      "2-clahe_haralick_mean_InverseDifferenceMoment: 3\n",
      "2-clahe_haralick_mean_SumAverage: 6\n",
      "2-clahe_haralick_mean_Variance: 4\n",
      "2-clahe_haralick_peak2peak_AngularSecondMoment: 3\n",
      "2-clahe_haralick_peak2peak_Contrast: 8\n",
      "2-clahe_haralick_peak2peak_Correlation: 2\n",
      "2-clahe_haralick_peak2peak_DifferenceVariance: 3\n",
      "2-clahe_haralick_peak2peak_Entropy: 3\n",
      "2-clahe_haralick_peak2peak_InfoMeas1: 3\n",
      "2-clahe_haralick_peak2peak_InfoMeas2: 3\n",
      "2-clahe_haralick_peak2peak_InverseDifferenceMoment: 2\n",
      "2-clahe_haralick_peak2peak_SumAverage: 5\n",
      "2-clahe_haralick_peak2peak_SumEntropy: 2\n",
      "2-clahe_mass_displace_in_diameters: 2\n",
      "2-clahe_mass_displace_in_majors: 2\n",
      "2-clahe_mean_intensity: 3\n",
      "2-clahe_median_intensity: 3\n",
      "2-clahe_moment_normalized_0_0_2: 3\n",
      "2-clahe_moment_normalized_0_0_3: 3\n",
      "2-clahe_moment_normalized_0_1_1: 2\n",
      "2-clahe_moment_normalized_0_2_0: 3\n",
      "2-clahe_moment_normalized_0_2_3: 3\n",
      "2-clahe_moment_normalized_0_3_0: 2\n",
      "2-clahe_moment_normalized_0_3_2: 5\n",
      "2-clahe_moment_normalized_1_1_0: 2\n",
      "2-clahe_moment_normalized_1_3_1: 3\n",
      "2-clahe_moment_normalized_1_3_2: 3\n",
      "2-clahe_moment_normalized_2_0_2: 4\n",
      "2-clahe_moment_normalized_2_1_1: 3\n",
      "2-clahe_moment_normalized_2_2_2: 5\n",
      "2-clahe_perc_25_intensity: 3\n",
      "2-clahe_perc_30_intensity: 3\n",
      "2-clahe_perc_40_intensity: 6\n",
      "2-clahe_perc_50_intensity: 3\n",
      "2-clahe_perc_60_intensity: 3\n",
      "2-clahe_perc_70_intensity: 3\n",
      "2-clahe_perc_75_intensity: 3\n",
      "2-clahe_perc_80_intensity: 3\n",
      "2-clahe_perc_90_intensity: 5\n",
      "2-clahe_std_intensity: 3\n",
      "2-edges_haralick_mean_Contrast: 5\n",
      "2-edges_haralick_mean_DifferenceEntropy: 4\n",
      "2-edges_haralick_mean_SumAverage: 5\n",
      "2-edges_haralick_mean_SumEntropy: 5\n",
      "2-edges_haralick_mean_SumVariance: 6\n",
      "2-edges_haralick_peak2peak_Contrast: 8\n",
      "2-edges_haralick_peak2peak_Correlation: 2\n",
      "2-edges_haralick_peak2peak_DifferenceEntropy: 6\n",
      "2-edges_haralick_peak2peak_InverseDifferenceMoment: 3\n",
      "2-edges_haralick_peak2peak_SumAverage: 3\n",
      "2-edges_haralick_peak2peak_SumEntropy: 2\n",
      "2-edges_haralick_peak2peak_SumVariance: 3\n",
      "2-edges_mean_intensity: 3\n",
      "2-edges_moment_normalized_0_0_3: 3\n",
      "2-edges_moment_normalized_0_1_2: 3\n",
      "2-edges_moment_normalized_0_1_3: 3\n",
      "2-edges_moment_normalized_0_2_0: 4\n",
      "2-edges_moment_normalized_0_2_1: 3\n",
      "2-edges_moment_normalized_0_2_2: 7\n",
      "2-edges_moment_normalized_0_2_3: 3\n",
      "2-edges_moment_normalized_0_3_0: 3\n",
      "2-edges_moment_normalized_0_3_1: 4\n",
      "2-edges_moment_normalized_0_3_2: 4\n",
      "2-edges_moment_normalized_0_3_3: 4\n",
      "2-edges_moment_normalized_1_0_2: 3\n",
      "2-edges_moment_normalized_1_2_0: 4\n",
      "2-edges_moment_normalized_1_2_1: 3\n",
      "2-edges_moment_normalized_1_3_0: 3\n",
      "2-edges_moment_normalized_1_3_1: 4\n",
      "2-edges_moment_normalized_1_3_2: 3\n",
      "2-edges_moment_normalized_1_3_3: 4\n",
      "2-edges_moment_normalized_2_0_3: 4\n",
      "2-edges_moment_normalized_2_2_2: 5\n",
      "2-edges_moment_normalized_3_0_0: 4\n",
      "2-edges_moment_normalized_3_1_3: 4\n",
      "2-edges_moment_normalized_3_2_0: 3\n",
      "2-edges_moment_normalized_3_2_3: 3\n",
      "2-edges_moment_normalized_3_3_1: 4\n",
      "2-edges_moment_normalized_3_3_3: 3\n",
      "2-edges_perc_10_intensity: 5\n",
      "2-edges_perc_25_intensity: 3\n",
      "2-edges_perc_30_intensity: 3\n",
      "2-edges_perc_50_intensity: 5\n",
      "2-edges_perc_60_intensity: 5\n",
      "2-edges_perc_70_intensity: 3\n",
      "2-edges_perc_75_intensity: 4\n",
      "2-edges_perc_80_intensity: 3\n",
      "2-edges_perc_90_intensity: 4\n",
      "2-memb_haralick_mean_AngularSecondMoment: 5\n",
      "2-memb_haralick_mean_DifferenceVariance: 4\n",
      "2-memb_haralick_mean_InfoMeas1: 8\n",
      "2-memb_haralick_mean_InverseDifferenceMoment: 5\n",
      "2-memb_haralick_mean_SumEntropy: 5\n",
      "2-memb_haralick_mean_SumVariance: 5\n",
      "2-memb_haralick_mean_Variance: 8\n",
      "2-memb_haralick_peak2peak_AngularSecondMoment: 5\n",
      "2-memb_haralick_peak2peak_Contrast: 8\n",
      "2-memb_haralick_peak2peak_DifferenceEntropy: 5\n",
      "2-memb_haralick_peak2peak_DifferenceVariance: 8\n",
      "2-memb_haralick_peak2peak_SumVariance: 7\n",
      "2-memb_haralick_peak2peak_Variance: 6\n",
      "2-memb_mad_intensity: 6\n",
      "2-memb_mass_displace_in_diameters: 6\n",
      "2-memb_median_intensity: 7\n",
      "2-memb_moment_normalized_0_0_3: 3\n",
      "2-memb_moment_normalized_0_1_1: 3\n",
      "2-memb_moment_normalized_0_1_3: 4\n",
      "2-memb_moment_normalized_0_2_0: 6\n",
      "2-memb_moment_normalized_0_2_3: 4\n",
      "2-memb_moment_normalized_0_3_1: 6\n",
      "2-memb_moment_normalized_0_3_2: 4\n",
      "2-memb_moment_normalized_0_3_3: 4\n",
      "2-memb_moment_normalized_1_0_2: 3\n",
      "2-memb_moment_normalized_1_2_1: 5\n",
      "2-memb_moment_normalized_2_0_1: 4\n",
      "2-memb_moment_normalized_3_0_0: 4\n",
      "2-memb_moment_normalized_3_3_1: 6\n",
      "2-memb_perc_25_intensity: 7\n",
      "2-memb_perc_30_intensity: 7\n",
      "2-memb_perc_40_intensity: 6\n",
      "2-memb_perc_50_intensity: 6\n",
      "2-memb_perc_60_intensity: 6\n",
      "2-memb_perc_70_intensity: 5\n",
      "2-memb_perc_75_intensity: 6\n",
      "2-memb_perc_90_intensity: 6\n",
      "2_haralick_mean_AngularSecondMoment: 5\n",
      "2_haralick_mean_Contrast: 8\n",
      "2_haralick_mean_Correlation: 8\n",
      "2_haralick_mean_DifferenceVariance: 6\n",
      "2_haralick_mean_InfoMeas2: 6\n",
      "2_haralick_mean_InverseDifferenceMoment: 6\n",
      "2_haralick_mean_SumAverage: 8\n",
      "2_haralick_mean_SumVariance: 6\n",
      "2_haralick_mean_Variance: 8\n",
      "2_haralick_peak2peak_AngularSecondMoment: 6\n",
      "2_haralick_peak2peak_Entropy: 6\n",
      "2_haralick_peak2peak_InfoMeas1: 8\n",
      "2_haralick_peak2peak_InfoMeas2: 5\n",
      "2_haralick_peak2peak_Variance: 6\n",
      "2_mass_displace_in_diameters: 4\n",
      "2_mean_intensity: 5\n",
      "2_moment_normalized_0_0_3: 6\n",
      "2_moment_normalized_0_1_1: 5\n",
      "2_moment_normalized_0_1_2: 5\n",
      "2_moment_normalized_0_2_0: 5\n",
      "2_moment_normalized_0_2_2: 7\n",
      "2_moment_normalized_0_2_3: 5\n",
      "2_moment_normalized_0_3_1: 4\n",
      "2_moment_normalized_0_3_3: 4\n",
      "2_moment_normalized_1_2_0: 6\n",
      "2_moment_normalized_1_3_0: 4\n",
      "2_moment_normalized_3_0_0: 4\n",
      "2_perc_50_intensity: 4\n",
      "2_perc_60_intensity: 5\n",
      "2_perc_70_intensity: 4\n",
      "2_perc_75_intensity: 3\n",
      "2_perc_80_intensity: 4\n",
      "2_perc_90_intensity: 3\n",
      "inertia_length_0: 2\n",
      "inertia_length_1: 3\n",
      "second_major_diff: 2\n",
      "solidity: 2\n",
      "0-clahe_haralick_peak2peak_DifferenceVariance: 3\n",
      "0-clahe_haralick_peak2peak_InfoMeas1: 2\n",
      "0-clahe_haralick_peak2peak_InfoMeas2: 2\n",
      "0-clahe_haralick_peak2peak_InverseDifferenceMoment: 2\n",
      "0-clahe_haralick_peak2peak_SumAverage: 4\n",
      "0-clahe_haralick_peak2peak_SumEntropy: 3\n",
      "0-clahe_haralick_peak2peak_SumVariance: 3\n",
      "0-clahe_haralick_peak2peak_Variance: 4\n",
      "0-clahe_mad_intensity: 3\n",
      "0-clahe_mass_displace_in_diameters: 2\n",
      "0-clahe_mass_displace_in_majors: 2\n",
      "0-clahe_mean_intensity: 2\n",
      "0-clahe_moment_normalized_0_0_2: 2\n",
      "0-clahe_moment_normalized_0_0_3: 2\n",
      "0-clahe_moment_normalized_0_1_1: 2\n",
      "0-clahe_moment_normalized_0_1_3: 2\n",
      "0-clahe_moment_normalized_0_2_0: 2\n",
      "0-clahe_moment_normalized_0_2_1: 2\n",
      "0-clahe_moment_normalized_0_2_2: 2\n",
      "0-clahe_moment_normalized_0_2_3: 2\n",
      "0-clahe_moment_normalized_0_3_1: 2\n",
      "0-clahe_moment_normalized_0_3_2: 4\n",
      "0-clahe_moment_normalized_0_3_3: 2\n",
      "0-clahe_moment_normalized_1_0_1: 2\n",
      "0-clahe_moment_normalized_1_0_2: 3\n",
      "0-clahe_moment_normalized_1_0_3: 2\n",
      "0-clahe_moment_normalized_1_1_1: 2\n",
      "0-clahe_moment_normalized_1_1_2: 2\n",
      "0-clahe_moment_normalized_1_1_3: 3\n",
      "0-clahe_moment_normalized_1_2_0: 2\n",
      "0-clahe_moment_normalized_1_2_1: 2\n",
      "0-clahe_moment_normalized_1_2_2: 2\n",
      "0-clahe_moment_normalized_1_2_3: 2\n",
      "0-clahe_moment_normalized_1_3_0: 2\n",
      "0-clahe_moment_normalized_1_3_1: 2\n",
      "0-clahe_moment_normalized_1_3_2: 3\n",
      "0-clahe_moment_normalized_1_3_3: 2\n",
      "0-clahe_moment_normalized_2_0_0: 4\n",
      "0-clahe_moment_normalized_2_0_1: 2\n",
      "0-clahe_moment_normalized_2_0_3: 2\n",
      "0-clahe_moment_normalized_2_1_0: 3\n",
      "0-clahe_moment_normalized_2_1_1: 2\n",
      "0-clahe_moment_normalized_2_1_2: 2\n",
      "0-clahe_moment_normalized_2_2_1: 2\n",
      "0-clahe_moment_normalized_2_2_3: 2\n",
      "0-clahe_moment_normalized_2_3_0: 2\n",
      "0-clahe_moment_normalized_2_3_1: 2\n",
      "0-clahe_moment_normalized_2_3_2: 3\n",
      "0-clahe_moment_normalized_2_3_3: 2\n",
      "0-clahe_moment_normalized_3_0_0: 2\n",
      "0-clahe_moment_normalized_3_0_1: 4\n",
      "0-clahe_moment_normalized_3_0_2: 5\n",
      "0-clahe_moment_normalized_3_0_3: 2\n",
      "0-clahe_moment_normalized_3_1_0: 2\n",
      "0-clahe_moment_normalized_3_1_1: 2\n",
      "0-clahe_moment_normalized_3_1_2: 2\n",
      "0-clahe_moment_normalized_3_1_3: 2\n",
      "0-clahe_moment_normalized_3_2_0: 2\n",
      "0-clahe_moment_normalized_3_2_1: 3\n",
      "0-clahe_moment_normalized_3_2_2: 2\n",
      "0-clahe_moment_normalized_3_2_3: 2\n",
      "0-clahe_moment_normalized_3_3_0: 2\n",
      "0-clahe_moment_normalized_3_3_1: 2\n",
      "0-clahe_moment_normalized_3_3_2: 2\n",
      "0-clahe_moment_normalized_3_3_3: 2\n",
      "0-clahe_perc_10_intensity: 2\n",
      "0-clahe_perc_20_intensity: 2\n",
      "0-clahe_perc_25_intensity: 2\n",
      "0-clahe_perc_30_intensity: 2\n",
      "0-clahe_perc_40_intensity: 2\n",
      "0-clahe_perc_50_intensity: 2\n",
      "0-clahe_perc_60_intensity: 3\n",
      "0-clahe_perc_70_intensity: 2\n",
      "0-clahe_perc_75_intensity: 2\n",
      "0-clahe_perc_80_intensity: 2\n",
      "0-clahe_perc_90_intensity: 2\n",
      "0-edges_haralick_mean_AngularSecondMoment: 5\n",
      "0-edges_haralick_mean_Correlation: 4\n",
      "0-edges_haralick_mean_DifferenceVariance: 4\n",
      "0-edges_haralick_mean_Entropy: 2\n",
      "0-edges_haralick_mean_InverseDifferenceMoment: 4\n",
      "0-edges_haralick_mean_SumAverage: 2\n",
      "0-edges_haralick_mean_SumVariance: 6\n",
      "0-edges_haralick_mean_Variance: 6\n",
      "0-edges_haralick_peak2peak_DifferenceEntropy: 2\n",
      "0-edges_haralick_peak2peak_Entropy: 5\n",
      "0-edges_haralick_peak2peak_InverseDifferenceMoment: 2\n",
      "0-edges_haralick_peak2peak_SumAverage: 3\n",
      "0-edges_mad_intensity: 2\n",
      "0-edges_mass_displace_in_diameters: 3\n",
      "0-edges_mean_intensity: 4\n",
      "0-edges_median_intensity: 2\n",
      "0-edges_moment_normalized_0_0_2: 2\n",
      "0-edges_moment_normalized_0_0_3: 2\n",
      "0-edges_moment_normalized_0_1_1: 2\n",
      "0-edges_moment_normalized_0_1_3: 2\n",
      "0-edges_moment_normalized_0_2_0: 2\n",
      "0-edges_moment_normalized_0_2_1: 1\n",
      "0-edges_moment_normalized_0_2_2: 1\n",
      "0-edges_moment_normalized_0_2_3: 2\n",
      "0-edges_moment_normalized_0_3_0: 1\n",
      "0-edges_moment_normalized_0_3_1: 1\n",
      "0-edges_moment_normalized_0_3_3: 1\n",
      "0-edges_moment_normalized_1_0_1: 1\n",
      "0-edges_moment_normalized_1_0_2: 2\n",
      "0-edges_moment_normalized_1_0_3: 2\n",
      "0-edges_moment_normalized_1_1_0: 2\n",
      "0-edges_moment_normalized_1_1_1: 2\n",
      "0-edges_moment_normalized_1_1_2: 2\n",
      "0-edges_moment_normalized_1_1_3: 1\n",
      "0-edges_moment_normalized_1_2_0: 2\n",
      "0-edges_moment_normalized_1_2_1: 1\n",
      "0-edges_moment_normalized_1_2_2: 2\n",
      "0-edges_moment_normalized_1_2_3: 2\n",
      "0-edges_moment_normalized_1_3_0: 1\n",
      "0-edges_moment_normalized_1_3_1: 1\n",
      "0-edges_moment_normalized_1_3_2: 1\n",
      "0-edges_moment_normalized_1_3_3: 2\n",
      "0-edges_moment_normalized_2_0_1: 1\n",
      "0-edges_moment_normalized_2_0_2: 1\n",
      "0-edges_moment_normalized_2_0_3: 1\n",
      "0-edges_moment_normalized_2_1_0: 1\n",
      "0-edges_moment_normalized_2_1_2: 1\n",
      "0-edges_moment_normalized_2_1_3: 1\n",
      "0-edges_moment_normalized_2_2_0: 5\n",
      "0-edges_moment_normalized_2_2_1: 1\n",
      "0-edges_moment_normalized_2_2_2: 1\n",
      "0-edges_moment_normalized_2_2_3: 1\n",
      "0-edges_moment_normalized_2_3_3: 1\n",
      "0-edges_moment_normalized_3_0_0: 1\n",
      "0-edges_moment_normalized_3_0_1: 3\n",
      "0-edges_moment_normalized_3_0_2: 1\n",
      "0-edges_moment_normalized_3_0_3: 1\n",
      "0-edges_moment_normalized_3_1_0: 1\n",
      "0-edges_moment_normalized_3_1_1: 1\n",
      "0-edges_moment_normalized_3_1_2: 2\n",
      "0-edges_moment_normalized_3_1_3: 1\n",
      "0-edges_moment_normalized_3_2_0: 1\n",
      "0-edges_moment_normalized_3_2_1: 1\n",
      "0-edges_moment_normalized_3_2_2: 1\n",
      "0-edges_moment_normalized_3_2_3: 1\n",
      "0-edges_moment_normalized_3_3_0: 1\n",
      "0-edges_moment_normalized_3_3_1: 1\n",
      "0-edges_moment_normalized_3_3_2: 1\n",
      "0-edges_moment_normalized_3_3_3: 1\n",
      "0-edges_perc_10_intensity: 1\n",
      "0-edges_perc_20_intensity: 1\n",
      "0-edges_perc_25_intensity: 1\n",
      "0-edges_perc_30_intensity: 1\n",
      "0-edges_perc_40_intensity: 2\n",
      "0-edges_perc_50_intensity: 1\n",
      "0-edges_perc_60_intensity: 3\n",
      "0-edges_perc_75_intensity: 3\n",
      "0-edges_perc_80_intensity: 1\n",
      "0-edges_perc_90_intensity: 4\n",
      "0-memb_haralick_mean_AngularSecondMoment: 1\n",
      "0-memb_haralick_mean_DifferenceEntropy: 3\n",
      "0-memb_haralick_mean_Entropy: 1\n",
      "0-memb_haralick_mean_InfoMeas1: 4\n",
      "0-memb_haralick_mean_InverseDifferenceMoment: 4\n",
      "0-memb_haralick_mean_SumAverage: 5\n",
      "0-memb_haralick_peak2peak_AngularSecondMoment: 4\n",
      "0-memb_haralick_peak2peak_Correlation: 3\n",
      "0-memb_haralick_peak2peak_DifferenceEntropy: 2\n",
      "0-memb_haralick_peak2peak_InfoMeas1: 3\n",
      "0-memb_haralick_peak2peak_SumEntropy: 1\n",
      "0-memb_haralick_peak2peak_SumVariance: 5\n",
      "0-memb_mean_intensity: 3\n",
      "0-memb_moment_normalized_0_0_3: 1\n",
      "0-memb_moment_normalized_0_1_1: 1\n",
      "0-memb_moment_normalized_0_3_1: 1\n",
      "0-memb_moment_normalized_0_3_3: 1\n",
      "0-memb_moment_normalized_1_0_1: 4\n",
      "0-memb_moment_normalized_1_0_3: 1\n",
      "0-memb_moment_normalized_1_1_0: 1\n",
      "0-memb_moment_normalized_1_1_1: 1\n",
      "0-memb_moment_normalized_1_1_2: 1\n",
      "0_haralick_peak2peak_DifferenceEntropy: 2\n",
      "0_moment_normalized_1_3_1: 2\n",
      "2-memb_moment_normalized_1_1_0: 2\n",
      "2-memb_moment_normalized_1_1_1: 3\n",
      "2-memb_moment_normalized_1_1_2: 3\n",
      "2-memb_moment_normalized_1_1_3: 3\n",
      "2-memb_moment_normalized_1_2_2: 4\n",
      "2-memb_moment_normalized_1_3_0: 3\n",
      "2-memb_moment_normalized_1_3_1: 3\n",
      "2-memb_moment_normalized_1_3_2: 3\n",
      "2-memb_moment_normalized_1_3_3: 3\n",
      "2-memb_moment_normalized_2_0_2: 3\n",
      "2-memb_moment_normalized_2_0_3: 3\n",
      "2-memb_moment_normalized_2_1_0: 2\n",
      "2-memb_moment_normalized_2_1_1: 3\n",
      "2-memb_moment_normalized_2_1_2: 3\n",
      "2-memb_moment_normalized_2_1_3: 3\n",
      "2-memb_moment_normalized_2_2_0: 3\n",
      "2-memb_moment_normalized_2_2_2: 6\n",
      "2-memb_moment_normalized_2_2_3: 3\n",
      "2-memb_moment_normalized_2_3_0: 3\n",
      "2-memb_moment_normalized_2_3_1: 3\n",
      "2-memb_moment_normalized_2_3_2: 3\n",
      "2-memb_moment_normalized_2_3_3: 4\n",
      "2-memb_moment_normalized_3_0_1: 3\n",
      "2-memb_moment_normalized_3_0_3: 3\n",
      "2-memb_moment_normalized_3_1_0: 4\n",
      "2-memb_moment_normalized_3_1_1: 3\n",
      "2-memb_moment_normalized_3_1_2: 3\n",
      "2-memb_moment_normalized_3_1_3: 3\n",
      "2-memb_moment_normalized_3_2_1: 3\n",
      "2-memb_moment_normalized_3_2_3: 3\n",
      "2-memb_moment_normalized_3_3_0: 3\n",
      "2-memb_moment_normalized_3_3_2: 3\n",
      "2-memb_moment_normalized_3_3_3: 3\n",
      "2-memb_perc_10_intensity: 6\n",
      "2-memb_perc_20_intensity: 5\n",
      "2-memb_perc_80_intensity: 4\n",
      "2_haralick_peak2peak_Contrast: 6\n",
      "2_haralick_peak2peak_DifferenceVariance: 4\n",
      "2_haralick_peak2peak_SumAverage: 4\n",
      "2_haralick_peak2peak_SumEntropy: 1\n",
      "2_median_intensity: 3\n",
      "2_moment_normalized_0_0_2: 4\n",
      "2_moment_normalized_0_1_3: 2\n",
      "2_moment_normalized_0_3_2: 2\n",
      "2_moment_normalized_1_0_1: 1\n",
      "2_moment_normalized_1_0_2: 2\n",
      "2_moment_normalized_1_0_3: 2\n",
      "2_moment_normalized_1_1_0: 1\n",
      "2_moment_normalized_1_1_1: 4\n",
      "2_moment_normalized_1_1_2: 3\n",
      "2_moment_normalized_1_1_3: 2\n",
      "2_moment_normalized_1_2_1: 2\n",
      "2_moment_normalized_1_2_2: 2\n",
      "2_moment_normalized_1_2_3: 2\n",
      "2_moment_normalized_1_3_1: 2\n",
      "2_moment_normalized_1_3_2: 2\n",
      "2_moment_normalized_1_3_3: 3\n",
      "2_moment_normalized_2_0_1: 2\n",
      "2_moment_normalized_2_0_2: 3\n",
      "2_moment_normalized_2_0_3: 3\n",
      "2_moment_normalized_2_1_0: 1\n",
      "2_moment_normalized_2_1_1: 2\n",
      "2_moment_normalized_2_1_2: 2\n",
      "2_moment_normalized_2_1_3: 2\n",
      "2_moment_normalized_2_2_0: 7\n",
      "2_moment_normalized_2_2_1: 2\n",
      "inertia_length_2: 2\n",
      "0-clahe_haralick_mean_Contrast: 3\n",
      "0-clahe_haralick_mean_Correlation: 1\n",
      "0-clahe_haralick_mean_DifferenceEntropy: 2\n",
      "0-clahe_haralick_mean_InfoMeas1: 1\n",
      "0-clahe_haralick_mean_InverseDifferenceMoment: 1\n",
      "0-clahe_haralick_mean_SumAverage: 1\n",
      "0-clahe_haralick_mean_SumEntropy: 1\n",
      "0-clahe_haralick_mean_SumVariance: 1\n",
      "0-clahe_haralick_mean_Variance: 1\n",
      "0-clahe_haralick_peak2peak_AngularSecondMoment: 1\n",
      "0-clahe_haralick_peak2peak_Correlation: 1\n",
      "0-clahe_haralick_peak2peak_DifferenceEntropy: 1\n",
      "0-memb_moment_normalized_1_3_3: 1\n",
      "0-memb_moment_normalized_2_3_0: 2\n",
      "0-memb_moment_normalized_3_0_2: 2\n",
      "0-memb_moment_normalized_3_0_3: 2\n",
      "0-memb_moment_normalized_3_2_1: 4\n",
      "0_haralick_mean_InverseDifferenceMoment: 2\n",
      "0_haralick_peak2peak_Correlation: 2\n",
      "0_moment_normalized_3_2_2: 1\n",
      "0_moment_normalized_3_2_3: 1\n",
      "0_moment_normalized_3_3_1: 1\n",
      "2-clahe_moment_normalized_2_3_2: 3\n",
      "2-clahe_moment_normalized_3_2_2: 3\n",
      "2-clahe_perc_10_intensity: 3\n",
      "2-edges_moment_normalized_1_2_2: 2\n",
      "2-memb_haralick_peak2peak_Entropy: 4\n",
      "2-memb_haralick_peak2peak_InfoMeas1: 2\n",
      "2-memb_haralick_peak2peak_InfoMeas2: 3\n",
      "2-memb_haralick_peak2peak_SumEntropy: 2\n",
      "2-memb_mass_displace_in_majors: 3\n",
      "2-memb_mean_intensity: 4\n",
      "2-memb_moment_normalized_0_3_0: 1\n",
      "2-memb_moment_normalized_1_0_1: 1\n",
      "2-memb_moment_normalized_1_0_3: 2\n",
      "2_moment_normalized_3_1_2: 2\n",
      "2_moment_normalized_3_3_0: 2\n",
      "2_moment_normalized_3_3_1: 2\n",
      "2_moment_normalized_3_3_2: 2\n",
      "2_moment_normalized_3_3_3: 2\n",
      "2_perc_30_intensity: 3\n",
      "first_major_diff: 2\n",
      "0_haralick_mean_Contrast: 3\n",
      "0_haralick_peak2peak_SumVariance: 3\n",
      "2-edges_moment_normalized_2_0_2: 3\n",
      "2-edges_moment_normalized_2_2_0: 3\n",
      "2-memb_haralick_mean_Contrast: 5\n",
      "2-memb_haralick_mean_SumAverage: 4\n",
      "volume_um: 2\n",
      "0-edges_perc_70_intensity: 2\n",
      "0-memb_haralick_peak2peak_Contrast: 3\n",
      "0-memb_haralick_peak2peak_SumAverage: 2\n",
      "0-memb_median_intensity: 2\n",
      "0-memb_moment_normalized_2_0_1: 2\n",
      "0-memb_moment_normalized_3_0_1: 2\n",
      "0-memb_moment_normalized_3_1_1: 3\n",
      "0-memb_perc_25_intensity: 2\n",
      "0-memb_perc_30_intensity: 2\n",
      "0-memb_perc_40_intensity: 2\n",
      "0-memb_perc_50_intensity: 2\n",
      "0_haralick_peak2peak_InfoMeas2: 2\n",
      "0_moment_normalized_0_1_1: 1\n",
      "0_haralick_mean_SumAverage: 1\n",
      "0_haralick_mean_SumVariance: 2\n",
      "0_mean_intensity: 1\n",
      "0_moment_normalized_0_0_2: 1\n",
      "0_moment_normalized_0_2_2: 1\n",
      "0_moment_normalized_3_0_1: 1\n",
      "0_perc_10_intensity: 1\n",
      "0_perc_40_intensity: 1\n",
      "0_perc_70_intensity: 1\n",
      "0_perc_90_intensity: 1\n",
      "0_std_intensity: 1\n",
      "2-edges_moment_normalized_1_2_3: 3\n",
      "2-memb_haralick_mean_DifferenceEntropy: 3\n",
      "2-memb_haralick_mean_InfoMeas2: 2\n",
      "2_moment_normalized_2_2_2: 3\n",
      "2_perc_20_intensity: 2\n",
      "2_perc_25_intensity: 2\n",
      "2_perc_40_intensity: 2\n",
      "2-clahe_haralick_mean_Contrast: 2\n",
      "2-edges_moment_normalized_3_2_2: 2\n",
      "0_moment_normalized_2_0_1: 1\n",
      "0_moment_normalized_2_1_1: 1\n",
      "2-edges_moment_normalized_2_3_1: 2\n",
      "0-memb_moment_normalized_2_1_1: 1\n",
      "0-memb_moment_normalized_2_3_2: 1\n",
      "0-memb_moment_normalized_3_1_0: 1\n",
      "0_haralick_peak2peak_InverseDifferenceMoment: 1\n",
      "0_moment_normalized_1_2_0: 1\n",
      "2-clahe_moment_normalized_1_0_1: 1\n",
      "2-clahe_moment_normalized_2_0_1: 1\n",
      "2-clahe_moment_normalized_3_3_1: 2\n",
      "2-edges_moment_normalized_1_0_1: 1\n",
      "2-edges_moment_normalized_2_2_1: 2\n",
      "2-edges_moment_normalized_3_2_1: 2\n",
      "2_moment_normalized_2_3_1: 2\n",
      "2-clahe_haralick_mean_AngularSecondMoment: 1\n",
      "2-clahe_moment_normalized_0_3_1: 1\n",
      "2-clahe_moment_normalized_0_3_3: 1\n",
      "2-clahe_moment_normalized_1_0_3: 1\n",
      "2-clahe_moment_normalized_1_1_2: 1\n",
      "2-clahe_moment_normalized_1_1_3: 1\n",
      "2-clahe_moment_normalized_1_2_1: 1\n",
      "2-clahe_moment_normalized_1_2_2: 1\n",
      "2-clahe_moment_normalized_1_2_3: 1\n",
      "2-clahe_moment_normalized_1_3_0: 1\n",
      "2-clahe_moment_normalized_1_3_3: 1\n",
      "2-clahe_moment_normalized_2_0_3: 1\n",
      "2-clahe_moment_normalized_2_1_2: 1\n",
      "2-clahe_moment_normalized_2_1_3: 1\n",
      "2-clahe_moment_normalized_2_2_1: 1\n",
      "2-clahe_moment_normalized_2_2_3: 1\n",
      "2-clahe_moment_normalized_2_3_0: 1\n",
      "2-clahe_moment_normalized_2_3_1: 1\n",
      "2-clahe_moment_normalized_2_3_3: 1\n",
      "2-clahe_moment_normalized_3_0_2: 1\n",
      "2-clahe_moment_normalized_3_0_3: 1\n",
      "2-clahe_moment_normalized_3_1_0: 1\n",
      "2-clahe_moment_normalized_3_1_1: 1\n",
      "2-clahe_moment_normalized_3_1_2: 1\n",
      "2-clahe_moment_normalized_3_1_3: 1\n",
      "2-clahe_moment_normalized_3_2_0: 1\n",
      "2-clahe_moment_normalized_3_2_1: 1\n",
      "2-clahe_moment_normalized_3_2_3: 1\n",
      "2-clahe_moment_normalized_3_3_0: 1\n",
      "2-clahe_moment_normalized_3_3_2: 1\n",
      "2-clahe_moment_normalized_3_3_3: 1\n",
      "2-edges_moment_normalized_1_0_3: 1\n",
      "2-edges_moment_normalized_1_1_1: 1\n",
      "2-edges_moment_normalized_1_1_2: 1\n",
      "2-edges_moment_normalized_1_1_3: 1\n",
      "2-edges_moment_normalized_2_0_1: 1\n",
      "2-edges_moment_normalized_2_1_2: 1\n",
      "2-edges_moment_normalized_2_1_3: 1\n",
      "2-edges_moment_normalized_2_2_3: 1\n",
      "2-edges_moment_normalized_2_3_0: 1\n",
      "2-edges_moment_normalized_2_3_2: 1\n",
      "2-edges_moment_normalized_2_3_3: 1\n",
      "2-edges_moment_normalized_3_0_1: 1\n",
      "2-edges_moment_normalized_3_0_2: 1\n",
      "2-edges_moment_normalized_3_0_3: 1\n",
      "2-edges_moment_normalized_3_1_0: 1\n",
      "2-edges_moment_normalized_3_1_1: 1\n",
      "2-edges_moment_normalized_3_1_2: 1\n",
      "2-edges_moment_normalized_3_3_0: 1\n",
      "2-edges_moment_normalized_3_3_2: 1\n",
      "2-edges_perc_20_intensity: 1\n",
      "2_moment_normalized_2_2_3: 1\n",
      "2_moment_normalized_2_3_0: 1\n",
      "2_moment_normalized_2_3_2: 1\n",
      "2_moment_normalized_2_3_3: 1\n",
      "2_moment_normalized_3_0_1: 1\n",
      "2_moment_normalized_3_0_2: 1\n",
      "2_moment_normalized_3_0_3: 1\n",
      "2_moment_normalized_3_1_0: 1\n",
      "2_moment_normalized_3_1_1: 1\n",
      "2_moment_normalized_3_1_3: 1\n",
      "2_moment_normalized_3_2_0: 1\n",
      "2_moment_normalized_3_2_1: 1\n",
      "2_moment_normalized_3_2_2: 1\n",
      "2_moment_normalized_3_2_3: 1\n"
     ]
    }
   ],
   "source": [
    "for k,v in features_dict.items():\n",
    "    print(\"{}: {}\".format(k, len(v)))"
   ]
  },
  {
   "cell_type": "markdown",
   "metadata": {},
   "source": [
    "### Filter by occurance features\n",
    "\n",
    "Winner over 7 occurances. Neighbours present simmilar level of scores"
   ]
  },
  {
   "cell_type": "code",
   "execution_count": 51,
   "metadata": {
    "collapsed": true,
    "jupyter": {
     "outputs_hidden": true
    }
   },
   "outputs": [
    {
     "name": "stderr",
     "output_type": "stream",
     "text": [
      "[Parallel(n_jobs=-1)]: Using backend LokyBackend with 8 concurrent workers.\n",
      "[Parallel(n_jobs=-1)]: Done   2 out of   5 | elapsed:   11.6s remaining:   17.3s\n",
      "[Parallel(n_jobs=-1)]: Done   5 out of   5 | elapsed:   11.8s finished\n",
      "[Parallel(n_jobs=-1)]: Using backend LokyBackend with 8 concurrent workers.\n",
      "[Parallel(n_jobs=-1)]: Done   2 out of   5 | elapsed:    9.6s remaining:   14.4s\n",
      "[Parallel(n_jobs=-1)]: Done   5 out of   5 | elapsed:   10.0s finished\n",
      "[Parallel(n_jobs=-1)]: Using backend LokyBackend with 8 concurrent workers.\n",
      "[Parallel(n_jobs=-1)]: Done   2 out of   5 | elapsed:    9.7s remaining:   14.5s\n",
      "[Parallel(n_jobs=-1)]: Done   5 out of   5 | elapsed:   10.0s finished\n",
      "[Parallel(n_jobs=-1)]: Using backend LokyBackend with 8 concurrent workers.\n",
      "[Parallel(n_jobs=-1)]: Done   2 out of   5 | elapsed:   10.3s remaining:   15.4s\n"
     ]
    },
    {
     "name": "stdout",
     "output_type": "stream",
     "text": [
      "KFold F-score: 0.64 (+/- 0.04), Precision: 0.64 (+/- 0.14), Recall: 0.64 (+/- 0.11)\n",
      "StratifiedKFold F-score: 0.63 (+/- 0.05), Precision: 0.64 (+/- 0.12), Recall: 0.63 (+/- 0.09)\n",
      "GroupKFold F-score: 0.62 (+/- 0.11), Precision: 0.63 (+/- 0.25), Recall: 0.64 (+/- 0.21)\n",
      "GroupShuffleSplit F-score: 0.61 (+/- 0.06), Precision: 0.68 (+/- 0.20), Recall: 0.57 (+/- 0.11)\n"
     ]
    },
    {
     "name": "stderr",
     "output_type": "stream",
     "text": [
      "[Parallel(n_jobs=-1)]: Done   5 out of   5 | elapsed:   10.5s finished\n"
     ]
    }
   ],
   "source": [
    "ds.set_features(base_feature_list)\n",
    "cv_image_results = {}\n",
    "for cv in cross_val_per_image:\n",
    "    cv_image_results[cv] = cross_validate(models['baseline'], X=ds.data, y=ds.data_cls, cv=cross_val_per_image[cv], groups=group_by_image(ds.data), scoring=SCORES_LIST, verbose=1, n_jobs=-1)\n",
    "    for name, scores in cv_image_results.items():\n",
    "    print_scores(name, scores)"
   ]
  },
  {
   "cell_type": "code",
   "execution_count": 52,
   "metadata": {},
   "outputs": [
    {
     "name": "stdout",
     "output_type": "stream",
     "text": [
      "5\n"
     ]
    },
    {
     "name": "stderr",
     "output_type": "stream",
     "text": [
      "[Parallel(n_jobs=-1)]: Using backend LokyBackend with 8 concurrent workers.\n",
      "[Parallel(n_jobs=-1)]: Done   2 out of   5 | elapsed:    4.5s remaining:    6.7s\n",
      "[Parallel(n_jobs=-1)]: Done   5 out of   5 | elapsed:    4.8s finished\n",
      "[Parallel(n_jobs=-1)]: Using backend LokyBackend with 8 concurrent workers.\n",
      "[Parallel(n_jobs=-1)]: Done   2 out of   5 | elapsed:    4.3s remaining:    6.5s\n",
      "[Parallel(n_jobs=-1)]: Done   5 out of   5 | elapsed:    4.5s finished\n",
      "[Parallel(n_jobs=-1)]: Using backend LokyBackend with 8 concurrent workers.\n",
      "[Parallel(n_jobs=-1)]: Done   2 out of   5 | elapsed:    4.7s remaining:    7.0s\n",
      "[Parallel(n_jobs=-1)]: Done   5 out of   5 | elapsed:    4.9s finished\n",
      "[Parallel(n_jobs=-1)]: Using backend LokyBackend with 8 concurrent workers.\n"
     ]
    },
    {
     "name": "stdout",
     "output_type": "stream",
     "text": [
      "KFold F-score: 0.59 (+/- 0.06), Precision: 0.55 (+/- 0.10), Recall: 0.64 (+/- 0.05)\n",
      "StratifiedKFold F-score: 0.58 (+/- 0.04), Precision: 0.54 (+/- 0.08), Recall: 0.63 (+/- 0.07)\n",
      "GroupKFold F-score: 0.58 (+/- 0.19), Precision: 0.57 (+/- 0.31), Recall: 0.65 (+/- 0.24)\n",
      "GroupShuffleSplit F-score: 0.60 (+/- 0.08), Precision: 0.66 (+/- 0.12), Recall: 0.55 (+/- 0.11)\n"
     ]
    },
    {
     "name": "stderr",
     "output_type": "stream",
     "text": [
      "[Parallel(n_jobs=-1)]: Done   2 out of   5 | elapsed:    4.8s remaining:    7.2s\n",
      "[Parallel(n_jobs=-1)]: Done   5 out of   5 | elapsed:    5.0s finished\n"
     ]
    }
   ],
   "source": [
    "selected = select_features_by_occurance_count(9).keys()\n",
    "print(len(selected))\n",
    "ds.set_features(selected)\n",
    "cv_image_results = {}\n",
    "for cv in cross_val_per_image:\n",
    "    cv_image_results[cv] = cross_validate(models['baseline'], X=ds.data, y=ds.data_cls, cv=cross_val_per_image[cv], groups=group_by_image(ds.data), scoring=SCORES_LIST, verbose=1, n_jobs=-1)\n",
    "for name, scores in cv_image_results.items():\n",
    "    print_scores(name, scores)"
   ]
  },
  {
   "cell_type": "code",
   "execution_count": 53,
   "metadata": {},
   "outputs": [
    {
     "name": "stderr",
     "output_type": "stream",
     "text": [
      "[Parallel(n_jobs=-1)]: Using backend LokyBackend with 8 concurrent workers.\n"
     ]
    },
    {
     "name": "stdout",
     "output_type": "stream",
     "text": [
      "9\n"
     ]
    },
    {
     "name": "stderr",
     "output_type": "stream",
     "text": [
      "[Parallel(n_jobs=-1)]: Done   2 out of   5 | elapsed:    5.5s remaining:    8.3s\n",
      "[Parallel(n_jobs=-1)]: Done   5 out of   5 | elapsed:    5.6s finished\n",
      "[Parallel(n_jobs=-1)]: Using backend LokyBackend with 8 concurrent workers.\n",
      "[Parallel(n_jobs=-1)]: Done   2 out of   5 | elapsed:    5.4s remaining:    8.1s\n",
      "[Parallel(n_jobs=-1)]: Done   5 out of   5 | elapsed:    5.6s finished\n",
      "[Parallel(n_jobs=-1)]: Using backend LokyBackend with 8 concurrent workers.\n",
      "[Parallel(n_jobs=-1)]: Done   2 out of   5 | elapsed:    5.4s remaining:    8.1s\n",
      "[Parallel(n_jobs=-1)]: Done   5 out of   5 | elapsed:    5.5s finished\n",
      "[Parallel(n_jobs=-1)]: Using backend LokyBackend with 8 concurrent workers.\n"
     ]
    },
    {
     "name": "stdout",
     "output_type": "stream",
     "text": [
      "KFold F-score: 0.66 (+/- 0.08), Precision: 0.64 (+/- 0.09), Recall: 0.68 (+/- 0.10)\n",
      "StratifiedKFold F-score: 0.66 (+/- 0.07), Precision: 0.64 (+/- 0.08), Recall: 0.68 (+/- 0.07)\n",
      "GroupKFold F-score: 0.63 (+/- 0.17), Precision: 0.66 (+/- 0.35), Recall: 0.68 (+/- 0.30)\n",
      "GroupShuffleSplit F-score: 0.65 (+/- 0.11), Precision: 0.77 (+/- 0.22), Recall: 0.57 (+/- 0.15)\n"
     ]
    },
    {
     "name": "stderr",
     "output_type": "stream",
     "text": [
      "[Parallel(n_jobs=-1)]: Done   2 out of   5 | elapsed:    5.7s remaining:    8.5s\n",
      "[Parallel(n_jobs=-1)]: Done   5 out of   5 | elapsed:    5.9s finished\n"
     ]
    }
   ],
   "source": [
    "selected = select_features_by_occurance_count(8).keys()\n",
    "print(len(selected))\n",
    "ds.set_features(selected)\n",
    "cv_image_results = {}\n",
    "for cv in cross_val_per_image:\n",
    "    cv_image_results[cv] = cross_validate(models['baseline'], X=ds.data, y=ds.data_cls, cv=cross_val_per_image[cv], groups=group_by_image(ds.data), scoring=SCORES_LIST, verbose=1, n_jobs=-1)\n",
    "for name, scores in cv_image_results.items():\n",
    "    print_scores(name, scores)"
   ]
  },
  {
   "cell_type": "code",
   "execution_count": 54,
   "metadata": {},
   "outputs": [
    {
     "name": "stdout",
     "output_type": "stream",
     "text": [
      "26\n"
     ]
    },
    {
     "name": "stderr",
     "output_type": "stream",
     "text": [
      "[Parallel(n_jobs=-1)]: Using backend LokyBackend with 8 concurrent workers.\n",
      "[Parallel(n_jobs=-1)]: Done   2 out of   5 | elapsed:    7.2s remaining:   10.7s\n",
      "[Parallel(n_jobs=-1)]: Done   5 out of   5 | elapsed:    7.4s finished\n",
      "[Parallel(n_jobs=-1)]: Using backend LokyBackend with 8 concurrent workers.\n",
      "[Parallel(n_jobs=-1)]: Done   2 out of   5 | elapsed:    6.9s remaining:   10.3s\n",
      "[Parallel(n_jobs=-1)]: Done   5 out of   5 | elapsed:    7.2s finished\n",
      "[Parallel(n_jobs=-1)]: Using backend LokyBackend with 8 concurrent workers.\n",
      "[Parallel(n_jobs=-1)]: Done   2 out of   5 | elapsed:    6.9s remaining:   10.4s\n",
      "[Parallel(n_jobs=-1)]: Done   5 out of   5 | elapsed:    7.0s finished\n",
      "[Parallel(n_jobs=-1)]: Using backend LokyBackend with 8 concurrent workers.\n"
     ]
    },
    {
     "name": "stdout",
     "output_type": "stream",
     "text": [
      "KFold F-score: 0.68 (+/- 0.07), Precision: 0.68 (+/- 0.14), Recall: 0.68 (+/- 0.11)\n",
      "StratifiedKFold F-score: 0.68 (+/- 0.08), Precision: 0.69 (+/- 0.14), Recall: 0.67 (+/- 0.09)\n",
      "GroupKFold F-score: 0.66 (+/- 0.11), Precision: 0.68 (+/- 0.23), Recall: 0.68 (+/- 0.28)\n",
      "GroupShuffleSplit F-score: 0.66 (+/- 0.10), Precision: 0.75 (+/- 0.20), Recall: 0.60 (+/- 0.15)\n"
     ]
    },
    {
     "name": "stderr",
     "output_type": "stream",
     "text": [
      "[Parallel(n_jobs=-1)]: Done   2 out of   5 | elapsed:    7.3s remaining:   10.9s\n",
      "[Parallel(n_jobs=-1)]: Done   5 out of   5 | elapsed:    7.5s finished\n"
     ]
    }
   ],
   "source": [
    "selected = select_features_by_occurance_count(7).keys()\n",
    "print(len(selected))\n",
    "ds.set_features(selected)\n",
    "cv_image_results = {}\n",
    "for cv in cross_val_per_image:\n",
    "    cv_image_results[cv] = cross_validate(models['baseline'], X=ds.data, y=ds.data_cls, cv=cross_val_per_image[cv], groups=group_by_image(ds.data), scoring=SCORES_LIST, verbose=1, n_jobs=-1)\n",
    "for name, scores in cv_image_results.items():\n",
    "    print_scores(name, scores)"
   ]
  },
  {
   "cell_type": "code",
   "execution_count": 55,
   "metadata": {},
   "outputs": [
    {
     "name": "stderr",
     "output_type": "stream",
     "text": [
      "[Parallel(n_jobs=-1)]: Using backend LokyBackend with 8 concurrent workers.\n"
     ]
    },
    {
     "name": "stdout",
     "output_type": "stream",
     "text": [
      "54\n"
     ]
    },
    {
     "name": "stderr",
     "output_type": "stream",
     "text": [
      "[Parallel(n_jobs=-1)]: Done   2 out of   5 | elapsed:    9.0s remaining:   13.5s\n",
      "[Parallel(n_jobs=-1)]: Done   5 out of   5 | elapsed:    9.1s finished\n",
      "[Parallel(n_jobs=-1)]: Using backend LokyBackend with 8 concurrent workers.\n",
      "[Parallel(n_jobs=-1)]: Done   2 out of   5 | elapsed:    8.6s remaining:   12.9s\n",
      "[Parallel(n_jobs=-1)]: Done   5 out of   5 | elapsed:    8.8s finished\n",
      "[Parallel(n_jobs=-1)]: Using backend LokyBackend with 8 concurrent workers.\n",
      "[Parallel(n_jobs=-1)]: Done   2 out of   5 | elapsed:    8.7s remaining:   13.0s\n",
      "[Parallel(n_jobs=-1)]: Done   5 out of   5 | elapsed:    8.9s finished\n",
      "[Parallel(n_jobs=-1)]: Using backend LokyBackend with 8 concurrent workers.\n"
     ]
    },
    {
     "name": "stdout",
     "output_type": "stream",
     "text": [
      "KFold F-score: 0.68 (+/- 0.09), Precision: 0.70 (+/- 0.16), Recall: 0.66 (+/- 0.13)\n",
      "StratifiedKFold F-score: 0.68 (+/- 0.09), Precision: 0.71 (+/- 0.12), Recall: 0.66 (+/- 0.11)\n",
      "GroupKFold F-score: 0.65 (+/- 0.10), Precision: 0.71 (+/- 0.24), Recall: 0.64 (+/- 0.23)\n",
      "GroupShuffleSplit F-score: 0.65 (+/- 0.07), Precision: 0.77 (+/- 0.16), Recall: 0.56 (+/- 0.10)\n"
     ]
    },
    {
     "name": "stderr",
     "output_type": "stream",
     "text": [
      "[Parallel(n_jobs=-1)]: Done   2 out of   5 | elapsed:    9.3s remaining:   14.0s\n",
      "[Parallel(n_jobs=-1)]: Done   5 out of   5 | elapsed:    9.5s finished\n"
     ]
    }
   ],
   "source": [
    "selected = select_features_by_occurance_count(6).keys()\n",
    "print(len(selected))\n",
    "ds.set_features(selected)\n",
    "cv_image_results = {}\n",
    "for cv in cross_val_per_image:\n",
    "    cv_image_results[cv] = cross_validate(models['baseline'], X=ds.data, y=ds.data_cls, cv=cross_val_per_image[cv], groups=group_by_image(ds.data), scoring=SCORES_LIST, verbose=1, n_jobs=-1)\n",
    "for name, scores in cv_image_results.items():\n",
    "    print_scores(name, scores)"
   ]
  },
  {
   "cell_type": "code",
   "execution_count": 56,
   "metadata": {
    "collapsed": true,
    "jupyter": {
     "outputs_hidden": true
    }
   },
   "outputs": [
    {
     "name": "stderr",
     "output_type": "stream",
     "text": [
      "[Parallel(n_jobs=-1)]: Using backend LokyBackend with 8 concurrent workers.\n"
     ]
    },
    {
     "name": "stdout",
     "output_type": "stream",
     "text": [
      "110\n"
     ]
    },
    {
     "name": "stderr",
     "output_type": "stream",
     "text": [
      "[Parallel(n_jobs=-1)]: Done   2 out of   5 | elapsed:   11.4s remaining:   17.1s\n",
      "[Parallel(n_jobs=-1)]: Done   5 out of   5 | elapsed:   11.6s finished\n",
      "[Parallel(n_jobs=-1)]: Using backend LokyBackend with 8 concurrent workers.\n",
      "[Parallel(n_jobs=-1)]: Done   2 out of   5 | elapsed:   11.6s remaining:   17.4s\n",
      "[Parallel(n_jobs=-1)]: Done   5 out of   5 | elapsed:   11.8s finished\n",
      "[Parallel(n_jobs=-1)]: Using backend LokyBackend with 8 concurrent workers.\n",
      "[Parallel(n_jobs=-1)]: Done   2 out of   5 | elapsed:   11.2s remaining:   16.7s\n",
      "[Parallel(n_jobs=-1)]: Done   5 out of   5 | elapsed:   11.4s finished\n",
      "[Parallel(n_jobs=-1)]: Using backend LokyBackend with 8 concurrent workers.\n",
      "[Parallel(n_jobs=-1)]: Done   2 out of   5 | elapsed:   12.6s remaining:   18.8s\n"
     ]
    },
    {
     "name": "stdout",
     "output_type": "stream",
     "text": [
      "KFold F-score: 0.68 (+/- 0.06), Precision: 0.72 (+/- 0.10), Recall: 0.65 (+/- 0.13)\n",
      "StratifiedKFold F-score: 0.67 (+/- 0.07), Precision: 0.72 (+/- 0.07), Recall: 0.64 (+/- 0.11)\n",
      "GroupKFold F-score: 0.65 (+/- 0.13), Precision: 0.70 (+/- 0.20), Recall: 0.65 (+/- 0.26)\n",
      "GroupShuffleSplit F-score: 0.65 (+/- 0.10), Precision: 0.76 (+/- 0.14), Recall: 0.57 (+/- 0.14)\n"
     ]
    },
    {
     "name": "stderr",
     "output_type": "stream",
     "text": [
      "[Parallel(n_jobs=-1)]: Done   5 out of   5 | elapsed:   13.2s finished\n"
     ]
    }
   ],
   "source": [
    "selected = select_features_by_occurance_count(5).keys()\n",
    "print(len(selected))\n",
    "ds.set_features(selected)\n",
    "cv_image_results = {}\n",
    "for cv in cross_val_per_image:\n",
    "    cv_image_results[cv] = cross_validate(models['baseline'], X=ds.data, y=ds.data_cls, cv=cross_val_per_image[cv], groups=group_by_image(ds.data), scoring=SCORES_LIST, verbose=1, n_jobs=-1)\n",
    "for name, scores in cv_image_results.items():\n",
    "    print_scores(name, scores)"
   ]
  },
  {
   "cell_type": "code",
   "execution_count": null,
   "metadata": {},
   "outputs": [],
   "source": [
    "selected = select_features_by_occurance_count(4).keys()\n",
    "print(len(selected))\n",
    "ds.set_features(selected)\n",
    "cv_image_results = {}\n",
    "for cv in cross_val_per_image:\n",
    "    cv_image_results[cv] = cross_validate(models['baseline'], X=ds.data, y=ds.data_cls, cv=cross_val_per_image[cv], groups=group_by_image(ds.data), scoring=SCORES_LIST, verbose=1, n_jobs=-1)\n",
    "for name, scores in cv_image_results.items():\n",
    "    print_scores(name, scores)"
   ]
  },
  {
   "cell_type": "markdown",
   "metadata": {},
   "source": [
    "## Verify impact of PCA augmented dataset\n",
    "\n",
    "no significant impact on selected feature set"
   ]
  },
  {
   "cell_type": "code",
   "execution_count": 28,
   "metadata": {},
   "outputs": [
    {
     "data": {
      "text/html": [
       "        <script type=\"text/javascript\">\n",
       "        window.PlotlyConfig = {MathJaxConfig: 'local'};\n",
       "        if (window.MathJax) {MathJax.Hub.Config({SVG: {font: \"STIX-Web\"}});}\n",
       "        if (typeof require !== 'undefined') {\n",
       "        require.undef(\"plotly\");\n",
       "        requirejs.config({\n",
       "            paths: {\n",
       "                'plotly': ['https://cdn.plot.ly/plotly-latest.min']\n",
       "            }\n",
       "        });\n",
       "        require(['plotly'], function(Plotly) {\n",
       "            window._Plotly = Plotly;\n",
       "        });\n",
       "        }\n",
       "        </script>\n",
       "        "
      ]
     },
     "metadata": {},
     "output_type": "display_data"
    }
   ],
   "source": [
    "from projector import calculate_pca, calculate_tsne, plot_scatter_3d_plotly, plot_scatter_3d"
   ]
  },
  {
   "cell_type": "code",
   "execution_count": 54,
   "metadata": {},
   "outputs": [],
   "source": [
    "selected = select_features_by_occurance_count(7).keys()\n",
    "ds.set_features(selected)"
   ]
  },
  {
   "cell_type": "code",
   "execution_count": 82,
   "metadata": {},
   "outputs": [
    {
     "data": {
      "text/plain": [
       "['0-memb_haralick_mean_Variance',\n",
       " '2-clahe_haralick_peak2peak_SumVariance',\n",
       " '2-clahe_moment_normalized_0_2_2',\n",
       " '2-edges_haralick_mean_AngularSecondMoment',\n",
       " '2-edges_mad_intensity',\n",
       " '2-memb_haralick_peak2peak_SumAverage',\n",
       " '2-memb_moment_normalized_0_2_1',\n",
       " '2-memb_moment_normalized_1_2_3',\n",
       " '2_haralick_mean_DifferenceEntropy',\n",
       " '2_haralick_mean_Entropy',\n",
       " '2_haralick_peak2peak_Correlation',\n",
       " '2_haralick_peak2peak_DifferenceEntropy',\n",
       " '2_haralick_peak2peak_SumVariance',\n",
       " '2_moment_normalized_2_0_0',\n",
       " '0-memb_haralick_mean_InfoMeas2',\n",
       " '2-clahe_haralick_peak2peak_Contrast',\n",
       " '2-edges_haralick_peak2peak_Contrast',\n",
       " '2-memb_haralick_mean_InfoMeas1',\n",
       " '2-memb_haralick_mean_Variance',\n",
       " '2-memb_haralick_peak2peak_Contrast',\n",
       " '2-memb_haralick_peak2peak_DifferenceVariance',\n",
       " '2_haralick_mean_Contrast',\n",
       " '2_haralick_mean_Correlation',\n",
       " '2_haralick_mean_SumAverage',\n",
       " '2_haralick_mean_Variance',\n",
       " '2_haralick_peak2peak_InfoMeas1']"
      ]
     },
     "execution_count": 82,
     "metadata": {},
     "output_type": "execute_result"
    }
   ],
   "source": [
    "selected"
   ]
  },
  {
   "cell_type": "code",
   "execution_count": 63,
   "metadata": {},
   "outputs": [
    {
     "name": "stderr",
     "output_type": "stream",
     "text": [
      "2019-08-09 14:00:42,384 [4763] INFO     projector: Calculating t-SNE\n"
     ]
    }
   ],
   "source": [
    "tsne = calculate_tsne(pca[pca.columns.difference(['class'])], pca[\"class\"])"
   ]
  },
  {
   "cell_type": "markdown",
   "metadata": {},
   "source": [
    "### PCA augmented with _Entropy\n",
    "\n",
    "decrease"
   ]
  },
  {
   "cell_type": "code",
   "execution_count": 60,
   "metadata": {},
   "outputs": [],
   "source": [
    "features = [f for f in all_features if '_Entropy' in f]\n",
    "ds.set_features(features)"
   ]
  },
  {
   "cell_type": "code",
   "execution_count": 61,
   "metadata": {},
   "outputs": [
    {
     "name": "stderr",
     "output_type": "stream",
     "text": [
      "2019-08-09 15:21:13,015 [20652] INFO     projector: Calculating PCA\n"
     ]
    }
   ],
   "source": [
    "pca_entropy = calculate_pca(ds.data, ds.data_cls, 3)"
   ]
  },
  {
   "cell_type": "code",
   "execution_count": null,
   "metadata": {},
   "outputs": [],
   "source": [
    "plot_scatter_3d_plotly(pca_entropy, 2000)"
   ]
  },
  {
   "cell_type": "code",
   "execution_count": 62,
   "metadata": {},
   "outputs": [
    {
     "name": "stdout",
     "output_type": "stream",
     "text": [
      "KFold F-score: 0.49 (+/- 0.08), Precision: 0.43 (+/- 0.07), Recall: 0.58 (+/- 0.12)\n",
      "StratifiedKFold F-score: 0.49 (+/- 0.08), Precision: 0.43 (+/- 0.06), Recall: 0.58 (+/- 0.10)\n",
      "GroupKFold F-score: 0.52 (+/- 0.28), Precision: 0.50 (+/- 0.36), Recall: 0.62 (+/- 0.31)\n",
      "GroupShuffleSplit F-score: 0.48 (+/- 0.16), Precision: 0.55 (+/- 0.19), Recall: 0.44 (+/- 0.19)\n"
     ]
    }
   ],
   "source": [
    "# only PCA _entropy\n",
    "cv_image_results = {}\n",
    "for cv in cross_val_per_image:\n",
    "    cv_image_results[cv] = cross_validate(models['baseline'], X=pca_entropy[pca_entropy.columns.difference(['class'])],\n",
    "                                          y=pca_entropy[\"class\"], cv=cross_val_per_image[cv], groups=group_by_image(ds.data), scoring=SCORES_LIST, n_jobs=-1)\n",
    "for name, scores in cv_image_results.items():\n",
    "    print_scores(name, scores)"
   ]
  },
  {
   "cell_type": "code",
   "execution_count": 63,
   "metadata": {},
   "outputs": [],
   "source": [
    "ds.set_features(selected)\n",
    "data = ds.data.copy()\n",
    "with_pca = data.join(pca_entropy[pca_entropy.columns.difference(['class'])])"
   ]
  },
  {
   "cell_type": "code",
   "execution_count": 66,
   "metadata": {},
   "outputs": [
    {
     "name": "stdout",
     "output_type": "stream",
     "text": [
      "KFold F-score: 0.67 (+/- 0.07), Precision: 0.67 (+/- 0.14), Recall: 0.68 (+/- 0.11)\n",
      "StratifiedKFold F-score: 0.68 (+/- 0.05), Precision: 0.68 (+/- 0.10), Recall: 0.68 (+/- 0.08)\n",
      "GroupKFold F-score: 0.65 (+/- 0.11), Precision: 0.66 (+/- 0.19), Recall: 0.68 (+/- 0.29)\n",
      "GroupShuffleSplit F-score: 0.64 (+/- 0.11), Precision: 0.72 (+/- 0.16), Recall: 0.59 (+/- 0.15)\n"
     ]
    }
   ],
   "source": [
    "# PCA entropy with selected features\n",
    "cv_image_results = {}\n",
    "for cv in cross_val_per_image:\n",
    "    cv_image_results[cv] = cross_validate(models['baseline'], X=with_pca, y=ds.data_cls, cv=cross_val_per_image[cv], groups=group_by_image(ds.data), scoring=SCORES_LIST, n_jobs=-1)\n",
    "for name, scores in cv_image_results.items():\n",
    "    print_scores(name, scores)"
   ]
  },
  {
   "cell_type": "code",
   "execution_count": 70,
   "metadata": {},
   "outputs": [
    {
     "name": "stderr",
     "output_type": "stream",
     "text": [
      "2019-08-09 15:23:22,399 [20652] INFO     projector: Calculating PCA\n"
     ]
    }
   ],
   "source": [
    "pca = calculate_pca(with_pca, ds.data_cls, 3)"
   ]
  },
  {
   "cell_type": "code",
   "execution_count": null,
   "metadata": {},
   "outputs": [],
   "source": [
    "plot_scatter_3d_plotly(pca, 2000)"
   ]
  },
  {
   "cell_type": "markdown",
   "metadata": {},
   "source": [
    "### features with PCA from DifferenceEntropy\n",
    "\n",
    "more less the same"
   ]
  },
  {
   "cell_type": "code",
   "execution_count": 72,
   "metadata": {},
   "outputs": [],
   "source": [
    "features = [f for f in all_features if 'DifferenceEntropy' in f]\n",
    "ds.set_features(features)"
   ]
  },
  {
   "cell_type": "code",
   "execution_count": 75,
   "metadata": {},
   "outputs": [
    {
     "name": "stderr",
     "output_type": "stream",
     "text": [
      "2019-08-09 15:29:22,962 [20652] INFO     projector: Calculating PCA\n"
     ]
    }
   ],
   "source": [
    "pca_DifferenceEntropy = calculate_pca(ds.data, ds.data_cls, 3)"
   ]
  },
  {
   "cell_type": "code",
   "execution_count": 76,
   "metadata": {},
   "outputs": [
    {
     "name": "stdout",
     "output_type": "stream",
     "text": [
      "KFold F-score: 0.52 (+/- 0.05), Precision: 0.45 (+/- 0.07), Recall: 0.62 (+/- 0.05)\n",
      "StratifiedKFold F-score: 0.52 (+/- 0.02), Precision: 0.45 (+/- 0.03), Recall: 0.62 (+/- 0.06)\n",
      "GroupKFold F-score: 0.49 (+/- 0.23), Precision: 0.45 (+/- 0.26), Recall: 0.61 (+/- 0.33)\n",
      "GroupShuffleSplit F-score: 0.51 (+/- 0.18), Precision: 0.51 (+/- 0.21), Recall: 0.55 (+/- 0.25)\n"
     ]
    }
   ],
   "source": [
    "# only PCA DifferenceEntropy\n",
    "cv_image_results = {}\n",
    "for cv in cross_val_per_image:\n",
    "    cv_image_results[cv] = cross_validate(models['baseline'], X=pca_DifferenceEntropy[pca_DifferenceEntropy.columns.difference(['class'])],\n",
    "                                          y=pca_DifferenceEntropy[\"class\"], cv=cross_val_per_image[cv], groups=group_by_image(ds.data), scoring=SCORES_LIST, n_jobs=-1)\n",
    "for name, scores in cv_image_results.items():\n",
    "    print_scores(name, scores)"
   ]
  },
  {
   "cell_type": "code",
   "execution_count": 77,
   "metadata": {},
   "outputs": [],
   "source": [
    "ds.set_features(selected)\n",
    "data = ds.data.copy()\n",
    "with_pca = data.join(pca_DifferenceEntropy[pca_DifferenceEntropy.columns.difference(['class'])])"
   ]
  },
  {
   "cell_type": "code",
   "execution_count": 78,
   "metadata": {},
   "outputs": [
    {
     "name": "stdout",
     "output_type": "stream",
     "text": [
      "KFold F-score: 0.68 (+/- 0.06), Precision: 0.68 (+/- 0.15), Recall: 0.67 (+/- 0.09)\n",
      "StratifiedKFold F-score: 0.68 (+/- 0.03), Precision: 0.68 (+/- 0.09), Recall: 0.68 (+/- 0.05)\n",
      "GroupKFold F-score: 0.66 (+/- 0.12), Precision: 0.68 (+/- 0.23), Recall: 0.68 (+/- 0.27)\n",
      "GroupShuffleSplit F-score: 0.65 (+/- 0.10), Precision: 0.74 (+/- 0.20), Recall: 0.59 (+/- 0.13)\n"
     ]
    }
   ],
   "source": [
    "# PCA DifferenceEntropy with selected features\n",
    "cv_image_results = {}\n",
    "for cv in cross_val_per_image:\n",
    "    cv_image_results[cv] = cross_validate(models['baseline'], X=with_pca, y=ds.data_cls, cv=cross_val_per_image[cv], groups=group_by_image(ds.data), scoring=SCORES_LIST, n_jobs=-1)\n",
    "for name, scores in cv_image_results.items():\n",
    "    print_scores(name, scores)"
   ]
  },
  {
   "cell_type": "code",
   "execution_count": null,
   "metadata": {},
   "outputs": [],
   "source": [
    "plot_scatter_3d_plotly(pca_DifferenceEntropy, 2000)"
   ]
  },
  {
   "cell_type": "code",
   "execution_count": null,
   "metadata": {},
   "outputs": [],
   "source": [
    "pca = calculate_pca(with_pca, ds.data_cls, 3)\n",
    "plot_scatter_3d_plotly(pca)"
   ]
  },
  {
   "cell_type": "markdown",
   "metadata": {},
   "source": [
    "### features with PCA from AngularSecondMoment\n",
    "\n",
    "no sifgnificance impact"
   ]
  },
  {
   "cell_type": "code",
   "execution_count": 82,
   "metadata": {},
   "outputs": [
    {
     "name": "stderr",
     "output_type": "stream",
     "text": [
      "2019-08-09 15:44:46,868 [20652] INFO     projector: Calculating PCA\n"
     ]
    }
   ],
   "source": [
    "features = [f for f in all_features if 'AngularSecondMoment' in f]\n",
    "ds.set_features(features)\n",
    "pca_AngularSecondMoment = calculate_pca(ds.data, ds.data_cls, 3)"
   ]
  },
  {
   "cell_type": "code",
   "execution_count": 83,
   "metadata": {},
   "outputs": [
    {
     "name": "stdout",
     "output_type": "stream",
     "text": [
      "KFold F-score: 0.51 (+/- 0.04), Precision: 0.45 (+/- 0.04), Recall: 0.60 (+/- 0.13)\n",
      "StratifiedKFold F-score: 0.51 (+/- 0.06), Precision: 0.45 (+/- 0.10), Recall: 0.59 (+/- 0.13)\n",
      "GroupKFold F-score: 0.48 (+/- 0.28), Precision: 0.47 (+/- 0.30), Recall: 0.61 (+/- 0.40)\n",
      "GroupShuffleSplit F-score: 0.51 (+/- 0.17), Precision: 0.56 (+/- 0.12), Recall: 0.49 (+/- 0.25)\n"
     ]
    }
   ],
   "source": [
    "# only PCA AngularSecondMoment\n",
    "cv_image_results = {}\n",
    "for cv in cross_val_per_image:\n",
    "    cv_image_results[cv] = cross_validate(models['baseline'], X=pca_AngularSecondMoment[pca_AngularSecondMoment.columns.difference(['class'])],\n",
    "                                          y=pca_AngularSecondMoment[\"class\"], cv=cross_val_per_image[cv], groups=group_by_image(ds.data), scoring=SCORES_LIST, n_jobs=-1)\n",
    "for name, scores in cv_image_results.items():\n",
    "    print_scores(name, scores)"
   ]
  },
  {
   "cell_type": "code",
   "execution_count": 84,
   "metadata": {},
   "outputs": [],
   "source": [
    "ds.set_features(selected)\n",
    "data = ds.data.copy()\n",
    "with_pca = data.join(pca_DifferenceEntropy[pca_DifferenceEntropy.columns.difference(['class'])])"
   ]
  },
  {
   "cell_type": "code",
   "execution_count": 85,
   "metadata": {},
   "outputs": [
    {
     "name": "stdout",
     "output_type": "stream",
     "text": [
      "KFold F-score: 0.68 (+/- 0.06), Precision: 0.68 (+/- 0.15), Recall: 0.67 (+/- 0.09)\n",
      "StratifiedKFold F-score: 0.68 (+/- 0.03), Precision: 0.68 (+/- 0.09), Recall: 0.68 (+/- 0.05)\n",
      "GroupKFold F-score: 0.66 (+/- 0.12), Precision: 0.68 (+/- 0.23), Recall: 0.68 (+/- 0.27)\n",
      "GroupShuffleSplit F-score: 0.65 (+/- 0.10), Precision: 0.74 (+/- 0.20), Recall: 0.59 (+/- 0.13)\n"
     ]
    }
   ],
   "source": [
    "# PCA AngularSecondMoment with selected features\n",
    "cv_image_results = {}\n",
    "for cv in cross_val_per_image:\n",
    "    cv_image_results[cv] = cross_validate(models['baseline'], X=with_pca, y=ds.data_cls, cv=cross_val_per_image[cv], groups=group_by_image(ds.data), scoring=SCORES_LIST, n_jobs=-1)\n",
    "for name, scores in cv_image_results.items():\n",
    "    print_scores(name, scores)"
   ]
  },
  {
   "cell_type": "code",
   "execution_count": null,
   "metadata": {},
   "outputs": [],
   "source": [
    "plot_scatter_3d_plotly(pca_AngularSecondMoment, 2000)"
   ]
  },
  {
   "cell_type": "code",
   "execution_count": null,
   "metadata": {},
   "outputs": [],
   "source": [
    "pca = calculate_pca(with_pca, ds.data_cls, 3)\n",
    "plot_scatter_3d_plotly(pca)"
   ]
  },
  {
   "cell_type": "markdown",
   "metadata": {},
   "source": [
    "# feature correlation"
   ]
  },
  {
   "cell_type": "code",
   "execution_count": 39,
   "metadata": {},
   "outputs": [],
   "source": [
    "import seaborn as sns"
   ]
  },
  {
   "cell_type": "code",
   "execution_count": 51,
   "metadata": {},
   "outputs": [
    {
     "data": {
      "text/plain": [
       "<matplotlib.axes._subplots.AxesSubplot at 0x7f0023bc95c0>"
      ]
     },
     "execution_count": 51,
     "metadata": {},
     "output_type": "execute_result"
    },
    {
     "data": {
      "image/png": "[encoded data removed]",
      "text/plain": [
       "<Figure size 720x576 with 2 Axes>"
      ]
     },
     "metadata": {
      "needs_background": "light"
     },
     "output_type": "display_data"
    }
   ],
   "source": [
    "ds.set_features(select_features_by_occurance_count(7).keys())\n",
    "\n",
    "f, ax = plt.subplots(figsize=(10, 8))\n",
    "corr = ds.data.corr()\n",
    "sns.heatmap(corr, mask=np.zeros_like(corr, dtype=np.bool), cmap=sns.diverging_palette(220, 10, as_cmap=True),\n",
    "            square=True, ax=ax)"
   ]
  },
  {
   "cell_type": "markdown",
   "metadata": {},
   "source": [
    "# Inbanance"
   ]
  },
  {
   "cell_type": "code",
   "execution_count": 103,
   "metadata": {},
   "outputs": [],
   "source": [
    "from imblearn.over_sampling import SMOTE, BorderlineSMOTE, ADASYN\n"
   ]
  },
  {
   "cell_type": "code",
   "execution_count": 24,
   "metadata": {},
   "outputs": [],
   "source": [
    "selected = ['0-memb_haralick_mean_Variance', '2-clahe_haralick_peak2peak_SumVariance', '2-clahe_moment_normalized_0_2_2', '2-edges_haralick_mean_AngularSecondMoment', '2-edges_mad_intensity', '2-memb_haralick_peak2peak_SumAverage', '2-memb_moment_normalized_0_2_1', '2-memb_moment_normalized_1_2_3', '2_haralick_mean_DifferenceEntropy', '2_haralick_mean_Entropy', '2_haralick_peak2peak_Correlation', '2_haralick_peak2peak_DifferenceEntropy', '2_haralick_peak2peak_SumVariance', '2_moment_normalized_2_0_0', '0-memb_haralick_mean_InfoMeas2', '2-clahe_haralick_peak2peak_Contrast', '2-edges_haralick_peak2peak_Contrast', '2-memb_haralick_mean_InfoMeas1', '2-memb_haralick_mean_Variance', '2-memb_haralick_peak2peak_Contrast', '2-memb_haralick_peak2peak_DifferenceVariance', '2_haralick_mean_Contrast', '2_haralick_mean_Correlation', '2_haralick_mean_SumAverage', '2_haralick_mean_Variance', '2_haralick_peak2peak_InfoMeas1']"
   ]
  },
  {
   "cell_type": "code",
   "execution_count": 16,
   "metadata": {},
   "outputs": [
    {
     "ename": "NameError",
     "evalue": "name 'select_features_by_occurance_count' is not defined",
     "output_type": "error",
     "traceback": [
      "\u001b[0;31m---------------------------------------------------------------------------\u001b[0m",
      "\u001b[0;31mNameError\u001b[0m                                 Traceback (most recent call last)",
      "\u001b[0;32m<ipython-input-16-2ddeebd1e4ba>\u001b[0m in \u001b[0;36m<module>\u001b[0;34m\u001b[0m\n\u001b[0;32m----> 1\u001b[0;31m \u001b[0mds\u001b[0m\u001b[0;34m.\u001b[0m\u001b[0mset_features\u001b[0m\u001b[0;34m(\u001b[0m\u001b[0mselect_features_by_occurance_count\u001b[0m\u001b[0;34m(\u001b[0m\u001b[0;36m7\u001b[0m\u001b[0;34m)\u001b[0m\u001b[0;34m.\u001b[0m\u001b[0mkeys\u001b[0m\u001b[0;34m(\u001b[0m\u001b[0;34m)\u001b[0m\u001b[0;34m)\u001b[0m\u001b[0;34m\u001b[0m\u001b[0;34m\u001b[0m\u001b[0m\n\u001b[0m",
      "\u001b[0;31mNameError\u001b[0m: name 'select_features_by_occurance_count' is not defined"
     ]
    }
   ],
   "source": [
    "ds.set_features(select_features_by_occurance_count(7).keys())"
   ]
  },
  {
   "cell_type": "code",
   "execution_count": 83,
   "metadata": {},
   "outputs": [],
   "source": [
    "ds.set_features(selected)"
   ]
  },
  {
   "cell_type": "code",
   "execution_count": 28,
   "metadata": {},
   "outputs": [],
   "source": [
    "X_res, Y_res = sm.fit_resample(ds.data, ds.data_cls)"
   ]
  },
  {
   "cell_type": "code",
   "execution_count": 29,
   "metadata": {},
   "outputs": [
    {
     "data": {
      "text/plain": [
       "((27590, 112), (27590,))"
      ]
     },
     "execution_count": 29,
     "metadata": {},
     "output_type": "execute_result"
    }
   ],
   "source": [
    "X_res.shape, Y_res.shape\n"
   ]
  },
  {
   "cell_type": "code",
   "execution_count": 31,
   "metadata": {},
   "outputs": [],
   "source": [
    "from collections import Counter"
   ]
  },
  {
   "cell_type": "code",
   "execution_count": 32,
   "metadata": {},
   "outputs": [
    {
     "data": {
      "text/plain": [
       "Counter({0: 13795, 1: 13795})"
      ]
     },
     "execution_count": 32,
     "metadata": {},
     "output_type": "execute_result"
    }
   ],
   "source": [
    "Counter(Y_res)"
   ]
  },
  {
   "cell_type": "code",
   "execution_count": 33,
   "metadata": {},
   "outputs": [
    {
     "name": "stdout",
     "output_type": "stream",
     "text": [
      "KFold F-score: 0.85 (+/- 0.35), Precision: 0.78 (+/- 0.51), Recall: 0.99 (+/- 0.01)\n",
      "StratifiedKFold F-score: 0.99 (+/- 0.00), Precision: 0.98 (+/- 0.00), Recall: 1.00 (+/- 0.00)\n"
     ]
    }
   ],
   "source": [
    "cv_image_results = {}\n",
    "for cv in cross_val_not_grouped:\n",
    "    cv_image_results[cv] = cross_validate(models['baseline'], X=X_res, y=Y_res, cv=cross_val_not_grouped[cv], scoring=SCORES_LIST, n_jobs=-1)\n",
    "for name, scores in cv_image_results.items():\n",
    "    print_scores(name, scores)"
   ]
  },
  {
   "cell_type": "code",
   "execution_count": null,
   "metadata": {},
   "outputs": [],
   "source": [
    "def print_scores(classifier_output, test_indexes):\n",
    "    f1 = sklearn.metrics.f1_score(ds.data_cls[test_indexes], classifier_output)\n",
    "    prec = sklearn.metrics.precision_score(ds.data_cls[test_indexes], classifier_output)\n",
    "    recall = sklearn.metrics.recall_score(ds.data_cls[test_indexes], classifier_output)\n",
    "    print()"
   ]
  },
  {
   "cell_type": "code",
   "execution_count": 34,
   "metadata": {},
   "outputs": [],
   "source": [
    "images_by_names = list(set(group_by_image(ds.data)))"
   ]
  },
  {
   "cell_type": "code",
   "execution_count": 112,
   "metadata": {},
   "outputs": [],
   "source": [
    "# sm = SMOTE(sampling_strategy=0.3, k_neighbors=2, random_state=42, n_jobs=-1)\n",
    "sm = ADASYN(sampling_strategy=0.3, n_neighbors=3,random_state=42, n_jobs=-1)\n",
    "# BorderlineSMOTE\n",
    "\n",
    "score = {\n",
    "    \"test_f1\": [],\n",
    "    \"test_precision\": [],\n",
    "    \"test_recall\": [],\n",
    "}\n",
    "test_images_no = 2\n",
    "for index in range(0, len(images_by_names), test_images_no):\n",
    "    test_images = images_by_names[index:index+test_images_no]\n",
    "    train_images = list(set(images_by_names).difference(set(test_images)))\n",
    "    test_indexes = []\n",
    "    train_indexes = []\n",
    "    for idx in ds.data.index.get_level_values(0):\n",
    "        test_indexes.append(True if idx in test_images else False)\n",
    "        train_indexes.append(True if idx in train_images else False)\n",
    "\n",
    "    X_res, Y_res = sm.fit_resample(ds.data[train_indexes], ds.data_cls[train_indexes])  \n",
    "    model = models['baseline'].fit(X_res, Y_res)\n",
    "#     model = models['baseline'].fit(ds.data[train_indexes], ds.data_cls[train_indexes])\n",
    "    predicted = model.predict(ds.data[test_indexes])\n",
    "    \n",
    "    score[\"test_f1\"].append(sklearn.metrics.f1_score(ds.data_cls[test_indexes], predicted))\n",
    "    score[\"test_precision\"].append(sklearn.metrics.precision_score(ds.data_cls[test_indexes], predicted))\n",
    "    score[\"test_recall\"].append(sklearn.metrics.recall_score(ds.data_cls[test_indexes], predicted))\n",
    "    "
   ]
  },
  {
   "cell_type": "code",
   "execution_count": 38,
   "metadata": {},
   "outputs": [
    {
     "name": "stdout",
     "output_type": "stream",
     "text": [
      "KFold F-score: 0.85 (+/- 0.35), Precision: 0.78 (+/- 0.51), Recall: 0.99 (+/- 0.01)\n",
      "StratifiedKFold F-score: 0.99 (+/- 0.00), Precision: 0.98 (+/- 0.00), Recall: 1.00 (+/- 0.00)\n"
     ]
    }
   ],
   "source": [
    "cv_image_results = {}\n",
    "for cv in cross_val_not_grouped:\n",
    "    cv_image_results[cv] = cross_validate(models['baseline'], X=X_res, y=Y_res, cv=cross_val_not_grouped[cv], scoring=SCORES_LIST, n_jobs=-1)\n",
    "for name, scores in cv_image_results.items():\n",
    "    print_scores(name, scores)"
   ]
  },
  {
   "cell_type": "code",
   "execution_count": 97,
   "metadata": {},
   "outputs": [
    {
     "name": "stdout",
     "output_type": "stream",
     "text": [
      "smote F-score: 0.62 (+/- 0.23), Precision: 0.52 (+/- 0.29), Recall: 0.79 (+/- 0.14)\n"
     ]
    }
   ],
   "source": [
    "# 1:1\n",
    "for k in score.keys():\n",
    "    score[k] = np.array(score[k])\n",
    "print_scores(\"smote\", score)"
   ]
  },
  {
   "cell_type": "code",
   "execution_count": 92,
   "metadata": {},
   "outputs": [
    {
     "name": "stdout",
     "output_type": "stream",
     "text": [
      "smote F-score: 0.61 (+/- 0.21), Precision: 0.52 (+/- 0.25), Recall: 0.78 (+/- 0.16)\n"
     ]
    }
   ],
   "source": [
    "# 0.3\n",
    "for k in score.keys():\n",
    "    score[k] = np.array(score[k])\n",
    "print_scores(\"smote\", score)"
   ]
  },
  {
   "cell_type": "code",
   "execution_count": 94,
   "metadata": {},
   "outputs": [
    {
     "name": "stdout",
     "output_type": "stream",
     "text": [
      "smote F-score: 0.63 (+/- 0.21), Precision: 0.57 (+/- 0.28), Recall: 0.74 (+/- 0.18)\n"
     ]
    }
   ],
   "source": [
    "# 0.1\n",
    "for k in score.keys():\n",
    "    score[k] = np.array(score[k])\n",
    "print_scores(\"smote\", score)"
   ]
  },
  {
   "cell_type": "code",
   "execution_count": 85,
   "metadata": {},
   "outputs": [
    {
     "name": "stdout",
     "output_type": "stream",
     "text": [
      "smote F-score: 0.67 (+/- 0.11), Precision: 0.70 (+/- 0.21), Recall: 0.67 (+/- 0.23)\n"
     ]
    }
   ],
   "source": [
    "# default \n",
    "for k in score.keys():\n",
    "    score[k] = np.array(score[k])\n",
    "print_scores(\"smote\", score)"
   ]
  },
  {
   "cell_type": "code",
   "execution_count": 102,
   "metadata": {},
   "outputs": [
    {
     "name": "stdout",
     "output_type": "stream",
     "text": [
      "smote F-score: 0.62 (+/- 0.20), Precision: 0.55 (+/- 0.27), Recall: 0.75 (+/- 0.14)\n"
     ]
    }
   ],
   "source": [
    "# 0.3 k_naigbors = 2\n",
    "for k in score.keys():\n",
    "    score[k] = np.array(score[k])\n",
    "print_scores(\"smote\", score)"
   ]
  },
  {
   "cell_type": "code",
   "execution_count": 105,
   "metadata": {},
   "outputs": [
    {
     "name": "stdout",
     "output_type": "stream",
     "text": [
      "smote F-score: 0.61 (+/- 0.19), Precision: 0.50 (+/- 0.23), Recall: 0.80 (+/- 0.12)\n"
     ]
    }
   ],
   "source": [
    "# ADASYN 1:1\n",
    "for k in score.keys():\n",
    "    score[k] = np.array(score[k])\n",
    "print_scores(\"smote\", score)"
   ]
  },
  {
   "cell_type": "code",
   "execution_count": 107,
   "metadata": {},
   "outputs": [
    {
     "name": "stdout",
     "output_type": "stream",
     "text": [
      "smote F-score: 0.60 (+/- 0.21), Precision: 0.50 (+/- 0.26), Recall: 0.80 (+/- 0.12)\n"
     ]
    }
   ],
   "source": [
    "# ADASYN 0.3\n",
    "for k in score.keys():\n",
    "    score[k] = np.array(score[k])\n",
    "print_scores(\"smote\", score)"
   ]
  },
  {
   "cell_type": "code",
   "execution_count": 109,
   "metadata": {},
   "outputs": [
    {
     "name": "stdout",
     "output_type": "stream",
     "text": [
      "smote F-score: 0.63 (+/- 0.22), Precision: 0.56 (+/- 0.32), Recall: 0.77 (+/- 0.14)\n"
     ]
    }
   ],
   "source": [
    "# ADASYN 0.1\n",
    "for k in score.keys():\n",
    "    score[k] = np.array(score[k])\n",
    "print_scores(\"smote\", score)"
   ]
  },
  {
   "cell_type": "code",
   "execution_count": 111,
   "metadata": {},
   "outputs": [
    {
     "name": "stdout",
     "output_type": "stream",
     "text": [
      "smote F-score: 0.63 (+/- 0.21), Precision: 0.56 (+/- 0.30), Recall: 0.75 (+/- 0.18)\n"
     ]
    }
   ],
   "source": [
    "# ADASYN 0.1 neighbours=3\n",
    "for k in score.keys():\n",
    "    score[k] = np.array(score[k])\n",
    "print_scores(\"smote\", score)"
   ]
  },
  {
   "cell_type": "code",
   "execution_count": 113,
   "metadata": {},
   "outputs": [
    {
     "name": "stdout",
     "output_type": "stream",
     "text": [
      "smote F-score: 0.62 (+/- 0.20), Precision: 0.52 (+/- 0.26), Recall: 0.79 (+/- 0.13)\n"
     ]
    }
   ],
   "source": [
    "# ADASYN 0.3 neighbours=3\n",
    "for k in score.keys():\n",
    "    score[k] = np.array(score[k])\n",
    "print_scores(\"smote\", score)"
   ]
  },
  {
   "cell_type": "code",
   "execution_count": null,
   "metadata": {},
   "outputs": [],
   "source": []
  }
 ],
 "metadata": {
  "kernelspec": {
   "display_name": "Python 3",
   "language": "python",
   "name": "python3"
  },
  "language_info": {
   "codemirror_mode": {
    "name": "ipython",
    "version": 3
   },
   "file_extension": ".py",
   "mimetype": "text/x-python",
   "name": "python",
   "nbconvert_exporter": "python",
   "pygments_lexer": "ipython3",
   "version": "3.6.8"
  }
 },
 "nbformat": 4,
 "nbformat_minor": 4
}
